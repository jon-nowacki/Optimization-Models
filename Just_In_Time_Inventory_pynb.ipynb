{
  "nbformat": 4,
  "nbformat_minor": 0,
  "metadata": {
    "colab": {
      "provenance": [],
      "authorship_tag": "ABX9TyNuT4YXqA3It1I9psW7rorV",
      "include_colab_link": true
    },
    "kernelspec": {
      "name": "python3",
      "display_name": "Python 3"
    },
    "language_info": {
      "name": "python"
    }
  },
  "cells": [
    {
      "cell_type": "markdown",
      "metadata": {
        "id": "view-in-github",
        "colab_type": "text"
      },
      "source": [
        "<a href=\"https://colab.research.google.com/github/jon-nowacki/Optimization-Models/blob/main/Just_In_Time_Inventory_pynb.ipynb\" target=\"_parent\"><img src=\"https://colab.research.google.com/assets/colab-badge.svg\" alt=\"Open In Colab\"/></a>"
      ]
    },
    {
      "cell_type": "markdown",
      "source": [
        "# Inventory Cost Minimization & Time Series\n",
        "\n",
        "Inventory Cost Minimization with Time Series\n",
        "\n",
        "Given a time-series of monthly forecasted demand, minimize the total cost of inventory, assuming the for each unit\n",
        "\n",
        "* Holding cost: $2 / month\n",
        "\n",
        "* Purchase price: $5 / unit\n",
        "\n",
        "Variables\n",
        "* 𝑝_𝑖_  : \"Number of units of inventory to purchase for month \" 𝑖\n",
        "* 𝑒_𝑖_ : Number of units of inventory held at the end of month 𝑖\n",
        "Parameters\n",
        "* 𝑑_𝑖_ : Demand for month 𝑖\n",
        "\n",
        "Contraints:\n",
        "* inventory = previous months inventory + purchased - demand\n",
        "\n"
      ],
      "metadata": {
        "id": "Gi2PWQjQ6qNh"
      }
    },
    {
      "cell_type": "markdown",
      "source": [
        "### Install Dependencies\n",
        "* 14 seconds\n",
        "* 14 seconds\n",
        "\n",
        "Total\n",
        "* 30 seconds"
      ],
      "metadata": {
        "id": "nq_bsTB8_q9o"
      }
    },
    {
      "cell_type": "code",
      "source": [
        "!pip install pyomo > /dev/null"
      ],
      "metadata": {
        "id": "4na-lvQ-61ra"
      },
      "execution_count": null,
      "outputs": []
    },
    {
      "cell_type": "code",
      "source": [
        "!apt-get install -y -qq glpk-utils > /dev/null\n"
      ],
      "metadata": {
        "id": "CjEJY0Oo9wge"
      },
      "execution_count": null,
      "outputs": []
    },
    {
      "cell_type": "markdown",
      "source": [
        "### Import Pyomo Code"
      ],
      "metadata": {
        "id": "SM-g-f-46119"
      }
    },
    {
      "cell_type": "code",
      "source": [
        "from pyomo.environ import *\n",
        "from pyomo.opt import SolverFactory"
      ],
      "metadata": {
        "id": "zSug_yJZ94bj"
      },
      "execution_count": null,
      "outputs": []
    },
    {
      "cell_type": "markdown",
      "source": [
        "### Minimization Model\n",
        "\n",
        "Do not modify, this is working code. This is the only code to comment out:\n",
        "\n",
        "```\n",
        "model.constraints.add(model.purchase_qty[month]>=5) # none of the months have ZERO ORDER !??!?!?!?\n",
        "```"
      ],
      "metadata": {
        "id": "t8FbQpQaD8fh"
      }
    },
    {
      "cell_type": "code",
      "source": [
        "model=ConcreteModel(name='Inventory-MIN')\n",
        "demand=[4,3,2,1,2,3,4] # Time series prediction\n",
        "months=len(demand)\n",
        "\n",
        "holding_cost=1\n",
        "\n",
        "purchase_cost=2\n",
        "\n",
        "model.purchase_qty=Var(range(months), domain=NonNegativeIntegers) # Not NonNegativeReals\n",
        "\n",
        "# ending quantity of inventory per month\n",
        "model.end_inventory=Var(range(months), domain=NonNegativeIntegers)\n",
        "\n",
        "model.cost=Objective(expr=sum(\n",
        "    model.purchase_qty[month]* # Purchase quantity\n",
        "    purchase_cost+ # Purchase price\n",
        "    model.end_inventory[month]* # previous inventory\n",
        "    holding_cost # Holding cost\n",
        "    for month in range(1,months,1)), sense=minimize) # start at 1, stop at months, iterate by 1\n",
        "\n",
        "model.constraints=ConstraintList() # empty list of constraints\n",
        "\n",
        "model.constraints.add(model.end_inventory[0] == 0)\n",
        "\n",
        "minimum_inventory=3\n",
        "for month in range(1,months,1):\n",
        "  next_end_inventory = model.end_inventory[month-1]+model.purchase_qty[month]-demand[month]\n",
        "  model.constraints.add(model.end_inventory[month] == next_end_inventory)\n",
        "  # here is where we define a minimum inventory level\n",
        "  model.constraints.add(model.end_inventory[month]>=minimum_inventory)\n",
        "  # must buy in bulk\n",
        "  model.constraints.add(model.purchase_qty[month]>=5) # none of the months have ZERO ORDER !??!?!?!?\n",
        "# Solve the model\n",
        "SolverFactory('glpk',executable='/usr/bin/glpsol').solve(model).write()\n",
        "\n",
        "buffer=\"# ---------------------------------------------\"\n",
        "print(\"\")\n",
        "print(buffer)\n",
        "print(\"# How much we purchase every month\")\n",
        "model.purchase_qty.display()\n",
        "print(\"\")\n",
        "print(buffer)\n",
        "print(\"# Inventory at end of month\")\n",
        "model.end_inventory.display()\n",
        "print(buffer)\n",
        "print(\"# Cost\")\n",
        "print(buffer)\n",
        "model.cost.display()"
      ],
      "metadata": {
        "colab": {
          "base_uri": "https://localhost:8080/"
        },
        "id": "1GOe1QvlDG-w",
        "outputId": "ecb5173a-7f90-4d01-bc89-96bd7f6eb157"
      },
      "execution_count": null,
      "outputs": [
        {
          "output_type": "stream",
          "name": "stdout",
          "text": [
            "# ==========================================================\n",
            "# = Solver Results                                         =\n",
            "# ==========================================================\n",
            "# ----------------------------------------------------------\n",
            "#   Problem Information\n",
            "# ----------------------------------------------------------\n",
            "Problem: \n",
            "- Name: unknown\n",
            "  Lower bound: 125.0\n",
            "  Upper bound: 125.0\n",
            "  Number of objectives: 1\n",
            "  Number of constraints: 19\n",
            "  Number of variables: 13\n",
            "  Number of nonzeros: 31\n",
            "  Sense: minimize\n",
            "# ----------------------------------------------------------\n",
            "#   Solver Information\n",
            "# ----------------------------------------------------------\n",
            "Solver: \n",
            "- Status: ok\n",
            "  Termination condition: optimal\n",
            "  Statistics: \n",
            "    Branch and bound: \n",
            "      Number of bounded subproblems: 1\n",
            "      Number of created subproblems: 1\n",
            "  Error rc: 0\n",
            "  Time: 0.017571210861206055\n",
            "# ----------------------------------------------------------\n",
            "#   Solution Information\n",
            "# ----------------------------------------------------------\n",
            "Solution: \n",
            "- number of solutions: 0\n",
            "  number of solutions displayed: 0\n",
            "\n",
            "# ---------------------------------------------\n",
            "# How much we purchase every month\n",
            "purchase_qty : Size=7, Index=purchase_qty_index\n",
            "    Key : Lower : Value : Upper : Fixed : Stale : Domain\n",
            "      0 :     0 :  None :  None : False :  True : NonNegativeIntegers\n",
            "      1 :     0 :   6.0 :  None : False : False : NonNegativeIntegers\n",
            "      2 :     0 :   5.0 :  None : False : False : NonNegativeIntegers\n",
            "      3 :     0 :   5.0 :  None : False : False : NonNegativeIntegers\n",
            "      4 :     0 :   5.0 :  None : False : False : NonNegativeIntegers\n",
            "      5 :     0 :   5.0 :  None : False : False : NonNegativeIntegers\n",
            "      6 :     0 :   5.0 :  None : False : False : NonNegativeIntegers\n",
            "\n",
            "# ---------------------------------------------\n",
            "# Inventory at end of month\n",
            "end_inventory : Size=7, Index=end_inventory_index\n",
            "    Key : Lower : Value : Upper : Fixed : Stale : Domain\n",
            "      0 :     0 :   0.0 :  None : False : False : NonNegativeIntegers\n",
            "      1 :     0 :   3.0 :  None : False : False : NonNegativeIntegers\n",
            "      2 :     0 :   6.0 :  None : False : False : NonNegativeIntegers\n",
            "      3 :     0 :  10.0 :  None : False : False : NonNegativeIntegers\n",
            "      4 :     0 :  13.0 :  None : False : False : NonNegativeIntegers\n",
            "      5 :     0 :  15.0 :  None : False : False : NonNegativeIntegers\n",
            "      6 :     0 :  16.0 :  None : False : False : NonNegativeIntegers\n",
            "# ---------------------------------------------\n",
            "# Cost\n",
            "# ---------------------------------------------\n",
            "cost : Size=1, Index=None, Active=True\n",
            "    Key  : Active : Value\n",
            "    None :   True : 125.0\n"
          ]
        }
      ]
    },
    {
      "cell_type": "markdown",
      "source": [
        "### Bulk Purchase Optimizing\n",
        "This section is in development"
      ],
      "metadata": {
        "id": "AcgDGHd_EUXs"
      }
    },
    {
      "cell_type": "code",
      "source": [
        "from pyomo.environ import *\n",
        "\n",
        "model = ConcreteModel(name='Inventory-MIN')\n",
        "demand = [4, 3, 2, 1, 2, 3, 4]\n",
        "months = len(demand)\n",
        "\n",
        "holding_cost = 1\n",
        "purchase_cost = 2\n",
        "\n",
        "model.purchase_qty = Var(range(months), domain=NonNegativeIntegers)\n",
        "model.end_inventory = Var(range(months), domain=NonNegativeIntegers)\n",
        "model.indicator = Var(range(months), domain=Binary)\n",
        "\n",
        "model.cost = Objective(expr=sum(\n",
        "    model.purchase_qty[month] * purchase_cost +\n",
        "    model.end_inventory[month] * holding_cost\n",
        "    for month in range(1, months)\n",
        "), sense=minimize)\n",
        "\n",
        "model.constraints = ConstraintList()\n",
        "model.constraints.add(model.end_inventory[0] == 0)\n",
        "\n",
        "minimum_inventory = 3\n",
        "min_purchase_quantity = 5\n",
        "\n",
        "for month in range(1, months):\n",
        "    next_end_inventory = model.end_inventory[month - 1] + model.purchase_qty[month] - demand[month - 1]\n",
        "    model.constraints.add(model.end_inventory[month] == next_end_inventory)\n",
        "    model.constraints.add(model.end_inventory[month] >= minimum_inventory)\n",
        "\n",
        "\n",
        "\n",
        "    # Ensure purchase quantity is at least 'min_purchase_quantity' if demand exceeds inventory\n",
        "    M = 1000  # A large constant to handle the indicator constraint\n",
        "    model.constraints.add(\n",
        "        model.purchase_qty[month] >= min_purchase_quantity - M * (1 - model.indicator[month])\n",
        "    )\n",
        "    model.constraints.add(\n",
        "        demand[month] - model.end_inventory[month] <= M * model.indicator[month]\n",
        "    )\n",
        "\n",
        "# Solve the model\n",
        "SolverFactory('glpk', executable='/usr/bin/glpsol').solve(model).write()\n",
        "\n",
        "buffer=\"# ---------------------------------------------\"\n",
        "print(\"\")\n",
        "print(buffer)\n",
        "print(\"# How much we purchase every month\")\n",
        "print(buffer)\n",
        "model.purchase_qty.display()\n",
        "print(\"\")\n",
        "print(buffer)\n",
        "print(\"# Inventory at end of month\")\n",
        "print(buffer)\n",
        "model.end_inventory.display()\n",
        "print(buffer)\n",
        "print(\"# Cost\")\n",
        "print(buffer)\n",
        "model.cost.display()"
      ],
      "metadata": {
        "colab": {
          "base_uri": "https://localhost:8080/"
        },
        "id": "3Pn2CDjma7Wp",
        "outputId": "57d785f7-c063-4f6d-e755-f58e311d3cbb"
      },
      "execution_count": null,
      "outputs": [
        {
          "output_type": "stream",
          "name": "stdout",
          "text": [
            "# ==========================================================\n",
            "# = Solver Results                                         =\n",
            "# ==========================================================\n",
            "# ----------------------------------------------------------\n",
            "#   Problem Information\n",
            "# ----------------------------------------------------------\n",
            "Problem: \n",
            "- Name: unknown\n",
            "  Lower bound: 57.0\n",
            "  Upper bound: 57.0\n",
            "  Number of objectives: 1\n",
            "  Number of constraints: 25\n",
            "  Number of variables: 19\n",
            "  Number of nonzeros: 49\n",
            "  Sense: minimize\n",
            "# ----------------------------------------------------------\n",
            "#   Solver Information\n",
            "# ----------------------------------------------------------\n",
            "Solver: \n",
            "- Status: ok\n",
            "  Termination condition: optimal\n",
            "  Statistics: \n",
            "    Branch and bound: \n",
            "      Number of bounded subproblems: 1\n",
            "      Number of created subproblems: 1\n",
            "  Error rc: 0\n",
            "  Time: 0.005289793014526367\n",
            "# ----------------------------------------------------------\n",
            "#   Solution Information\n",
            "# ----------------------------------------------------------\n",
            "Solution: \n",
            "- number of solutions: 0\n",
            "  number of solutions displayed: 0\n",
            "\n",
            "# ---------------------------------------------\n",
            "# How much we purchase every month\n",
            "# ---------------------------------------------\n",
            "purchase_qty : Size=7, Index=purchase_qty_index\n",
            "    Key : Lower : Value : Upper : Fixed : Stale : Domain\n",
            "      0 :     0 :  None :  None : False :  True : NonNegativeIntegers\n",
            "      1 :     0 :   7.0 :  None : False : False : NonNegativeIntegers\n",
            "      2 :     0 :   3.0 :  None : False : False : NonNegativeIntegers\n",
            "      3 :     0 :   2.0 :  None : False : False : NonNegativeIntegers\n",
            "      4 :     0 :   1.0 :  None : False : False : NonNegativeIntegers\n",
            "      5 :     0 :   2.0 :  None : False : False : NonNegativeIntegers\n",
            "      6 :     0 :   4.0 :  None : False : False : NonNegativeIntegers\n",
            "\n",
            "# ---------------------------------------------\n",
            "# Inventory at end of month\n",
            "# ---------------------------------------------\n",
            "end_inventory : Size=7, Index=end_inventory_index\n",
            "    Key : Lower : Value : Upper : Fixed : Stale : Domain\n",
            "      0 :     0 :   0.0 :  None : False : False : NonNegativeIntegers\n",
            "      1 :     0 :   3.0 :  None : False : False : NonNegativeIntegers\n",
            "      2 :     0 :   3.0 :  None : False : False : NonNegativeIntegers\n",
            "      3 :     0 :   3.0 :  None : False : False : NonNegativeIntegers\n",
            "      4 :     0 :   3.0 :  None : False : False : NonNegativeIntegers\n",
            "      5 :     0 :   3.0 :  None : False : False : NonNegativeIntegers\n",
            "      6 :     0 :   4.0 :  None : False : False : NonNegativeIntegers\n",
            "# ---------------------------------------------\n",
            "# Cost\n",
            "# ---------------------------------------------\n",
            "cost : Size=1, Index=None, Active=True\n",
            "    Key  : Active : Value\n",
            "    None :   True :  57.0\n"
          ]
        }
      ]
    },
    {
      "cell_type": "markdown",
      "source": [
        "### Scratch\n",
        "I do not care about this code, development only"
      ],
      "metadata": {
        "id": "D5366NUuIYgC"
      }
    },
    {
      "cell_type": "code",
      "source": [],
      "metadata": {
        "id": "nO4_Bk01Hbfv"
      },
      "execution_count": null,
      "outputs": []
    }
  ]
}