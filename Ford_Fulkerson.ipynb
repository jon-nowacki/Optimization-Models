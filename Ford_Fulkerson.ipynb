{
  "nbformat": 4,
  "nbformat_minor": 0,
  "metadata": {
    "colab": {
      "provenance": [],
      "authorship_tag": "ABX9TyPLTbUfyklb3rg/vkdYq/rv",
      "include_colab_link": true
    },
    "kernelspec": {
      "name": "python3",
      "display_name": "Python 3"
    },
    "language_info": {
      "name": "python"
    }
  },
  "cells": [
    {
      "cell_type": "markdown",
      "metadata": {
        "id": "view-in-github",
        "colab_type": "text"
      },
      "source": [
        "<a href=\"https://colab.research.google.com/github/jon-nowacki/Optimization-Models/blob/main/Ford_Fulkerson.ipynb\" target=\"_parent\"><img src=\"https://colab.research.google.com/assets/colab-badge.svg\" alt=\"Open In Colab\"/></a>"
      ]
    },
    {
      "cell_type": "markdown",
      "source": [
        "# Ford-Fulkerson\n",
        "\n",
        "This code demonstrates the Ford-Fulkerson algorithm using Pyomo to solve a flow network problem. It creates a Pyomo model, defines decision variables, an objective function, capacity constraints, and flow conservation constraints to find the maximum flow from a specified source node to a sink node in a given flow network represented by capacities. Adjust the capacities and source/sink nodes as needed for your specific network."
      ],
      "metadata": {
        "id": "_7LbE1jz9tqS"
      }
    },
    {
      "cell_type": "code",
      "source": [
        "!pip install -q pyomo > /dev/null\n",
        "!apt-get install -y -qq glpk-utils > /dev/null"
      ],
      "metadata": {
        "id": "yloB7AM29vuR"
      },
      "execution_count": 2,
      "outputs": []
    },
    {
      "cell_type": "code",
      "source": [
        "from pyomo.environ import *\n",
        "\n",
        "# Create a function to run the Ford-Fulkerson algorithm\n",
        "def ford_fulkerson(capacity, source, sink):\n",
        "    # Create the Pyomo model\n",
        "    model = ConcreteModel()\n",
        "\n",
        "    # Set of nodes\n",
        "    nodes = sorted(list(set([i for i, j in capacity.keys()] + [j for i, j in capacity.keys()])))\n",
        "\n",
        "    # Define the decision variables: flow between nodes\n",
        "    model.flow = Var(nodes, nodes, within=NonNegativeReals)\n",
        "\n",
        "    # Define the objective function: maximize flow to the sink\n",
        "    def obj_rule(model):\n",
        "        # Maximize the flow entering the sink and minimize flow leaving the sink\n",
        "        return sum(model.flow[i, sink] for i in nodes if (i, sink) in capacity) - sum(model.flow[sink, j] for j in nodes if (sink, j) in capacity)\n",
        "    model.obj = Objective(rule=obj_rule, sense=maximize)\n",
        "\n",
        "    # Define the constraints (capacity constraints and flow conservation)\n",
        "    def capacity_constraints_rule(model, i, j):\n",
        "        # Capacity constraints: flow on each edge must be within the specified capacity\n",
        "        return (0, model.flow[i, j], capacity.get((i, j), 0))\n",
        "    model.capacity_constraints = Constraint(capacity.keys(), rule=capacity_constraints_rule)\n",
        "\n",
        "    def flow_conservation_rule(model, node):\n",
        "        # Flow conservation at each node except source and sink\n",
        "        if node != source and node != sink:\n",
        "            # Flow into the node must equal flow out of the node\n",
        "            return sum(model.flow[i, node] for i in nodes if (i, node) in capacity) - sum(model.flow[node, j] for j in nodes if (node, j) in capacity) == 0\n",
        "        return Constraint.Skip  # Skip constraints for the source and sink nodes\n",
        "    model.flow_conservation = Constraint(nodes, rule=flow_conservation_rule)\n",
        "\n",
        "    # Solve the model using the 'glpk' solver\n",
        "    solver = SolverFactory('glpk')\n",
        "    solver.solve(model)\n",
        "\n",
        "    # Return the maximum flow\n",
        "    return model.obj()\n",
        "\n",
        "# Example flow network capacities\n",
        "capacities = {\n",
        "    (1, 2): 3,  # Edge (1, 2) with capacity 3\n",
        "    (1, 3): 2,  # Edge (1, 3) with capacity 2\n",
        "    (2, 3): 2,  # Edge (2, 3) with capacity 2\n",
        "    (2, 4): 2,  # Edge (2, 4) with capacity 2\n",
        "    (3, 4): 3   # Edge (3, 4) with capacity 3\n",
        "}\n",
        "\n",
        "# Set the source and sink nodes\n",
        "source_node = 1\n",
        "sink_node = 4\n",
        "\n",
        "# Find the maximum flow\n",
        "max_flow = ford_fulkerson(capacities, source_node, sink_node)\n",
        "print(f\"The maximum flow from node {source_node} to node {sink_node} is: {max_flow}\")\n"
      ],
      "metadata": {
        "colab": {
          "base_uri": "https://localhost:8080/"
        },
        "id": "hO9vUOnL9t6R",
        "outputId": "b4ece9e7-85fe-4ca9-bf29-fd4debba783c"
      },
      "execution_count": 5,
      "outputs": [
        {
          "output_type": "stream",
          "name": "stdout",
          "text": [
            "The maximum flow from node 1 to node 4 is: 5.0\n"
          ]
        }
      ]
    }
  ]
}