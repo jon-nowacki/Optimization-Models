{
  "nbformat": 4,
  "nbformat_minor": 0,
  "metadata": {
    "colab": {
      "provenance": [],
      "include_colab_link": true
    },
    "kernelspec": {
      "name": "python3",
      "display_name": "Python 3"
    },
    "language_info": {
      "name": "python"
    }
  },
  "cells": [
    {
      "cell_type": "markdown",
      "metadata": {
        "id": "view-in-github",
        "colab_type": "text"
      },
      "source": [
        "<a href=\"https://colab.research.google.com/github/jon-nowacki/Optimization-Models/blob/main/Transportation_Graph_Visualization.ipynb\" target=\"_parent\"><img src=\"https://colab.research.google.com/assets/colab-badge.svg\" alt=\"Open In Colab\"/></a>"
      ]
    },
    {
      "cell_type": "markdown",
      "source": [
        "Transportation Model with Graph Visualization\n",
        "---\n",
        "\n",
        "* optimization problems related to logistics\n",
        "* visualize supply networks using NetworkX"
      ],
      "metadata": {
        "id": "0XJ7D9t_VgNR"
      }
    },
    {
      "cell_type": "markdown",
      "source": [
        "# Initial Setup\n",
        "---\n",
        "Run these cells once to link google drive and importing the frameworks needed for this notebook"
      ],
      "metadata": {
        "id": "O6egvbaP6HZg"
      }
    },
    {
      "cell_type": "markdown",
      "source": [
        "**Run this first**\n",
        "\n",
        "This will install Pyomo and glpk solver"
      ],
      "metadata": {
        "id": "n_3kDeEIxUF5"
      }
    },
    {
      "cell_type": "code",
      "source": [
        "!pip install -q pyomo\n",
        "!apt-get install -y -qq glpk-utils"
      ],
      "metadata": {
        "id": "NEu6v7EHxeHe",
        "colab": {
          "base_uri": "https://localhost:8080/"
        },
        "outputId": "82651ac7-4923-4579-d2a5-98bb33b81d1a"
      },
      "execution_count": 1,
      "outputs": [
        {
          "output_type": "stream",
          "name": "stdout",
          "text": [
            "\u001b[2K     \u001b[90m━━━━━━━━━━━━━━━━━━━━━━━━━━━━━━━━━━━━━━━━\u001b[0m \u001b[32m12.5/12.5 MB\u001b[0m \u001b[31m23.2 MB/s\u001b[0m eta \u001b[36m0:00:00\u001b[0m\n",
            "\u001b[2K     \u001b[90m━━━━━━━━━━━━━━━━━━━━━━━━━━━━━━━━━━━━━━━━\u001b[0m \u001b[32m49.6/49.6 kB\u001b[0m \u001b[31m5.3 MB/s\u001b[0m eta \u001b[36m0:00:00\u001b[0m\n",
            "\u001b[?25hSelecting previously unselected package libsuitesparseconfig5:amd64.\n",
            "(Reading database ... 120903 files and directories currently installed.)\n",
            "Preparing to unpack .../libsuitesparseconfig5_1%3a5.10.1+dfsg-4build1_amd64.deb ...\n",
            "Unpacking libsuitesparseconfig5:amd64 (1:5.10.1+dfsg-4build1) ...\n",
            "Selecting previously unselected package libamd2:amd64.\n",
            "Preparing to unpack .../libamd2_1%3a5.10.1+dfsg-4build1_amd64.deb ...\n",
            "Unpacking libamd2:amd64 (1:5.10.1+dfsg-4build1) ...\n",
            "Selecting previously unselected package libcolamd2:amd64.\n",
            "Preparing to unpack .../libcolamd2_1%3a5.10.1+dfsg-4build1_amd64.deb ...\n",
            "Unpacking libcolamd2:amd64 (1:5.10.1+dfsg-4build1) ...\n",
            "Selecting previously unselected package libglpk40:amd64.\n",
            "Preparing to unpack .../libglpk40_5.0-1_amd64.deb ...\n",
            "Unpacking libglpk40:amd64 (5.0-1) ...\n",
            "Selecting previously unselected package glpk-utils.\n",
            "Preparing to unpack .../glpk-utils_5.0-1_amd64.deb ...\n",
            "Unpacking glpk-utils (5.0-1) ...\n",
            "Setting up libsuitesparseconfig5:amd64 (1:5.10.1+dfsg-4build1) ...\n",
            "Setting up libamd2:amd64 (1:5.10.1+dfsg-4build1) ...\n",
            "Setting up libcolamd2:amd64 (1:5.10.1+dfsg-4build1) ...\n",
            "Setting up libglpk40:amd64 (5.0-1) ...\n",
            "Setting up glpk-utils (5.0-1) ...\n",
            "Processing triggers for man-db (2.10.2-1) ...\n",
            "Processing triggers for libc-bin (2.35-0ubuntu3.4) ...\n",
            "/sbin/ldconfig.real: /usr/local/lib/libtbbbind_2_5.so.3 is not a symbolic link\n",
            "\n",
            "/sbin/ldconfig.real: /usr/local/lib/libtbbbind_2_0.so.3 is not a symbolic link\n",
            "\n",
            "/sbin/ldconfig.real: /usr/local/lib/libtbb.so.12 is not a symbolic link\n",
            "\n",
            "/sbin/ldconfig.real: /usr/local/lib/libtbbmalloc.so.2 is not a symbolic link\n",
            "\n",
            "/sbin/ldconfig.real: /usr/local/lib/libtbbmalloc_proxy.so.2 is not a symbolic link\n",
            "\n",
            "/sbin/ldconfig.real: /usr/local/lib/libtbbbind.so.3 is not a symbolic link\n",
            "\n"
          ]
        }
      ]
    },
    {
      "cell_type": "markdown",
      "metadata": {
        "id": "lhVAXq-suKzH"
      },
      "source": [
        "**Importing libraries**"
      ]
    },
    {
      "cell_type": "code",
      "metadata": {
        "id": "_AbLHUpjt_b1"
      },
      "source": [
        "#pyomo framework\n",
        "import numpy as np\n",
        "from pyomo.environ import *\n",
        "from pyomo.opt import SolverFactory\n",
        "\n",
        "#networkx framework\n",
        "import networkx as nx\n",
        "import numpy as np\n",
        "import matplotlib.pyplot as plt\n",
        "plt.rcParams[\"figure.figsize\"] = (20,3)"
      ],
      "execution_count": 3,
      "outputs": []
    },
    {
      "cell_type": "markdown",
      "source": [
        "# Transportation optimization"
      ],
      "metadata": {
        "id": "nC9tVsYXIhKk"
      }
    },
    {
      "cell_type": "code",
      "source": [
        "# create model\n",
        "model=ConcreteModel(name='Transportation MIN COST')\n",
        "\n",
        "# define variables\n",
        "# distribution centers\n",
        "model.distribution_centers = Set(initialize=[\"D1\",\"D2\",\"D3\"], doc=\"distribution centers\")\n",
        "model.customers = Set(initialize=[\"C1\",\"C2\"], doc=\"customers\")\n",
        "\n",
        "\n",
        "# definint_parameters\n",
        "model.distribution_capacity = Param(model.distribution_centers, initialize={\"D1\":20, \"D2\":40, \"D3\":50}, doc=\"capacities of each distribution center\")\n",
        "model.cust_demand = Param(model.customers, initialize={\"C1\":30, \"C2\":40}, doc=\"demand for each customer\")\n",
        "\n",
        "dist={\n",
        "    (\"D1\", \"C1\") : 1,\n",
        "    (\"D2\", \"C1\") : 1,\n",
        "    (\"D3\", \"C1\") : 3,\n",
        "    (\"D1\", \"C2\") : 2,\n",
        "    (\"D2\", \"C2\") : 1,\n",
        "    (\"D3\", \"C2\") : 2,\n",
        "}\n",
        "# define objective\n",
        "\n",
        "model.distance = Param(model.distribution_centers, model.customers, initialize=dist, doc=\"distance in mile between centers and customers\")\n",
        "\n",
        "model.distribution_cost=Param(initialize=10, doc=\"distribution cost per mile\")\n",
        "\n",
        "model.shipment_quantity = Var(model.distribution_centers, model.customers, domain=NonNegativeIntegers, doc=\"quantitity shipped between dc and customer\")\n",
        "\n",
        "def transportation_cost(model, dc, customer):\n",
        "  return model.distribution_cost * model.distance[dc, customer]\n",
        "\n",
        "model.distance_cost = Param(model.distribution_centers, model.customers, rule=transportation_cost, doc=\"distribution cost per mile\")\n",
        "\n",
        "# solve\n",
        "\n",
        "def supply_limit(model, dc):\n",
        "  return sum(model.shipment_quantity[dc, customer] for customer in model.customers) <= model.distribution_capacity[dc]\n",
        "\n",
        "model.supply = Constraint(model.distribution_centers, rule=supply_limit, doc=\"customer demand list constraint\")\n",
        "\n",
        "\n",
        "def demand_limit(model, customer):\n",
        "  return sum(model.shipment_quantity[dc, customer] for dc in model.distribution_centers) >= model.cust_demand[customer]\n",
        "\n",
        "model.demand = Constraint(model.customers, rule=demand_limit, doc=\"customer demand list constraint\")\n",
        "\n",
        "def objective_rule(model):\n",
        "  return sum(model.distance_cost[dc, customer]*model.shipment_quantity[dc, customer] for dc in model.distribution_centers for customer in model.customers)\n",
        "\n",
        "model.objective = Objective(rule=objective_rule, sense=minimize, doc=\"asdf\")\n",
        "\n",
        "SolverFactory('glpk',executable='/usr/bin/glpsol').solve(model).write()\n",
        "\n",
        "# display results\n",
        "\n",
        "model.shipment_quantity.display()"
      ],
      "metadata": {
        "id": "r9XCkufxQgUd",
        "colab": {
          "base_uri": "https://localhost:8080/"
        },
        "outputId": "3f3f35aa-ff7a-4789-a1ae-32ef54754dd8"
      },
      "execution_count": 29,
      "outputs": [
        {
          "output_type": "stream",
          "name": "stdout",
          "text": [
            "# ==========================================================\n",
            "# = Solver Results                                         =\n",
            "# ==========================================================\n",
            "# ----------------------------------------------------------\n",
            "#   Problem Information\n",
            "# ----------------------------------------------------------\n",
            "Problem: \n",
            "- Name: unknown\n",
            "  Lower bound: 800.0\n",
            "  Upper bound: 800.0\n",
            "  Number of objectives: 1\n",
            "  Number of constraints: 5\n",
            "  Number of variables: 6\n",
            "  Number of nonzeros: 12\n",
            "  Sense: minimize\n",
            "# ----------------------------------------------------------\n",
            "#   Solver Information\n",
            "# ----------------------------------------------------------\n",
            "Solver: \n",
            "- Status: ok\n",
            "  Termination condition: optimal\n",
            "  Statistics: \n",
            "    Branch and bound: \n",
            "      Number of bounded subproblems: 1\n",
            "      Number of created subproblems: 1\n",
            "  Error rc: 0\n",
            "  Time: 0.003632068634033203\n",
            "# ----------------------------------------------------------\n",
            "#   Solution Information\n",
            "# ----------------------------------------------------------\n",
            "Solution: \n",
            "- number of solutions: 0\n",
            "  number of solutions displayed: 0\n",
            "shipment_quantity : quantitity shipped between dc and customer\n",
            "    Size=6, Index=shipment_quantity_index\n",
            "    Key          : Lower : Value : Upper : Fixed : Stale : Domain\n",
            "    ('D1', 'C1') :     0 :  20.0 :  None : False : False : NonNegativeIntegers\n",
            "    ('D1', 'C2') :     0 :   0.0 :  None : False : False : NonNegativeIntegers\n",
            "    ('D2', 'C1') :     0 :  10.0 :  None : False : False : NonNegativeIntegers\n",
            "    ('D2', 'C2') :     0 :  30.0 :  None : False : False : NonNegativeIntegers\n",
            "    ('D3', 'C1') :     0 :   0.0 :  None : False : False : NonNegativeIntegers\n",
            "    ('D3', 'C2') :     0 :  10.0 :  None : False : False : NonNegativeIntegers\n"
          ]
        }
      ]
    },
    {
      "cell_type": "markdown",
      "source": [
        "# Supply Network Visualization"
      ],
      "metadata": {
        "id": "w8fr_sWluI7R"
      }
    },
    {
      "cell_type": "code",
      "source": [
        "# empty network graph\n",
        "G = nx.DiGraph() # nx is NetworkX, DiGraph is directional graph\n",
        "\n",
        "# add nodes\n",
        "G.add_nodes_from([\"D1\",\"D2\",\"D3\",\"C1\",\"C2\"]) # list of node names\n",
        "\n",
        "# Colors of nodes, 1 color per node above\n",
        "color_map=[\"green\",\"green\",\"green\",\"red\",\"red\"]\n",
        "\n",
        "# Add edges, nodes must already be definied. add_edge(Source, Destination, Attribute)\n",
        "G.add_edge(\"D1\",\"C1\", num_units=20)\n",
        "G.add_edge(\"D2\",\"C1\", num_units=10)\n",
        "G.add_edge(\"D2\",\"C2\", num_units=30)\n",
        "G.add_edge(\"D3\",\"C2\", num_units=10)\n",
        "\n",
        "# Algorithym to determine node location. Attribute is a string here, but not in G.add_edge()\n",
        "pos=nx.spring_layout(G,\n",
        "                     weight=\"num_units\" # attribute is a string here, not in G.add_edge().\n",
        "                     )\n",
        "\n",
        "\n",
        "nx.draw(G, # List of nodes\n",
        "        pos, # Locations on nodes we created above\n",
        "        with_labels=True, # display labels\n",
        "        node_size=1000, # Diameter of nodes\n",
        "        node_color=color_map) # our color map we already defined above\n",
        "\n",
        "nx.draw_networkx_edge_labels( # layout edges\n",
        "    G, # Graph\n",
        "    pos # layout\n",
        "    )\n",
        "plt.show() # make the plot!\n"
      ],
      "metadata": {
        "id": "jS_9K7gEuI7R",
        "colab": {
          "base_uri": "https://localhost:8080/",
          "height": 200
        },
        "outputId": "3dba2b74-8bc0-487e-d292-a6fc1c0ed84e"
      },
      "execution_count": 38,
      "outputs": [
        {
          "output_type": "display_data",
          "data": {
            "text/plain": [
              "<Figure size 2000x300 with 1 Axes>"
            ],
            "image/png": "[encoded data removed]"
          },
          "metadata": {}
        }
      ]
    },
    {
      "cell_type": "code",
      "source": [],
      "metadata": {
        "id": "oj9sAm8bohrY"
      },
      "execution_count": null,
      "outputs": []
    }
  ]
}