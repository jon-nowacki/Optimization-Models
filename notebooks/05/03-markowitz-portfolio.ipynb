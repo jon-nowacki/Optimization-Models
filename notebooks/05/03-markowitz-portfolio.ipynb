{
  "cells": [
    {
      "cell_type": "markdown",
      "id": "6b0b3c2f-3aaa-43fe-a8d0-2b696df5c1a6",
      "metadata": {
        "tags": [],
        "id": "6b0b3c2f-3aaa-43fe-a8d0-2b696df5c1a6"
      },
      "source": [
        "```{index} single: application; portfolio\n",
        "```\n",
        "```{index} single: application; investment\n",
        "```\n",
        "```{index} single: solver; cplex\n",
        "```\n",
        "\n",
        "# 5.3 Markowitz portfolio optimization"
      ]
    },
    {
      "cell_type": "markdown",
      "id": "16015b1d",
      "metadata": {
        "id": "16015b1d"
      },
      "source": [
        "## Preamble: Install Pyomo and a solver\n",
        "\n",
        "This cell selects and verifies a global SOLVER for the notebook. If run on Google Colab, the cell installs Pyomo and ipopt, then sets SOLVER to\n",
        "use the ipopt solver. If run elsewhere, it assumes Pyomo and the Mosek solver have been previously installed and sets SOLVER to use the Mosek solver via the Pyomo SolverFactory. In both cases it then verifies that SOLVER is available."
      ]
    },
    {
      "cell_type": "code",
      "execution_count": 1,
      "id": "5da22c67-5c34-4c3a-90a4-61222899e855",
      "metadata": {
        "tags": [],
        "id": "5da22c67-5c34-4c3a-90a4-61222899e855",
        "outputId": "204df7be-dbeb-486f-f4c8-14a2cb3494d6",
        "colab": {
          "base_uri": "https://localhost:8080/"
        }
      },
      "outputs": [
        {
          "output_type": "stream",
          "name": "stdout",
          "text": [
            "Getting files...\n",
            "Done\n",
            "---------------------------------------------------\n",
            "IDAES Extensions Build Versions\n",
            "===================================================\n",
            "Solvers:  vno version file found\n",
            "Library:  vno version file found\n",
            "===================================================\n"
          ]
        }
      ],
      "source": [
        "import sys, os\n",
        "\n",
        "if 'google.colab' in sys.modules:\n",
        "    %pip install idaes-pse --pre >/dev/null 2>/dev/null\n",
        "    !idaes get-extensions --to ./bin\n",
        "    os.environ['PATH'] += ':bin'\n",
        "    solver = \"ipopt\"\n",
        "else:\n",
        "    solver = \"mosek_direct\"\n",
        "\n",
        "import pyomo.environ as pyo\n",
        "SOLVER = pyo.SolverFactory(solver)\n",
        "assert SOLVER.available(), f\"Solver {solver} is not available.\""
      ]
    },
    {
      "cell_type": "code",
      "execution_count": 2,
      "id": "b13edf26",
      "metadata": {
        "tags": [],
        "id": "b13edf26"
      },
      "outputs": [],
      "source": [
        "import numpy as np\n",
        "import matplotlib.pyplot as plt"
      ]
    },
    {
      "cell_type": "markdown",
      "id": "a82bd88d-7b16-4c82-b0b7-5dbd0d81b71c",
      "metadata": {
        "tags": [],
        "id": "a82bd88d-7b16-4c82-b0b7-5dbd0d81b71c"
      },
      "source": [
        "## Problem description and model formulation\n",
        "\n",
        "A canonical stochastic optimization problem is the so-called portfolio selection problem, also known as **Markowitz portfolio optimization**. Assume that an investor has an initial capital $C$ that she wants to invest in $n$ possible risky assets, each of them with an unknown return rate $r_i$, $i=1,\\dots,n$, or in another risk-free asset with a guaranteed return rate $R$. Let $x$ be the vector whose $i$-th component $x_i$ describes the amount invested in asset $i$ and $\\tilde{x}$ the amount invested in the risk-free asset. We consider a stochastic model in which the return of the $n$ risky assets is then a random vector $r$ with known expected values $\\mu = \\mathbb E r $ and covariance\n",
        "\n",
        "$$\n",
        "    \\Sigma = \\mathbb{E} [ (r-\\mu)(r-\\mu)^\\top].\n",
        "$$\n",
        "\n",
        "The investment return $y = R \\tilde{x} + r^\\top x$ then becomes also a random variable with mean\n",
        "\n",
        "$$\n",
        "    \\mathbb{E} y = R \\tilde{x} + \\mathbb{E} r^\\top x = R \\tilde{x} + \\mu^\\top x\n",
        "$$\n",
        "\n",
        "and variance\n",
        "\n",
        "$$\n",
        "    \\mathrm{Var}(y) = \\mathbb{E}(y-\\mathbb{E}y)^2 = x^\\top \\Sigma x.\n",
        "$$\n",
        "\n",
        "The variance of the investment return is a possible way to quantify the risk of the investment $x$.\n",
        "\n",
        "The investor needs to select a portfolio that achieves a good compromise between risk and expected return. One could try to maximize the expected return $\\mathbb{E} y$ subject to an upper bound on the tolerable risk, obtaining the following optimization problem:\n",
        "\n",
        "$$\n",
        "\\begin{align*}\n",
        "    \\max \\quad  & R \\tilde{x} + \\mu^\\top x \\\\\n",
        "    \\text{s.t.}\\quad\n",
        "    & \\sum_{i=1}^n x_i + \\tilde{x}  = C  \\\\\n",
        "    & x^\\top \\Sigma x \\leq \\gamma \\\\\n",
        "    & \\tilde{x} \\geq 0 \\\\\n",
        "    & x_i \\geq 0 & \\forall \\, i=1,\\dots,n.\n",
        "\\end{align*}\n",
        "$$\n",
        "\n",
        "The first constraint describes the fact that the total amount invested must be equal to the initial capital. The second constraint ensures that the variance of the chosen portfolio is upper bounded by a parameter $\\gamma$, which captures the risk the investor is willing to take. The last non-negativity constraint excludes the possibility of short-selling.\n",
        "\n",
        "One can easily show that the quadratic constraint $x^\\top \\Sigma x \\leq \\gamma$ is convex in $x$ due to the fact that $\\Sigma$ is positive semi-definite, being a covariance matrix. Therefore, the optimization problem is convex. Let us implement it in Pyomo and solve it."
      ]
    },
    {
      "cell_type": "code",
      "execution_count": 3,
      "id": "0e194e8d",
      "metadata": {
        "tags": [],
        "id": "0e194e8d"
      },
      "outputs": [],
      "source": [
        "def markowitz(gamma, mu, Sigma):\n",
        "    m = pyo.ConcreteModel(\"Markowitz portfolio optimization\")\n",
        "\n",
        "    m.xtilde = pyo.Var(domain=pyo.NonNegativeReals)\n",
        "    m.x = pyo.Var(range(n), domain=pyo.NonNegativeReals)\n",
        "\n",
        "    @m.Objective(sense=pyo.maximize)\n",
        "    def objective(m):\n",
        "        return mu @ m.x + R * m.xtilde\n",
        "\n",
        "    @m.Constraint()\n",
        "    def bounded_variance(m):\n",
        "        return (m.x @ (Sigma @ m.x)) <= gamma\n",
        "\n",
        "    @m.Constraint()\n",
        "    def total_assets(m):\n",
        "        return sum(m.x[i] for i in range(n)) + m.xtilde == C\n",
        "\n",
        "    return m"
      ]
    },
    {
      "cell_type": "markdown",
      "id": "5f6de49c",
      "metadata": {
        "id": "5f6de49c"
      },
      "source": [
        "We now calculate the optimal investment strategy for a portfolio with $n=3$ assets, with expected returns $\\mu = (1.2, 1.1, 1.3)$ and a predefined covariance matrix. We set the risk parameter $\\gamma$ to $1$ and the risk-free return rate $R$ to $1.01$."
      ]
    },
    {
      "cell_type": "code",
      "execution_count": 4,
      "id": "fc935ce0",
      "metadata": {
        "id": "fc935ce0",
        "outputId": "65685ace-dccc-452b-a0ba-1e35f1f7cd74",
        "colab": {
          "base_uri": "https://localhost:8080/"
        }
      },
      "outputs": [
        {
          "output_type": "stream",
          "name": "stdout",
          "text": [
            "Optimal solution: xtilde = 0.158, x_1 = 0.561, x_2 = 0.142, x_3 = 0.139\n",
            "Optimal investment return: 1.17\n"
          ]
        }
      ],
      "source": [
        "# Specify the initial capital, the risk threshold, and the guaranteed return rate.\n",
        "C = 1\n",
        "gamma = 1\n",
        "R = 1.01\n",
        "\n",
        "# Specify the number of assets, their expected return, and their covariance matrix.\n",
        "n = 3\n",
        "mu = np.array([1.2, 1.1, 1.3])\n",
        "Sigma = np.array([[1.5, 0.5, 2], [0.5, 2, 0], [2, 0, 5]])\n",
        "\n",
        "# Check that Sigma is semi-definite positive\n",
        "assert np.all(np.linalg.eigvals(Sigma) >= 0)\n",
        "\n",
        "# When changing the matrix Sigma, make sure to input a semi-definite positive matrix.\n",
        "# The easiest way to generate a random covariance matrix is as follows:\n",
        "# first generate a random m x m matrix A and than take the matrix A A^T\n",
        "# which is always semi-definite positive by construction.\n",
        "#\n",
        "# m = 3\n",
        "# A = np.random.rand(m, m)\n",
        "# Sigma = A.T @ A\n",
        "\n",
        "m = markowitz(gamma, mu, Sigma)\n",
        "SOLVER.solve(m)\n",
        "print(\n",
        "    f\"Optimal solution: xtilde = {m.xtilde.value:.3f}, x_1 = {m.x[0].value:.3f}, x_2 = {m.x[1].value:.3f}, x_3 = {m.x[2].value:.3f}\"\n",
        ")\n",
        "print(f\"Optimal investment return: {m.objective():.2f}\")"
      ]
    },
    {
      "cell_type": "markdown",
      "id": "16c935bf",
      "metadata": {
        "id": "16c935bf"
      },
      "source": [
        "The next plot shows how the objective function changes as the risk threshold parameter $\\gamma$ varies."
      ]
    },
    {
      "cell_type": "code",
      "execution_count": 5,
      "id": "10e5ab7d",
      "metadata": {
        "id": "10e5ab7d",
        "outputId": "b0c6c3fe-f258-4a25-f1e5-917a7705bd5b",
        "colab": {
          "base_uri": "https://localhost:8080/",
          "height": 475
        }
      },
      "outputs": [
        {
          "output_type": "display_data",
          "data": {
            "text/plain": [
              "<Figure size 640x480 with 1 Axes>"
            ],
            "image/png": "[encoded data removed]"
          },
          "metadata": {}
        }
      ],
      "source": [
        "gamma_values = np.linspace(0, 5, 100)\n",
        "objective = []\n",
        "\n",
        "plt.rcParams.update({\"font.size\": 14})\n",
        "for gamma in gamma_values:\n",
        "    m = markowitz(gamma, mu, Sigma)\n",
        "    SOLVER.solve(m)\n",
        "    objective.append(round(m.objective(), 3))\n",
        "\n",
        "plt.plot(gamma_values, objective, color=plt.cm.tab20c(0))\n",
        "plt.xlabel(r\"Risk threshold $\\gamma$\")\n",
        "plt.ylabel(\"Optimal objective value\")\n",
        "plt.tight_layout()\n",
        "plt.show()"
      ]
    }
  ],
  "metadata": {
    "kernelspec": {
      "display_name": "Python 3 (ipykernel)",
      "language": "python",
      "name": "python3"
    },
    "language_info": {
      "codemirror_mode": {
        "name": "ipython",
        "version": 3
      },
      "file_extension": ".py",
      "mimetype": "text/x-python",
      "name": "python",
      "nbconvert_exporter": "python",
      "pygments_lexer": "ipython3",
      "version": "3.11.2"
    },
    "varInspector": {
      "cols": {
        "lenName": 16,
        "lenType": 16,
        "lenVar": 40
      },
      "kernels_config": {
        "python": {
          "delete_cmd_postfix": "",
          "delete_cmd_prefix": "del ",
          "library": "var_list.py",
          "varRefreshCmd": "print(var_dic_list())"
        },
        "r": {
          "delete_cmd_postfix": ") ",
          "delete_cmd_prefix": "rm(",
          "library": "var_list.r",
          "varRefreshCmd": "cat(var_dic_list()) "
        }
      },
      "types_to_exclude": [
        "module",
        "function",
        "builtin_function_or_method",
        "instance",
        "_Feature"
      ],
      "window_display": false
    },
    "colab": {
      "provenance": []
    }
  },
  "nbformat": 4,
  "nbformat_minor": 5
}