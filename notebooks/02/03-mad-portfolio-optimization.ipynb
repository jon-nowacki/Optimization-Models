{
  "cells": [
    {
      "cell_type": "markdown",
      "metadata": {
        "id": "M_Q9MHDzUEs1"
      },
      "source": [
        "```{index} single: application; portfolio\n",
        "```\n",
        "```{index} single: application; investment\n",
        "```\n",
        "```{index} single: solver; highs\n",
        "```\n",
        "```{index} single: pandas\n",
        "```\n",
        "```{index} web scraping\n",
        "```\n",
        "```{index} yfinance\n",
        "```\n",
        "\n",
        "# 2.3 Mean Absolute Deviation (MAD) portfolio optimization\n",
        "\n",
        "Portfolio optimization and modern portfolio theory has a long and important history in finance and investment. The principal idea is to find a blend of investments in financial securities that achieves  an optimal trade-off between financial risk and return. The introduction of modern portfolio theory is generally attributed to the 1952 doctoral thesis of [Harry Markowitz](https://en.wikipedia.org/wiki/Harry_Markowitz) who subsequently was award a share of the 1990 Nobel Memorial Prize in Economics for his fundamental contributions to this field. The well-known \"Markowitz Model\" models measure risk using covariance of the portfolio with respect to constituent assets, then solves a minimum variance problem by quadratic optimization problem subject to constraints to allocate of wealth among assets.\n",
        "\n",
        "In a [remarkable 1991 paper](https://www.jstor.org/stable/2632458?seq=1), Konno and Yamazaki proposed a different approach using the mean absolute deviation (MAD) in portfolio return as a measure of financial risk. The proposed implementation directly incorporates historical price data into a large scale linear optimization problem."
      ]
    },
    {
      "cell_type": "markdown",
      "metadata": {
        "id": "VbfpDmQVC9jO"
      },
      "source": [
        "## Preamble: Install Pyomo and a solver\n",
        "\n",
        "The following cell sets and verifies a global SOLVER for the notebook. If run on Google Colab, the cell installs Pyomo and the HiGHS solver, while, if run elsewhere, it assumes Pyomo and HiGHS have been previously installed. It then sets to use HiGHS as solver via the appsi module and a test is performed to verify that it is available. The solver interface is stored in a global object `SOLVER` for later use."
      ]
    },
    {
      "cell_type": "code",
      "execution_count": 1,
      "metadata": {
        "id": "5ssUqKOaPVaE"
      },
      "outputs": [],
      "source": [
        "import sys\n",
        "\n",
        "if 'google.colab' in sys.modules:\n",
        "    %pip install pyomo >/dev/null 2>/dev/null\n",
        "    %pip install highspy >/dev/null 2>/dev/null\n",
        "\n",
        "solver = 'appsi_highs'\n",
        "\n",
        "import pyomo.environ as pyo\n",
        "SOLVER = pyo.SolverFactory(solver)\n",
        "\n",
        "assert SOLVER.available(), f\"Solver {solver} is not available.\""
      ]
    },
    {
      "cell_type": "markdown",
      "metadata": {
        "pycharm": {},
        "tags": [],
        "id": "1lpeRP-fC9jS"
      },
      "source": [
        "### Installing `yfinance`\n",
        "\n",
        "The notebook uses the `yfinance` module to read data from Yahoo Finance. Web interfaces for financial services are notoriously fickle and subject to change, and a particular issue with Google Colaboratory."
      ]
    },
    {
      "cell_type": "code",
      "execution_count": null,
      "metadata": {
        "id": "T13d5nn4C9jT"
      },
      "outputs": [],
      "source": [
        "!pip install yfinance --upgrade -q"
      ]
    },
    {
      "cell_type": "code",
      "execution_count": null,
      "metadata": {
        "id": "9jMA3cP4C9jT"
      },
      "outputs": [],
      "source": [
        "import matplotlib.dates as mdates\n",
        "import matplotlib.pyplot as plt\n",
        "import numpy as np\n",
        "import pandas as pd\n",
        "import scipy.stats as stats\n",
        "import datetime as datetime\n",
        "import yfinance as yf"
      ]
    },
    {
      "cell_type": "markdown",
      "metadata": {
        "id": "ogGCHrAhC9jU"
      },
      "source": [
        "### Download historical stock price data\n",
        "\n",
        "The following cell downloads a list of stock symbols from Yahoo Finance. By changing `n_years` we can change the historical period. The first step in this analysis is to load and consolidate the asset price information into a single DataFrame named `assets`. The consolidated price information consists of the adjusted closing price reported by Yahoo Finance which includes adjustments for stock splits and dividend distributions."
      ]
    },
    {
      "cell_type": "code",
      "execution_count": null,
      "metadata": {
        "id": "kIq78FvgC9jW"
      },
      "outputs": [],
      "source": [
        "# list of stock symbols\n",
        "tickers = [\n",
        "    \"AXP\",\n",
        "    \"AAPL\",\n",
        "    \"AMGN\",\n",
        "    \"BA\",\n",
        "    \"CAT\",\n",
        "    \"CRM\",\n",
        "    \"CSCO\",\n",
        "    \"CVX\",\n",
        "    \"DIS\",\n",
        "    \"DOW\",\n",
        "    \"GS\",\n",
        "    \"HD\",\n",
        "    \"IBM\",\n",
        "    \"INTC\",\n",
        "    \"JNJ\",\n",
        "    \"JPM\",\n",
        "    \"KO\",\n",
        "    \"MCD\",\n",
        "    \"MMM\",\n",
        "    \"MRK\",\n",
        "    \"MSFT\",\n",
        "    \"NKE\",\n",
        "    \"PG\",\n",
        "    \"TRV\",\n",
        "    \"UNH\",\n",
        "    \"V\",\n",
        "    \"VZ\",\n",
        "    \"WBA\",\n",
        "    \"WMT\",\n",
        "    \"XOM\",\n",
        "]\n",
        "\n",
        "n_years = 3.0\n",
        "end_date = datetime.datetime.today().date()\n",
        "start_date = end_date - datetime.timedelta(round(n_years * 365))\n",
        "\n",
        "assets = yf.download(tickers, start=start_date, end=end_date, progress=False)[\n",
        "    \"Adj Close\"\n",
        "]\n",
        "\n",
        "assets.fillna(method=\"bfill\", inplace=True)\n",
        "assets.fillna(method=\"ffill\", inplace=True)\n",
        "\n",
        "fig, ax = plt.subplots(figsize=(12, 9))\n",
        "assets.plot(ax=ax, logy=True, grid=True, lw=1, title=\"Adjusted Asset Closing Prices\")\n",
        "ax.legend(bbox_to_anchor=(1.0, 1.12))\n",
        "ax.set_ylabel(\"Prices in log scale\")\n",
        "plt.tight_layout()\n",
        "plt.show()"
      ]
    },
    {
      "cell_type": "markdown",
      "metadata": {
        "id": "EmmNEud0C9jZ"
      },
      "source": [
        "## Analysis of historical asset prices"
      ]
    },
    {
      "cell_type": "markdown",
      "metadata": {
        "id": "One9tvF3C9ja"
      },
      "source": [
        "### Scaled asset prices\n",
        "\n",
        "The historical prices are scaled to a value to have unit value at the start of the historical period. Scaling facilitates plotting and subsequent calculations while preserving arithmetic and logarithmic returns needed for analysis."
      ]
    },
    {
      "cell_type": "code",
      "execution_count": null,
      "metadata": {
        "id": "fw8TlTD8C9jb"
      },
      "outputs": [],
      "source": [
        "assets_scaled = assets.div(assets.iloc[0])\n",
        "\n",
        "fig, ax = plt.subplots(figsize=(12, 9))\n",
        "assets_scaled.plot(\n",
        "    ax=ax, grid=True, lw=1, title=\"Adjusted Asset Closing Prices - Scaled\"\n",
        ")\n",
        "ax.legend(bbox_to_anchor=(1.0, 1.12))\n",
        "ax.set_ylabel(\"Normalized prices\")\n",
        "plt.rcParams[\"font.size\"] = 13\n",
        "plt.tight_layout()\n",
        "plt.show()"
      ]
    },
    {
      "cell_type": "markdown",
      "metadata": {
        "id": "zad4eVjBC9jc"
      },
      "source": [
        "### Statistics of daily returns\n",
        "\n",
        "The scaled price of asset $j$ on trading day $t$ is designated $S_{j, i}$. The daily return is computed as\n",
        "\n",
        "$$r_{j, t} = \\frac{S_{j, t} - S_{j, t-1}}{S_{j, t-1}}$$\n",
        "\n",
        "where $t = 1, \\dots, T$. The mean return for asset $j$ is\n",
        "\n",
        "$$\\bar{r}_j = \\frac{1}{T} \\sum_{t=1}^T r_{j, t}$$\n",
        "\n",
        "The following cells compute and display the daily returns for all assets and displays as time series and histograms."
      ]
    },
    {
      "cell_type": "code",
      "execution_count": null,
      "metadata": {
        "id": "DT5m6_qoC9jd"
      },
      "outputs": [],
      "source": [
        "daily_returns = assets.diff()[1:] / assets.shift(1)[1:]\n",
        "\n",
        "fig, ax = plt.subplots(6, 5, figsize=(12, 10), sharex=True, sharey=True)\n",
        "\n",
        "for a, s in zip(ax.flatten(), sorted(daily_returns.columns)):\n",
        "    daily_returns[s].plot(ax=a, lw=1, title=s, grid=True)\n",
        "    a.xaxis.set_major_locator(mdates.YearLocator())\n",
        "    a.xaxis.set_major_formatter(mdates.DateFormatter(\"%Y\"))\n",
        "    a.set_ylabel(\"Daily returns\")\n",
        "\n",
        "plt.tight_layout()\n",
        "plt.show()"
      ]
    },
    {
      "cell_type": "markdown",
      "metadata": {
        "id": "N5uZ4skqC9jd"
      },
      "source": [
        "### Mean Absolute Deviation\n",
        "\n",
        "The mean absolute deviation $\\Delta_j$ for asset $j$ is\n",
        "\n",
        "$$\\Delta_j = \\frac{1}{T} \\sum_{t=1}^T | r_{j,t} - \\bar{r}_j |$$\n",
        "\n",
        "where $T$ is the period under consideration. We now calculate the mean daily return and the mean absolute deviation in daily returns for all assets and display the distributions of daily returns for all assets. For each asset, we depict the mean return $\\bar{r}$ (in red) and the interval $[\\bar{r}-\\Delta,\\bar{r}+\\Delta]$ whose size corresponds to its mean absolute deviation (in green)."
      ]
    },
    {
      "cell_type": "code",
      "execution_count": null,
      "metadata": {
        "id": "pu4fNXRXC9jd"
      },
      "outputs": [],
      "source": [
        "mean_return = daily_returns.mean()\n",
        "mean_absolute_deviation = abs(daily_returns - mean_return).mean()\n",
        "\n",
        "fig, ax = plt.subplots(6, 5, figsize=(12, 10), sharex=True, sharey=True)\n",
        "ax = ax.flatten()\n",
        "\n",
        "for a, s in zip(ax.flatten(), daily_returns.columns):\n",
        "    daily_returns[s].hist(ax=a, lw=1, grid=True, bins=50)\n",
        "    a.set_title(f\"{s}:  $\\\\bar r$ = {mean_return[s]:0.5f}\")\n",
        "    a.set_xlim(-0.08, 0.08)\n",
        "    a.axvline(mean_return[s], color=\"r\", linestyle=\"--\")\n",
        "    a.axvline(mean_return[s] + mean_absolute_deviation[s], color=\"g\", linestyle=\"--\")\n",
        "    a.axvline(mean_return[s] - mean_absolute_deviation[s], color=\"g\", linestyle=\"--\")\n",
        "\n",
        "plt.tight_layout()\n",
        "plt.show()"
      ]
    },
    {
      "cell_type": "markdown",
      "metadata": {
        "id": "2fTik2O-C9jd"
      },
      "source": [
        "The mean daily return and the mean absolute deviation in daily returns are plotted as bar charts in the following cell. The side by side comparison provides a comparison of return vs. volatility for individual assets."
      ]
    },
    {
      "cell_type": "code",
      "execution_count": null,
      "metadata": {
        "id": "8Ho0Ed1TC9jd"
      },
      "outputs": [],
      "source": [
        "from matplotlib.ticker import ScalarFormatter\n",
        "\n",
        "\n",
        "def gradient_barplot(ax, data, color_map):\n",
        "    min_val = data.min()\n",
        "    max_val = data.max()\n",
        "    range_val = max_val - min_val\n",
        "\n",
        "    for i, val in enumerate(data):\n",
        "        normalized_val = (val - min_val) / range_val\n",
        "        color = color_map(normalized_val)\n",
        "        ax.barh(i, val, color=color)\n",
        "\n",
        "\n",
        "fig, ax = plt.subplots(1, 2, figsize=(12, 0.35 * len(daily_returns.columns)))\n",
        "\n",
        "# Choose the color maps\n",
        "color_map2 = plt.get_cmap(\"coolwarm\").reversed()\n",
        "color_map3 = plt.get_cmap(\"YlGn\").reversed()\n",
        "\n",
        "# Asset mean daily return\n",
        "gradient_barplot(ax[0], mean_return, color_map2)\n",
        "ax[0].set_title(\"Asset mean daily return\")\n",
        "ax[0].set_yticks(np.arange(len(mean_return)))\n",
        "ax[0].set_yticklabels(mean_return.index)\n",
        "ax[0].set_xlim(-0.0005, 0.0021)\n",
        "formatter = ScalarFormatter(useMathText=True)\n",
        "formatter.set_scientific(True)\n",
        "formatter.set_powerlimits((-1, 1))\n",
        "ax[0].xaxis.set_major_formatter(formatter)\n",
        "\n",
        "# Asset mean absolute deviation\n",
        "gradient_barplot(ax[1], mean_absolute_deviation, color_map3)\n",
        "ax[1].set_title(\"Asset mean absolute deviation\")\n",
        "ax[1].set_yticks(np.arange(len(mean_absolute_deviation)))\n",
        "ax[1].set_yticklabels(mean_absolute_deviation.index)\n",
        "formatter = ScalarFormatter(useMathText=True)\n",
        "formatter.set_scientific(True)\n",
        "formatter.set_powerlimits((-1, 1))\n",
        "ax[1].xaxis.set_major_formatter(formatter)\n",
        "ax[1].set_xlim(-0.001, 0.02)\n",
        "\n",
        "plt.tight_layout()\n",
        "plt.show()"
      ]
    },
    {
      "cell_type": "markdown",
      "metadata": {
        "id": "xlbvQWlRC9je"
      },
      "source": [
        "We now plot the mean return and mean absolute deviation for all assets using a scatter plot. The scatter plot provides a visual comparison of the trade-off between return and volatility for individual assets."
      ]
    },
    {
      "cell_type": "code",
      "execution_count": null,
      "metadata": {
        "id": "00JzFmq_C9je"
      },
      "outputs": [],
      "source": [
        "fig, ax = plt.subplots(1, 1, figsize=(10, 6))\n",
        "for s in assets.keys():\n",
        "    ax.plot(mean_absolute_deviation[s], mean_return[s], \"s\", ms=8)\n",
        "    ax.text(mean_absolute_deviation[s] * 1.03, mean_return[s], s)\n",
        "\n",
        "formatterx = ScalarFormatter(useMathText=True)\n",
        "formatterx.set_scientific(True)\n",
        "formatterx.set_powerlimits((-1, 1))\n",
        "ax.xaxis.set_major_formatter(formatterx)\n",
        "formattery = ScalarFormatter(useMathText=True)\n",
        "formattery.set_scientific(True)\n",
        "formattery.set_powerlimits((-1, 1))\n",
        "ax.yaxis.set_major_formatter(formattery)\n",
        "\n",
        "ax.set_xlim(0, 1.1 * mean_absolute_deviation.max())\n",
        "ax.axhline(0, color=\"r\", linestyle=\"--\")\n",
        "ax.set_title(\"Return vs. Risk\")\n",
        "ax.set_xlabel(\"Mean Absolute Deviation of daily returns\")\n",
        "ax.set_ylabel(\"Mean daily return\")\n",
        "ax.grid(True)\n",
        "plt.tight_layout()\n",
        "plt.show()"
      ]
    },
    {
      "cell_type": "markdown",
      "metadata": {
        "id": "XSi-VRYOC9je"
      },
      "source": [
        "## Analysis of a portfolio of assets"
      ]
    },
    {
      "cell_type": "markdown",
      "metadata": {
        "id": "cFWVDfhQUEtS"
      },
      "source": [
        "### Return on a portfolio\n",
        "\n",
        "Given a portfolio with value $W_t$ at time $t$, return on the portfolio at $t_{t +\\delta t}$ is defined as\n",
        "\n",
        "$$\n",
        "\\begin{align*}\n",
        "r_{t + \\delta t} & = \\frac{W_{t + \\delta t} - W_{t}}{W_{t}}\n",
        "\\end{align*}\n",
        "$$\n",
        "\n",
        "For the period from $[t, t+\\delta t)$ we assume there are $n_{j,t}$ shares of asset $j$ with a starting value of $S_{j,t}$ per share. The initial and final values of the portfolio are then\n",
        "\n",
        "$$\n",
        "\\begin{align*}\n",
        "W_t & = \\sum_{j=1}^J n_{j,t}S_{j,t} \\\\\n",
        "W_{t+\\delta t} & = \\sum_{j=1}^J n_{j,t}S_{j,t + \\delta t}\n",
        "\\end{align*}\n",
        "$$\n",
        "\n",
        "The return of the portfolio is given by\n",
        "\n",
        "$$\n",
        "\\begin{align*}\n",
        "r_{t+\\delta t} & = \\frac{W_{t + \\delta t} - W_{t}}{W_{t}} \\\\\n",
        "& = \\frac{\\sum_{j=1}^Jn_{j,t}S_{j,t+\\delta t} - \\sum_{j=1}^J n_{j,t}S_{j,t}}{W_{t}} \\\\\n",
        "& = \\frac{\\sum_{j=1}^J n_{j,t}S_{j,t}r_{j, t+\\delta t}}{W_{t}} \\\\\n",
        "& = \\sum_{j=1}^J \\frac{n_{j,t}S_{j,t}}{W_{t}} r_{j, t+\\delta t}\n",
        "\\end{align*}\n",
        "$$\n",
        "\n",
        "where $r_{j,t+\\delta t}$ is the return on asset $j$ at time $t+\\delta t$.\n",
        "\n",
        "Defining $W_{j,t} = n_{j,t}S_{j,t}$ as the wealth invested in asset $j$ at time $t$, then $w_{j,t} = n_{j,t}S_{j,t}/W_{t}$ is the fraction of total wealth invested in asset $j$ at time $t$. The return on a portfolio of $J$ assets is then given by\n",
        "\n",
        "$$\n",
        "\\begin{align*}\n",
        "r_{t+\\delta t} & = \\sum_{j=1}^J w_{j,t} r_{j, t+\\delta t}\n",
        "\\end{align*}\n",
        "$$\n",
        "\n",
        "on a single interval extending from $t$ to $t + \\delta t$."
      ]
    },
    {
      "cell_type": "markdown",
      "metadata": {
        "id": "fQnU2GKNC9jf"
      },
      "source": [
        "## Mean Absolute Deviation (MAD) portfolio optimization\n",
        "\n",
        "The portfolio optimization problem is to find an allocation of investments weights $w_j$ to minimize the portfolio measure of risk subject to constraints on required return and any other constraints that an investor wishes to impose. Assume that we can make investment decisions on every trading day $t$ over a fixed time horizon ranging from $t=1,\\dots,T$ and that there is a set of $J$ assets in which we can choose to invest.\n",
        "\n",
        "If we want to have a guaranteed minimum portfolio return $R$, but at the same time minimize risk, we could choose to have the mean absolute deviation (MAD) in portfolio returns as the objective function. More specifically, we can consider the return on a portfolio of $J$ assets over a period of $T$ intervals with weights $w_j$ for asset $j$ given by\n",
        "\n",
        "$$\n",
        "\\begin{align*}\n",
        "\\text{MAD}(w) & =  \\frac{1}{T} \\sum_{t=1}^T \\Big| \\sum_{j=1}^J w_{j} (r_{t, j} - \\bar{r}_j) \\Big|,\n",
        "\\end{align*}\n",
        "$$\n",
        "\n",
        "where $r_{t, j}$ is the return on asset $j$ at time $t$, $\\bar{r}_j$ is the mean return for asset $j$, and $w_j$ is the fraction of the total portfolio that is invested in asset $j$. Note that due to the use of absolute values, the MAD for the portfolio is *not* the weighted sum of the MADs for individual assets.\n",
        "\n",
        "The resulting Mean Absolute Deviation (MAD) portfolio optimization problem then is\n",
        "\n",
        "$$\n",
        "\\begin{align*}\n",
        "    \\min \\quad & \\frac{1}{T} \\sum_{t=1}^T \\Big| \\sum_{j=1}^J w_{j} (r_{t, j} - \\bar{r}_j) \\Big| \\\\\n",
        "    \\text{s.t.} \\quad\n",
        "    & \\sum_{j=1}^J w_j \\bar{r}_j  \\geq R \\\\\n",
        "    & \\sum_{j=1}^J w_j  = 1 \\\\\n",
        "    & w_j  \\geq 0 & \\forall \\, j\\in J\\\\\n",
        "    & w_j  \\leq w^{ub}_j & \\forall \\, j\\in J.\n",
        "\\end{align*}\n",
        "$$\n",
        "\n",
        "where $R$ is the minimum required portfolio return. The lower bound $w_j \\geq 0$ is a \"no short sales\" constraint. The upper bound $w_j \\leq w^{ub}_j$ enforces a required level of diversification in the portfolio.\n",
        "\n",
        "Defining two sets of auxiliary variables $u_t \\geq 0$ and $v_t \\geq 0$ for every $t=1,\\dots,T$, leads to a reformulation of the problem as a linear optimization:\n",
        "\n",
        "$$\n",
        "\\begin{align*}\n",
        "    \\min \\quad & \\frac{1}{T} \\sum_{t=1}^T (u_t + v_t) \\\\\n",
        "    \\text{s.t.} \\quad\n",
        "    & u_t - v_t  = \\sum_{j=1}^J w_j(r_{t,j} - \\bar{r}_j) & \\forall t\\in 1, \\dots, T \\\\\n",
        "    & \\sum_{j=1}^J w_j \\bar{r}_j  \\geq R \\\\\n",
        "    & \\sum_{j=1}^J w_j = 1 \\\\\n",
        "    & w_j  \\geq 0 & \\forall \\, j\\in J\\\\\n",
        "    & w_j  \\leq w^{ub}_j & \\forall \\, j\\in J\\\\\n",
        "    & u_t, v_t \\geq 0 &t = 1, \\dots, T.\n",
        "\\end{align*}\n",
        "$$\n"
      ]
    },
    {
      "cell_type": "markdown",
      "metadata": {
        "id": "ylEn4-m1C9jf"
      },
      "source": [
        "### Pyomo model"
      ]
    },
    {
      "cell_type": "code",
      "execution_count": null,
      "metadata": {
        "id": "R_NGIvHGC9jf"
      },
      "outputs": [],
      "source": [
        "import pyomo.environ as pyo\n",
        "\n",
        "\n",
        "def mad_portfolio(assets):\n",
        "    daily_returns = assets.diff()[1:] / assets.shift(1)[1:]\n",
        "    mean_return = daily_returns.mean()\n",
        "\n",
        "    m = pyo.ConcreteModel(\"MAD portfolio optimization\")\n",
        "\n",
        "    m.R = pyo.Param(mutable=True, default=0)\n",
        "    m.w_lb = pyo.Param(mutable=True, default=0)\n",
        "    m.w_ub = pyo.Param(mutable=True, default=1.0)\n",
        "\n",
        "    m.ASSETS = pyo.Set(initialize=assets.columns)\n",
        "    m.TIME = pyo.RangeSet(len(daily_returns.index))\n",
        "\n",
        "    m.w = pyo.Var(m.ASSETS)\n",
        "    m.u = pyo.Var(m.TIME, domain=pyo.NonNegativeReals)\n",
        "    m.v = pyo.Var(m.TIME, domain=pyo.NonNegativeReals)\n",
        "\n",
        "    @m.Objective(sense=pyo.minimize)\n",
        "    def MAD(m):\n",
        "        return sum(m.u[t] + m.v[t] for t in m.TIME) / len(m.TIME)\n",
        "\n",
        "    @m.Constraint(m.TIME)\n",
        "    def portfolio_returns(m, t):\n",
        "        date = daily_returns.index[t - 1]\n",
        "        return m.u[t] - m.v[t] == sum(\n",
        "            m.w[j] * (daily_returns.loc[date, j] - mean_return[j]) for j in m.ASSETS\n",
        "        )\n",
        "\n",
        "    @m.Constraint()\n",
        "    def sum_of_weights(m):\n",
        "        return sum(m.w[j] for j in m.ASSETS) == 1\n",
        "\n",
        "    @m.Constraint()\n",
        "    def mean_portfolio_return(m):\n",
        "        return sum(m.w[j] * mean_return[j] for j in m.ASSETS) >= m.R\n",
        "\n",
        "    @m.Constraint(m.ASSETS)\n",
        "    def no_short(m, j):\n",
        "        return m.w[j] >= m.w_lb\n",
        "\n",
        "    @m.Constraint(m.ASSETS)\n",
        "    def diversify(m, j):\n",
        "        return m.w[j] <= m.w_ub\n",
        "\n",
        "    return m\n",
        "\n",
        "\n",
        "m = mad_portfolio(assets)\n",
        "\n",
        "m.w_lb = 0\n",
        "m.w_ub = 0.2\n",
        "m.R = 0.001\n",
        "SOLVER.solve(m)\n",
        "\n",
        "print(f\"Weight lower bound                 {m.w_lb():0.3f}\")\n",
        "print(f\"Weight upper bound                 {m.w_ub():0.3f}\")\n",
        "print(\n",
        "    f\"Optimal weights:                   {[round(m.w[j](), 3) if round(m.w[j](), 3) != 0 else 0 for j in m.ASSETS]}\"\n",
        ")\n",
        "print(f\"Fraction of portfolio invested     {m.sum_of_weights():0.3f}\")\n",
        "print(f\"Required portfolio daily return    {m.R():0.3f}\")\n",
        "print(f\"Portfolio mean daily return        {m.mean_portfolio_return():0.3f}\")\n",
        "print(f\"Portfolio mean absolute deviation  {m.MAD():0.5f}\")"
      ]
    },
    {
      "cell_type": "code",
      "execution_count": null,
      "metadata": {
        "id": "hrJa4QVSC9jg"
      },
      "outputs": [],
      "source": [
        "def mad_visualization(assets, m):\n",
        "    daily_returns = assets.diff()[1:] / assets.shift(1)[1:]\n",
        "    mean_return = daily_returns.mean()\n",
        "    mean_absolute_deviation = abs(daily_returns - mean_return).mean()\n",
        "    mad_portfolio_weights = pd.DataFrame(\n",
        "        [m.w[j]() for j in sorted(m.ASSETS)], index=sorted(m.ASSETS)\n",
        "    )\n",
        "\n",
        "    plt.rcParams[\"font.size\"] = 14\n",
        "    fig, ax = plt.subplots(1, 3, figsize=(15, 0.35 * len(daily_returns.columns)))\n",
        "\n",
        "    # Choose the color maps\n",
        "    color_map1 = plt.get_cmap(\"Greys\")\n",
        "    color_map2 = plt.get_cmap(\"coolwarm\").reversed()\n",
        "    color_map3 = plt.get_cmap(\"YlGn\").reversed()\n",
        "\n",
        "    # MAD Portfolio Optimal Weights\n",
        "    gradient_barplot(ax[0], mad_portfolio_weights[0], color_map1)\n",
        "    ax[0].set_title(\"Optimal weights of MAD portfolio\")\n",
        "    ax[0].set_yticks(np.arange(len(mad_portfolio_weights)))\n",
        "    ax[0].set_yticklabels(mad_portfolio_weights.index)\n",
        "    ax[0].axvline(m.w_lb(), ls=\"--\", color=\"g\")\n",
        "    ax[0].axvline(m.w_ub(), ls=\"--\", color=\"r\")\n",
        "    ax[0].legend(\n",
        "        [\"lower bound\", \"upper bound\"], bbox_to_anchor=(0.97, 0), loc=\"lower right\"\n",
        "    )\n",
        "    ax[0].set_xlim(-0.005, 0.21)\n",
        "\n",
        "    # Asset mean daily return\n",
        "    gradient_barplot(ax[1], mean_return, color_map2)\n",
        "    ax[1].set_title(\"Asset mean daily return\")\n",
        "    ax[1].set_yticks(np.arange(len(mean_return)))\n",
        "    ax[1].set_yticklabels(mean_return.index)\n",
        "    ax[1].axvline(m.R(), ls=\"--\", color=\"g\")\n",
        "    ax[1].axvline(m.mean_portfolio_return() + 0.000015, ls=\"--\", color=\"r\")\n",
        "    ax[1].legend(\n",
        "        [\"required return\", \"portfolio return\"],\n",
        "        bbox_to_anchor=(1.01, 0),\n",
        "        loc=\"lower right\",\n",
        "    )\n",
        "    ax[1].set_xlim(-0.0005, 0.0028)\n",
        "\n",
        "    # Formatter\n",
        "    formatter = ScalarFormatter(useMathText=True)\n",
        "    formatter.set_scientific(True)\n",
        "    formatter.set_powerlimits((-1, 1))\n",
        "    ax[1].xaxis.set_major_formatter(formatter)\n",
        "\n",
        "    # Asset mean absolute deviation\n",
        "    gradient_barplot(ax[2], mean_absolute_deviation, color_map3)\n",
        "    ax[2].set_title(\"Asset mean absolute deviation\")\n",
        "    ax[2].set_yticks(np.arange(len(mean_absolute_deviation)))\n",
        "    ax[2].set_yticklabels(mean_absolute_deviation.index)\n",
        "    ax[2].axvline(m.MAD(), ls=\"--\", color=\"r\")\n",
        "    ax[2].legend([\"portfolio MAD\"], bbox_to_anchor=(1.01, 0), loc=\"lower right\")\n",
        "\n",
        "    # Formatter\n",
        "    formatter = ScalarFormatter(useMathText=True)\n",
        "    formatter.set_scientific(True)\n",
        "    formatter.set_powerlimits((-1, 1))\n",
        "    ax[2].xaxis.set_major_formatter(formatter)\n",
        "    ax[2].set_xlim(-0.001, 0.02)\n",
        "\n",
        "    plt.tight_layout()\n",
        "    plt.show()\n",
        "\n",
        "\n",
        "mad_visualization(assets, m)"
      ]
    },
    {
      "cell_type": "markdown",
      "metadata": {
        "id": "HWK5EoAjC9jg"
      },
      "source": [
        "### MAD risk versus return\n",
        "\n",
        "The portfolio optimization problem has been formulated as the minimization of a risk measure, MAD, subject to a lower bound $R$ on mean portfolio return. Increasing the required return for the portfolio therefore comes at the cost of tolerating a higher level of risk. Finding the optimal trade off between risk and return is a central aspect of any investment strategy.\n",
        "\n",
        "The following cell creates a plot of the risk/return trade off by solving the MAD portfolio optimization problem for increasing values of required return $R$. This should be compared to the similar construction commonly used in presentations of the portfolio optimization problem due to Markowitz."
      ]
    },
    {
      "cell_type": "code",
      "execution_count": null,
      "metadata": {
        "id": "2wVYH6XEC9jg"
      },
      "outputs": [],
      "source": [
        "fig, ax = plt.subplots(1, 1, figsize=(10, 6))\n",
        "for s in assets.keys():\n",
        "    ax.plot(mean_absolute_deviation[s], mean_return[s], \"s\", ms=8)\n",
        "    ax.text(mean_absolute_deviation[s] * 1.03, mean_return[s], s)\n",
        "\n",
        "formatterx = ScalarFormatter(useMathText=True)\n",
        "formatterx.set_scientific(True)\n",
        "formatterx.set_powerlimits((-1, 1))\n",
        "ax.xaxis.set_major_formatter(formatterx)\n",
        "formattery = ScalarFormatter(useMathText=True)\n",
        "formattery.set_scientific(True)\n",
        "formattery.set_powerlimits((-1, 1))\n",
        "ax.yaxis.set_major_formatter(formattery)\n",
        "\n",
        "ax.set_xlim(0, 1.1 * max(mean_absolute_deviation))\n",
        "ax.axhline(0, color=\"r\", linestyle=\"--\")\n",
        "ax.set_title(\"Return vs. Risk\")\n",
        "ax.set_xlabel(\"Mean Absolute Deviation in Daily Returns\")\n",
        "ax.set_ylabel(\"Mean Daily Return\")\n",
        "ax.grid(True)\n",
        "\n",
        "m = mad_portfolio(assets)\n",
        "for R in np.linspace(0, mean_return.max(), 20):\n",
        "    m.R = R\n",
        "    SOLVER.solve(m)\n",
        "    mad_portfolio_weights = pd.DataFrame(\n",
        "        [m.w[a]() for a in sorted(m.ASSETS)], index=sorted(m.ASSETS)\n",
        "    )\n",
        "\n",
        "    portfolio_returns = daily_returns.dot(mad_portfolio_weights)\n",
        "    portfolio_mean_return = portfolio_returns.mean()\n",
        "    portfolio_mean_absolute_deviation = abs(\n",
        "        portfolio_returns - portfolio_mean_return\n",
        "    ).mean()\n",
        "    ax.plot(portfolio_mean_absolute_deviation, portfolio_mean_return, \"ro\", ms=10)\n",
        "\n",
        "plt.tight_layout()\n",
        "plt.show()"
      ]
    },
    {
      "cell_type": "markdown",
      "metadata": {
        "id": "aQ2V9CUuC9jg"
      },
      "source": [
        "### Addition of a Risk-free Asset\n",
        "\n",
        "The option of a holding a risk-free asset as a component of investment can substantially reduce financial risk. The risk-free asset is designated as $j=0$ with a fixed return $\\bar{r}_0$. The fraction invested in asset $j=0$ will be $w_0 = 1 - \\sum_{j=1}^J w_j$. The optimization model becomes\n",
        "\n",
        "$$\n",
        "\\begin{align*}\n",
        "\\min \\quad & \\frac{1}{T} \\sum_{t=1}^T \\Big| \\sum_{j=1}^J w_{j} (r_{t, j} - \\bar{r}_j) \\Big| \\\\\n",
        "\\text{s.t.} \\quad\n",
        "    & \\sum_{j=1}^J w_j (\\bar{r}_j - \\bar{r}_0) \\geq R - \\bar{r}_0 \\\\\n",
        "    & \\sum_{j=1}^J w_j \\leq 1 \\\\\n",
        "    & w_j \\geq 0 & \\forall j\\in 1,\\dots, J \\\\\n",
        "    & w_j \\leq w^{ub}_j & \\forall j\\in 1, \\dots, J.\n",
        "\\end{align*}\n",
        "$$\n",
        "\n",
        "Like for the original MAD portfolio optimization problem, also this one can be reformulated as an LO:\n",
        "\n",
        "$$\n",
        "\\begin{align*}\n",
        "\\min \\quad & \\frac{1}{T} \\sum_{t=1}^T (u_t + v_t) \\\\\n",
        "\\text{s.t.} \\quad\n",
        "    & u_t - v_t = \\sum_{j=1}^J w_j(r_{t,j} - \\bar{r}_j) & \\forall t\\in 1, \\dots, T \\\\\n",
        "    & \\sum_{j=1}^J w_j (\\bar{r}_j - \\bar{r}_0) \\geq R - \\bar{r}_0 \\\\\n",
        "    & \\sum_{j=1}^J w_j \\leq 1 \\\\\n",
        "    & w_j \\geq 0 & \\forall j\\in 1,\\dots, J \\\\\n",
        "    & w_j \\leq w^{ub}_j & \\forall j\\in 1, \\dots, J \\\\\n",
        "    & u_t, v_t \\geq 0 & \\forall t\\in 1, \\dots, T.\n",
        "\\end{align*}\n",
        "$$"
      ]
    },
    {
      "cell_type": "code",
      "execution_count": null,
      "metadata": {
        "id": "oNbGNWE0C9ji"
      },
      "outputs": [],
      "source": [
        "import pyomo.environ as pyo\n",
        "\n",
        "\n",
        "def mad_portfolio_withriskfreeasset(assets):\n",
        "    daily_returns = assets.diff()[1:] / assets.shift(1)[1:]\n",
        "    mean_return = daily_returns.mean()\n",
        "\n",
        "    m = pyo.ConcreteModel()\n",
        "\n",
        "    m.R = pyo.Param(mutable=True, default=0)\n",
        "    m.rf = pyo.Param(mutable=True, default=0)\n",
        "    m.w_lb = pyo.Param(mutable=True, default=0)\n",
        "    m.w_ub = pyo.Param(mutable=True, default=1.0)\n",
        "\n",
        "    m.ASSETS = pyo.Set(initialize=assets.columns)\n",
        "    m.TIME = pyo.RangeSet(len(daily_returns.index))\n",
        "\n",
        "    m.w = pyo.Var(m.ASSETS)\n",
        "    m.u = pyo.Var(m.TIME, domain=pyo.NonNegativeReals)\n",
        "    m.v = pyo.Var(m.TIME, domain=pyo.NonNegativeReals)\n",
        "\n",
        "    @m.Objective(sense=pyo.minimize)\n",
        "    def MAD(m):\n",
        "        return sum(m.u[t] + m.v[t] for t in m.TIME) / len(m.TIME)\n",
        "\n",
        "    @m.Constraint(m.TIME)\n",
        "    def portfolio_returns(m, t):\n",
        "        date = daily_returns.index[t - 1]\n",
        "        return m.u[t] - m.v[t] == sum(\n",
        "            m.w[j] * (daily_returns.loc[date, j] - mean_return[j]) for j in m.ASSETS\n",
        "        )\n",
        "\n",
        "    @m.Constraint()\n",
        "    def sum_of_weights(m):\n",
        "        return sum(m.w[j] for j in m.ASSETS) <= 1\n",
        "\n",
        "    @m.Constraint()\n",
        "    def mean_portfolio_return(m):\n",
        "        return sum(m.w[j] * (mean_return[j] - m.rf) for j in m.ASSETS) >= m.R - m.rf\n",
        "\n",
        "    @m.Constraint(m.ASSETS)\n",
        "    def no_short(m, j):\n",
        "        return m.w[j] >= m.w_lb\n",
        "\n",
        "    @m.Constraint(m.ASSETS)\n",
        "    def diversify(m, j):\n",
        "        return m.w[j] <= m.w_ub\n",
        "\n",
        "    return m\n",
        "\n",
        "\n",
        "m = mad_portfolio_withriskfreeasset(assets)\n",
        "m.w_lb = 0\n",
        "m.w_ub = 0.2\n",
        "m.R = 0.001\n",
        "SOLVER.solve(m)\n",
        "\n",
        "print(f\"Weight lower bound                 {m.w_lb():0.3f}\")\n",
        "print(f\"Weight upper bound                 {m.w_ub():0.3f}\")\n",
        "print(\n",
        "    f\"Optimal weights:                   {[round(m.w[j](), 3) if round(m.w[j](), 3) != 0 else 0 for j in m.ASSETS]}\"\n",
        ")\n",
        "print(f\"Fraction of portfolio invested     {m.sum_of_weights():0.3f}\")\n",
        "print(f\"Required portfolio daily return    {m.R():0.3f}\")\n",
        "print(f\"Portfolio mean daily return        {m.mean_portfolio_return():0.3f}\")\n",
        "print(f\"Portfolio mean absolute deviation  {m.MAD():0.5f}\")\n",
        "\n",
        "mad_visualization(assets, m)"
      ]
    },
    {
      "cell_type": "markdown",
      "metadata": {
        "id": "MCxxGgjJC9ji"
      },
      "source": [
        "### MAD risk versus return with a risk-free asset\n",
        "\n",
        "As above, it is instructive to plot the MAD risk versus required return $R$. The result is similar, but not exactly the same, as  the standard presentation from modern portfolio theory (MPT) for efficient frontier of investing, and the capital market line. A careful look at the the plot below shows minor difference at very high levels of return and risk that departs from the MPT analysis."
      ]
    },
    {
      "cell_type": "code",
      "execution_count": null,
      "metadata": {
        "id": "M0ZOsIN_C9jj"
      },
      "outputs": [],
      "source": [
        "daily_returns = assets.diff()[1:] / assets.shift(1)[1:]\n",
        "mean_return = daily_returns.mean()\n",
        "mean_absolute_deviation = abs(daily_returns - mean_return).mean()\n",
        "\n",
        "fig, ax = plt.subplots(1, 1, figsize=(10, 6))\n",
        "for s in assets.keys():\n",
        "    ax.plot(mean_absolute_deviation[s], mean_return[s], \"s\", ms=8)\n",
        "    ax.text(mean_absolute_deviation[s] * 1.03, mean_return[s], s)\n",
        "\n",
        "formatterx = ScalarFormatter(useMathText=True)\n",
        "formatterx.set_scientific(True)\n",
        "formatterx.set_powerlimits((-1, 1))\n",
        "ax.xaxis.set_major_formatter(formatterx)\n",
        "formattery = ScalarFormatter(useMathText=True)\n",
        "formattery.set_scientific(True)\n",
        "formattery.set_powerlimits((-1, 1))\n",
        "ax.yaxis.set_major_formatter(formattery)\n",
        "\n",
        "ax.set_xlim(0, 1.1 * max(mean_absolute_deviation))\n",
        "ax.axhline(0, color=\"r\", linestyle=\"--\")\n",
        "ax.set_title(\"Return vs. Risk\")\n",
        "ax.set_xlabel(\"Mean Absolute Deviation in Daily Returns\")\n",
        "ax.set_ylabel(\"Mean Daily Return\")\n",
        "ax.grid(True)\n",
        "\n",
        "for color, m in zip(\n",
        "    [\"ro\", \"go\"], [mad_portfolio(assets), mad_portfolio_withriskfreeasset(assets)]\n",
        "):\n",
        "    for R in np.linspace(0, mean_return.max(), 20):\n",
        "        m.R = R\n",
        "        SOLVER.solve(m)\n",
        "        mad_portfolio_weights = pd.DataFrame(\n",
        "            [m.w[a]() for a in sorted(m.ASSETS)], index=sorted(m.ASSETS)\n",
        "        )\n",
        "        portfolio_returns = daily_returns.dot(mad_portfolio_weights)\n",
        "        portfolio_mean_return = portfolio_returns.mean()\n",
        "        portfolio_mean_absolute_deviation = abs(\n",
        "            portfolio_returns - portfolio_mean_return\n",
        "        ).mean()\n",
        "        ax.plot(portfolio_mean_absolute_deviation, portfolio_mean_return, color, ms=10)\n",
        "\n",
        "plt.tight_layout()\n",
        "plt.show()"
      ]
    }
  ],
  "metadata": {
    "colab": {
      "name": "MAD_Portfolio_Optimization.ipynb",
      "provenance": []
    },
    "kernelspec": {
      "display_name": "Python 3 (ipykernel)",
      "language": "python",
      "name": "python3"
    },
    "language_info": {
      "codemirror_mode": {
        "name": "ipython",
        "version": 3
      },
      "file_extension": ".py",
      "mimetype": "text/x-python",
      "name": "python",
      "nbconvert_exporter": "python",
      "pygments_lexer": "ipython3",
      "version": "3.11.2"
    }
  },
  "nbformat": 4,
  "nbformat_minor": 0
}