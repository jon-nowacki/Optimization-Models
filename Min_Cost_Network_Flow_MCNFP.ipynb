{
  "nbformat": 4,
  "nbformat_minor": 0,
  "metadata": {
    "colab": {
      "provenance": [],
      "include_colab_link": true
    },
    "kernelspec": {
      "name": "python3",
      "display_name": "Python 3"
    }
  },
  "cells": [
    {
      "cell_type": "markdown",
      "metadata": {
        "id": "view-in-github",
        "colab_type": "text"
      },
      "source": [
        "<a href=\"https://colab.research.google.com/github/jon-nowacki/Optimization-Models/blob/main/Min_Cost_Network_Flow_MCNFP.ipynb\" target=\"_parent\"><img src=\"https://colab.research.google.com/assets/colab-badge.svg\" alt=\"Open In Colab\"/></a>"
      ]
    },
    {
      "cell_type": "markdown",
      "metadata": {
        "id": "IWF57u74gNcZ"
      },
      "source": [
        "<h1>Minimum Cost Network Flow Problem / Shortest Path</h1>\n",
        "\n",
        "Minimum Cost Network Flow Problem / Shortest Path\n",
        "\n",
        "***Pyomo for MCNFP Shortest Path Problem - Sets Parameters Data File (Part 1)***\n",
        "\n",
        "* https://www.youtube.com/watch?v=utIqVG_HdNI\n",
        "\n",
        "***Pyomo for MCNFP Shortest Path Problem - Decision Variables, Objective and Constraints (Part 2)***\n",
        "* https://www.youtube.com/watch?v=VueVg5lKmjA\n"
      ]
    },
    {
      "cell_type": "markdown",
      "source": [
        "<h1> Step 1 - Install Pyomo</h1>\n",
        "Start by installing the pyomo package.  You will need to do this at the beginning of every session."
      ],
      "metadata": {
        "id": "L-0wrAacWOip"
      }
    },
    {
      "cell_type": "code",
      "metadata": {
        "id": "cg4EYZCngJod"
      },
      "source": [
        "!pip install -q pyomo"
      ],
      "execution_count": null,
      "outputs": []
    },
    {
      "cell_type": "markdown",
      "metadata": {
        "id": "Tbtele-LgdBU"
      },
      "source": [
        "<h1>Step 2 - Install GLPK</h1>\n",
        "Next, install GLPK. You will need to do this at the beginning of every session as well."
      ]
    },
    {
      "cell_type": "code",
      "metadata": {
        "id": "UGjKvtJMgmJB"
      },
      "source": [
        "!apt-get install -y -qq glpk-utils"
      ],
      "execution_count": null,
      "outputs": []
    },
    {
      "cell_type": "markdown",
      "metadata": {
        "id": "RhHi6iKLgv7V"
      },
      "source": [
        "<h1> Step 3 - Create your model</h1>\n",
        "Create your model. Here we are providing the start of the OJ Juice Model:\n",
        "\n",
        "\n"
      ]
    },
    {
      "cell_type": "code",
      "metadata": {
        "id": "gW6OueD3hA6Y"
      },
      "source": [
        "# Lab 5 Pre-Lab: OJ Juice Company Abstract File\n",
        "#Import Required Libraries\n",
        "from pyomo.environ import *\n",
        "from pyomo.opt import SolverStatus, TerminationCondition\n",
        "\n",
        "#create an abstract model object\n",
        "model= AbstractModel()\n",
        "\n",
        "# SETS\n",
        "model.NODES = Set() # power supply at each node\n",
        "model.ARCS = Set(within=model.NODES*model.NODES) # power demand at each node\n",
        "\n",
        "#Parameters\n",
        "model.netDemand = Param(model.NODES) # power supply available at each plant\n",
        "model.cost = Param(model.ARCS) # the power demand at each factory"
      ],
      "execution_count": null,
      "outputs": []
    },
    {
      "cell_type": "markdown",
      "source": [
        "# Create Objective Function & Constraints\n",
        "\n",
        "<img src=\"https://drive.google.com/uc?export=view&id=\" width=\"700\"/>\n",
        "\n",
        "<img src=\"https://drive.google.com/uc?export=view&id=\" width=\"700\"/>\n",
        "\n",
        "***Pyomo for MCNFP Shortest Path Problem - Decision Variables, Objective and Constraints (Part 2)***\n",
        "* https://www.youtube.com/watch?v=VueVg5lKmjA\n"
      ],
      "metadata": {
        "id": "yA1oNl0ZZsQz"
      }
    },
    {
      "cell_type": "code",
      "metadata": {
        "id": "YFmC_l18htgb"
      },
      "source": [
        "# Decision variables\n",
        "# QUIZ: Why ARCS and not NODES ?!??!?!?!??! A: arcs are distance\n",
        "model.x = Var(model.ARCS, within=NonNegativeReals)\n",
        "\n",
        "# Objective Function\n",
        "def objective_rule(model):\n",
        "  return sum(model.cost[i,j]*model.x[i,j] for (i,j) in model.ARCS)\n",
        "model.totalCost = Objective(rule=objective_rule,sense=minimize)"
      ],
      "execution_count": null,
      "outputs": []
    },
    {
      "cell_type": "code",
      "source": [
        "# Subject to / Constraint\n",
        "def net_demand_rule(model,i):\n",
        "  return (sum(model.x[k,i] for k in model.NODES if (k,i) in model.ARCS) \\\n",
        "          -sum(model.x[i,j] for j in model.NODES if (i,j) in model.ARCS) \\\n",
        "          == model.netDemand[i])\n",
        "model.netDemandConstraints = Constraint(model.NODES, rule=net_demand_rule)"
      ],
      "metadata": {
        "id": "mo8Pt3IS-IT7"
      },
      "execution_count": null,
      "outputs": []
    },
    {
      "cell_type": "markdown",
      "source": [
        "# Import the dat file\n",
        "\n",
        "***Pyomo Transportation Problem - Sets Parameters and Data File (Part 1)***\n",
        "\n",
        "https://www.youtube.com/watch?v=H8c8B9HvjQ0&t=10s"
      ],
      "metadata": {
        "id": "fuYKAKxMrxAV"
      }
    },
    {
      "cell_type": "markdown",
      "source": [
        "***Dat file:*** shortestPath.dat\n",
        "\n",
        "```\n",
        "set NODES := A B C D E F G H I J K Z;\n",
        "\n",
        "param: ARCS: cost:=\n",
        "A B 10\n",
        "A D 12\n",
        "A C 9\n",
        "B E 8\n",
        "B F 3.5\n",
        "D F 3\n",
        "D G 7\n",
        "C G 15\n",
        "G I 14\n",
        "G J 5\n",
        "E H 12\n",
        "F E 10\n",
        "F H 18\n",
        "F K 18\n",
        "F I 12\n",
        "I Z 4\n",
        "H K 3\n",
        "K Z 3\n",
        "J Z 2;\n",
        "\n",
        "param netDemand:=\n",
        "A -1\n",
        "B 0\n",
        "C 0\n",
        "D 0\n",
        "E 0\n",
        "F 0\n",
        "G 0\n",
        "H 0\n",
        "I 0\n",
        "J 0\n",
        "K 0\n",
        "Z 1;\n",
        "```\n"
      ],
      "metadata": {
        "id": "CBUsSOpIqixd"
      }
    },
    {
      "cell_type": "markdown",
      "source": [
        "***Dat file:*** shortestPath.dat\n",
        "\n",
        "```\n",
        "set NODES := 1 2 3 4 5 6 7;\n",
        "\n",
        "param: ARCS: cost:=\n",
        "1\t2\t220\n",
        "1\t3\t1500\n",
        "2\t4\t650\n",
        "2\t5\t900\n",
        "4\t7\t500\n",
        "5\t7\t400\n",
        "3\t6\t500\n",
        "6\t7\t400;\n",
        "\n",
        "\n",
        "param netDemand:=\n",
        "1 -1\n",
        "2 0\n",
        "3 0\n",
        "4 0\n",
        "5 0\n",
        "6 0\n",
        "7 1;\n",
        "```\n"
      ],
      "metadata": {
        "id": "iRVZODSATtUe"
      }
    },
    {
      "cell_type": "code",
      "source": [],
      "metadata": {
        "id": "PF2wICX9U-ns"
      },
      "execution_count": null,
      "outputs": []
    },
    {
      "cell_type": "markdown",
      "source": [
        "set NODES := 1 2 3 4 5 6 7 8 9 10;\n",
        "\n",
        "param: ARCS: cost:=\n",
        "1\t2\t220\n",
        "1\t3\t1500\n",
        "2\t4\t650\n",
        "2\t5\t900\n",
        "4\t7\t500\n",
        "5\t7\t400\n",
        "3\t6\t500\n",
        "6\t7\t400;\n",
        "\n",
        "\n",
        "param netDemand:=\n",
        "1 -1\n",
        "2 0\n",
        "3 0\n",
        "4 0\n",
        "5 0\n",
        "6 0\n",
        "7 1;"
      ],
      "metadata": {
        "id": "6YR0mmvCU_Fj"
      }
    },
    {
      "cell_type": "markdown",
      "source": [
        "### Import the data"
      ],
      "metadata": {
        "id": "O6Rbz1trevXE"
      }
    },
    {
      "cell_type": "code",
      "source": [
        "data_file='/content/shortestPath.dat'\n",
        "data = DataPortal()\n"
      ],
      "metadata": {
        "id": "jQgpQyfn_ftB"
      },
      "execution_count": null,
      "outputs": []
    },
    {
      "cell_type": "markdown",
      "source": [],
      "metadata": {
        "id": "qp2F1wKGex9v"
      }
    },
    {
      "cell_type": "code",
      "source": [
        "# ???? why model=model???\n",
        "data.load(filename=data_file, model=model)\n",
        "optimizer=SolverFactory( 'glpk')\n",
        "instance=model.create_instance(data)\n",
        "#instance.pprint()"
      ],
      "metadata": {
        "id": "xe4YKHBweyUW"
      },
      "execution_count": null,
      "outputs": []
    },
    {
      "cell_type": "code",
      "source": [
        "import pandas as pd\n",
        "df=pd.read_csv(data_file)\n",
        "df.head()"
      ],
      "metadata": {
        "colab": {
          "base_uri": "https://localhost:8080/",
          "height": 206
        },
        "id": "w8eqoDEUdaYC",
        "outputId": "f018cfb9-4ae9-4b46-c5b9-9e9b4aa75a3d"
      },
      "execution_count": null,
      "outputs": [
        {
          "output_type": "execute_result",
          "data": {
            "text/plain": [
              "  set NODES := 1 2 3 4 5 6 7;\n",
              "0         param: ARCS: cost:=\n",
              "1                   1\\t2\\t220\n",
              "2                  1\\t3\\t1500\n",
              "3                   2\\t4\\t650\n",
              "4                   2\\t5\\t900"
            ],
            "text/html": [
              "\n",
              "  <div id=\"df-84172eb7-9508-4541-95dd-280823a70f2a\" class=\"colab-df-container\">\n",
              "    <div>\n",
              "<style scoped>\n",
              "    .dataframe tbody tr th:only-of-type {\n",
              "        vertical-align: middle;\n",
              "    }\n",
              "\n",
              "    .dataframe tbody tr th {\n",
              "        vertical-align: top;\n",
              "    }\n",
              "\n",
              "    .dataframe thead th {\n",
              "        text-align: right;\n",
              "    }\n",
              "</style>\n",
              "<table border=\"1\" class=\"dataframe\">\n",
              "  <thead>\n",
              "    <tr style=\"text-align: right;\">\n",
              "      <th></th>\n",
              "      <th>set NODES := 1 2 3 4 5 6 7;</th>\n",
              "    </tr>\n",
              "  </thead>\n",
              "  <tbody>\n",
              "    <tr>\n",
              "      <th>0</th>\n",
              "      <td>param: ARCS: cost:=</td>\n",
              "    </tr>\n",
              "    <tr>\n",
              "      <th>1</th>\n",
              "      <td>1\\t2\\t220</td>\n",
              "    </tr>\n",
              "    <tr>\n",
              "      <th>2</th>\n",
              "      <td>1\\t3\\t1500</td>\n",
              "    </tr>\n",
              "    <tr>\n",
              "      <th>3</th>\n",
              "      <td>2\\t4\\t650</td>\n",
              "    </tr>\n",
              "    <tr>\n",
              "      <th>4</th>\n",
              "      <td>2\\t5\\t900</td>\n",
              "    </tr>\n",
              "  </tbody>\n",
              "</table>\n",
              "</div>\n",
              "    <div class=\"colab-df-buttons\">\n",
              "\n",
              "  <div class=\"colab-df-container\">\n",
              "    <button class=\"colab-df-convert\" onclick=\"convertToInteractive('df-84172eb7-9508-4541-95dd-280823a70f2a')\"\n",
              "            title=\"Convert this dataframe to an interactive table.\"\n",
              "            style=\"display:none;\">\n",
              "\n",
              "  <svg xmlns=\"http://www.w3.org/2000/svg\" height=\"24px\" viewBox=\"0 -960 960 960\">\n",
              "    <path d=\"M120-120v-720h720v720H120Zm60-500h600v-160H180v160Zm220 220h160v-160H400v160Zm0 220h160v-160H400v160ZM180-400h160v-160H180v160Zm440 0h160v-160H620v160ZM180-180h160v-160H180v160Zm440 0h160v-160H620v160Z\"/>\n",
              "  </svg>\n",
              "    </button>\n",
              "\n",
              "  <style>\n",
              "    .colab-df-container {\n",
              "      display:flex;\n",
              "      gap: 12px;\n",
              "    }\n",
              "\n",
              "    .colab-df-convert {\n",
              "      background-color: #E8F0FE;\n",
              "      border: none;\n",
              "      border-radius: 50%;\n",
              "      cursor: pointer;\n",
              "      display: none;\n",
              "      fill: #1967D2;\n",
              "      height: 32px;\n",
              "      padding: 0 0 0 0;\n",
              "      width: 32px;\n",
              "    }\n",
              "\n",
              "    .colab-df-convert:hover {\n",
              "      background-color: #E2EBFA;\n",
              "      box-shadow: 0px 1px 2px rgba(60, 64, 67, 0.3), 0px 1px 3px 1px rgba(60, 64, 67, 0.15);\n",
              "      fill: #174EA6;\n",
              "    }\n",
              "\n",
              "    .colab-df-buttons div {\n",
              "      margin-bottom: 4px;\n",
              "    }\n",
              "\n",
              "    [theme=dark] .colab-df-convert {\n",
              "      background-color: #3B4455;\n",
              "      fill: #D2E3FC;\n",
              "    }\n",
              "\n",
              "    [theme=dark] .colab-df-convert:hover {\n",
              "      background-color: #434B5C;\n",
              "      box-shadow: 0px 1px 3px 1px rgba(0, 0, 0, 0.15);\n",
              "      filter: drop-shadow(0px 1px 2px rgba(0, 0, 0, 0.3));\n",
              "      fill: #FFFFFF;\n",
              "    }\n",
              "  </style>\n",
              "\n",
              "    <script>\n",
              "      const buttonEl =\n",
              "        document.querySelector('#df-84172eb7-9508-4541-95dd-280823a70f2a button.colab-df-convert');\n",
              "      buttonEl.style.display =\n",
              "        google.colab.kernel.accessAllowed ? 'block' : 'none';\n",
              "\n",
              "      async function convertToInteractive(key) {\n",
              "        const element = document.querySelector('#df-84172eb7-9508-4541-95dd-280823a70f2a');\n",
              "        const dataTable =\n",
              "          await google.colab.kernel.invokeFunction('convertToInteractive',\n",
              "                                                    [key], {});\n",
              "        if (!dataTable) return;\n",
              "\n",
              "        const docLinkHtml = 'Like what you see? Visit the ' +\n",
              "          '<a target=\"_blank\" href=https://colab.research.google.com/notebooks/data_table.ipynb>data table notebook</a>'\n",
              "          + ' to learn more about interactive tables.';\n",
              "        element.innerHTML = '';\n",
              "        dataTable['output_type'] = 'display_data';\n",
              "        await google.colab.output.renderOutput(dataTable, element);\n",
              "        const docLink = document.createElement('div');\n",
              "        docLink.innerHTML = docLinkHtml;\n",
              "        element.appendChild(docLink);\n",
              "      }\n",
              "    </script>\n",
              "  </div>\n",
              "\n",
              "\n",
              "<div id=\"df-a5bc887e-8ffb-42e4-ae6b-24db0145f3ba\">\n",
              "  <button class=\"colab-df-quickchart\" onclick=\"quickchart('df-a5bc887e-8ffb-42e4-ae6b-24db0145f3ba')\"\n",
              "            title=\"Suggest charts\"\n",
              "            style=\"display:none;\">\n",
              "\n",
              "<svg xmlns=\"http://www.w3.org/2000/svg\" height=\"24px\"viewBox=\"0 0 24 24\"\n",
              "     width=\"24px\">\n",
              "    <g>\n",
              "        <path d=\"M19 3H5c-1.1 0-2 .9-2 2v14c0 1.1.9 2 2 2h14c1.1 0 2-.9 2-2V5c0-1.1-.9-2-2-2zM9 17H7v-7h2v7zm4 0h-2V7h2v10zm4 0h-2v-4h2v4z\"/>\n",
              "    </g>\n",
              "</svg>\n",
              "  </button>\n",
              "\n",
              "<style>\n",
              "  .colab-df-quickchart {\n",
              "      --bg-color: #E8F0FE;\n",
              "      --fill-color: #1967D2;\n",
              "      --hover-bg-color: #E2EBFA;\n",
              "      --hover-fill-color: #174EA6;\n",
              "      --disabled-fill-color: #AAA;\n",
              "      --disabled-bg-color: #DDD;\n",
              "  }\n",
              "\n",
              "  [theme=dark] .colab-df-quickchart {\n",
              "      --bg-color: #3B4455;\n",
              "      --fill-color: #D2E3FC;\n",
              "      --hover-bg-color: #434B5C;\n",
              "      --hover-fill-color: #FFFFFF;\n",
              "      --disabled-bg-color: #3B4455;\n",
              "      --disabled-fill-color: #666;\n",
              "  }\n",
              "\n",
              "  .colab-df-quickchart {\n",
              "    background-color: var(--bg-color);\n",
              "    border: none;\n",
              "    border-radius: 50%;\n",
              "    cursor: pointer;\n",
              "    display: none;\n",
              "    fill: var(--fill-color);\n",
              "    height: 32px;\n",
              "    padding: 0;\n",
              "    width: 32px;\n",
              "  }\n",
              "\n",
              "  .colab-df-quickchart:hover {\n",
              "    background-color: var(--hover-bg-color);\n",
              "    box-shadow: 0 1px 2px rgba(60, 64, 67, 0.3), 0 1px 3px 1px rgba(60, 64, 67, 0.15);\n",
              "    fill: var(--button-hover-fill-color);\n",
              "  }\n",
              "\n",
              "  .colab-df-quickchart-complete:disabled,\n",
              "  .colab-df-quickchart-complete:disabled:hover {\n",
              "    background-color: var(--disabled-bg-color);\n",
              "    fill: var(--disabled-fill-color);\n",
              "    box-shadow: none;\n",
              "  }\n",
              "\n",
              "  .colab-df-spinner {\n",
              "    border: 2px solid var(--fill-color);\n",
              "    border-color: transparent;\n",
              "    border-bottom-color: var(--fill-color);\n",
              "    animation:\n",
              "      spin 1s steps(1) infinite;\n",
              "  }\n",
              "\n",
              "  @keyframes spin {\n",
              "    0% {\n",
              "      border-color: transparent;\n",
              "      border-bottom-color: var(--fill-color);\n",
              "      border-left-color: var(--fill-color);\n",
              "    }\n",
              "    20% {\n",
              "      border-color: transparent;\n",
              "      border-left-color: var(--fill-color);\n",
              "      border-top-color: var(--fill-color);\n",
              "    }\n",
              "    30% {\n",
              "      border-color: transparent;\n",
              "      border-left-color: var(--fill-color);\n",
              "      border-top-color: var(--fill-color);\n",
              "      border-right-color: var(--fill-color);\n",
              "    }\n",
              "    40% {\n",
              "      border-color: transparent;\n",
              "      border-right-color: var(--fill-color);\n",
              "      border-top-color: var(--fill-color);\n",
              "    }\n",
              "    60% {\n",
              "      border-color: transparent;\n",
              "      border-right-color: var(--fill-color);\n",
              "    }\n",
              "    80% {\n",
              "      border-color: transparent;\n",
              "      border-right-color: var(--fill-color);\n",
              "      border-bottom-color: var(--fill-color);\n",
              "    }\n",
              "    90% {\n",
              "      border-color: transparent;\n",
              "      border-bottom-color: var(--fill-color);\n",
              "    }\n",
              "  }\n",
              "</style>\n",
              "\n",
              "  <script>\n",
              "    async function quickchart(key) {\n",
              "      const quickchartButtonEl =\n",
              "        document.querySelector('#' + key + ' button');\n",
              "      quickchartButtonEl.disabled = true;  // To prevent multiple clicks.\n",
              "      quickchartButtonEl.classList.add('colab-df-spinner');\n",
              "      try {\n",
              "        const charts = await google.colab.kernel.invokeFunction(\n",
              "            'suggestCharts', [key], {});\n",
              "      } catch (error) {\n",
              "        console.error('Error during call to suggestCharts:', error);\n",
              "      }\n",
              "      quickchartButtonEl.classList.remove('colab-df-spinner');\n",
              "      quickchartButtonEl.classList.add('colab-df-quickchart-complete');\n",
              "    }\n",
              "    (() => {\n",
              "      let quickchartButtonEl =\n",
              "        document.querySelector('#df-a5bc887e-8ffb-42e4-ae6b-24db0145f3ba button');\n",
              "      quickchartButtonEl.style.display =\n",
              "        google.colab.kernel.accessAllowed ? 'block' : 'none';\n",
              "    })();\n",
              "  </script>\n",
              "</div>\n",
              "    </div>\n",
              "  </div>\n"
            ]
          },
          "metadata": {},
          "execution_count": 17
        }
      ]
    },
    {
      "cell_type": "code",
      "source": [
        "instance.pprint()"
      ],
      "metadata": {
        "colab": {
          "base_uri": "https://localhost:8080/"
        },
        "id": "NDwFdHaqda3h",
        "outputId": "ca4a48b8-0463-4518-e290-32b9f1212083"
      },
      "execution_count": null,
      "outputs": [
        {
          "output_type": "stream",
          "name": "stdout",
          "text": [
            "3 Set Declarations\n",
            "    ARCS : Size=1, Index=None, Ordered=Insertion\n",
            "        Key  : Dimen : Domain      : Size : Members\n",
            "        None :     2 : ARCS_domain :    8 : {(1, 2), (1, 3), (2, 4), (2, 5), (4, 7), (5, 7), (3, 6), (6, 7)}\n",
            "    ARCS_domain : Size=1, Index=None, Ordered=True\n",
            "        Key  : Dimen : Domain      : Size : Members\n",
            "        None :     2 : NODES*NODES :   49 : {(1, 1), (1, 2), (1, 3), (1, 4), (1, 5), (1, 6), (1, 7), (2, 1), (2, 2), (2, 3), (2, 4), (2, 5), (2, 6), (2, 7), (3, 1), (3, 2), (3, 3), (3, 4), (3, 5), (3, 6), (3, 7), (4, 1), (4, 2), (4, 3), (4, 4), (4, 5), (4, 6), (4, 7), (5, 1), (5, 2), (5, 3), (5, 4), (5, 5), (5, 6), (5, 7), (6, 1), (6, 2), (6, 3), (6, 4), (6, 5), (6, 6), (6, 7), (7, 1), (7, 2), (7, 3), (7, 4), (7, 5), (7, 6), (7, 7)}\n",
            "    NODES : Size=1, Index=None, Ordered=Insertion\n",
            "        Key  : Dimen : Domain : Size : Members\n",
            "        None :     1 :    Any :    7 : {1, 2, 3, 4, 5, 6, 7}\n",
            "\n",
            "2 Param Declarations\n",
            "    cost : Size=8, Index=ARCS, Domain=Any, Default=None, Mutable=False\n",
            "        Key    : Value\n",
            "        (1, 2) :   220\n",
            "        (1, 3) :  1500\n",
            "        (2, 4) :   650\n",
            "        (2, 5) :   900\n",
            "        (3, 6) :   500\n",
            "        (4, 7) :   500\n",
            "        (5, 7) :   400\n",
            "        (6, 7) :   400\n",
            "    netDemand : Size=7, Index=NODES, Domain=Any, Default=None, Mutable=False\n",
            "        Key : Value\n",
            "          1 :    -1\n",
            "          2 :     0\n",
            "          3 :     0\n",
            "          4 :     0\n",
            "          5 :     0\n",
            "          6 :     0\n",
            "          7 :     1\n",
            "\n",
            "1 Var Declarations\n",
            "    x : Size=8, Index=ARCS\n",
            "        Key    : Lower : Value : Upper : Fixed : Stale : Domain\n",
            "        (1, 2) :     0 :  None :  None : False :  True : NonNegativeReals\n",
            "        (1, 3) :     0 :  None :  None : False :  True : NonNegativeReals\n",
            "        (2, 4) :     0 :  None :  None : False :  True : NonNegativeReals\n",
            "        (2, 5) :     0 :  None :  None : False :  True : NonNegativeReals\n",
            "        (3, 6) :     0 :  None :  None : False :  True : NonNegativeReals\n",
            "        (4, 7) :     0 :  None :  None : False :  True : NonNegativeReals\n",
            "        (5, 7) :     0 :  None :  None : False :  True : NonNegativeReals\n",
            "        (6, 7) :     0 :  None :  None : False :  True : NonNegativeReals\n",
            "\n",
            "1 Objective Declarations\n",
            "    totalCost : Size=1, Index=None, Active=True\n",
            "        Key  : Active : Sense    : Expression\n",
            "        None :   True : minimize : 220*x[1,2] + 1500*x[1,3] + 650*x[2,4] + 900*x[2,5] + 500*x[4,7] + 400*x[5,7] + 500*x[3,6] + 400*x[6,7]\n",
            "\n",
            "1 Constraint Declarations\n",
            "    netDemandConstraints : Size=7, Index=NODES, Active=True\n",
            "        Key : Lower : Body                       : Upper : Active\n",
            "          1 :  -1.0 :        - (x[1,2] + x[1,3]) :  -1.0 :   True\n",
            "          2 :   0.0 : x[1,2] - (x[2,4] + x[2,5]) :   0.0 :   True\n",
            "          3 :   0.0 :            x[1,3] - x[3,6] :   0.0 :   True\n",
            "          4 :   0.0 :            x[2,4] - x[4,7] :   0.0 :   True\n",
            "          5 :   0.0 :            x[2,5] - x[5,7] :   0.0 :   True\n",
            "          6 :   0.0 :            x[3,6] - x[6,7] :   0.0 :   True\n",
            "          7 :   1.0 :   x[4,7] + x[5,7] + x[6,7] :   1.0 :   True\n",
            "\n",
            "8 Declarations: NODES ARCS_domain ARCS netDemand cost x totalCost netDemandConstraints\n"
          ]
        }
      ]
    },
    {
      "cell_type": "markdown",
      "source": [
        "# Interpretations\n",
        "\n",
        "```\n",
        "\n",
        "```"
      ],
      "metadata": {
        "id": "KfsNcTlFfZtq"
      }
    },
    {
      "cell_type": "code",
      "source": [
        "optimizer=SolverFactory( 'glpk')\n",
        "# optimizer=SolverFactory( 'glpk',executable='/usr/bin/glpsol')\n",
        "results=optimizer.solve(instance)"
      ],
      "metadata": {
        "id": "JNrY2zWg_6Og"
      },
      "execution_count": null,
      "outputs": []
    },
    {
      "cell_type": "markdown",
      "source": [
        "# Results\n",
        "\n",
        "Key part of the answer:\n",
        "```\n",
        "        ('A', 'D') :     0 :   1.0 :  None : False : False : NonNegativeReals\n",
        "        ('D', 'G') :     0 :   1.0 :  None : False : False : NonNegativeReals\n",
        "        ('G', 'J') :     0 :   1.0 :  None : False : False : NonNegativeReals\n",
        "        ('J', 'Z') :     0 :   1.0 :  None : False : False : NonNegativeReals\n",
        "```\n",
        "```\n",
        "  Objectives:\n",
        "    totalCost : Size=1, Index=None, Active=True\n",
        "        Key  : Active : Value\n",
        "        None :   True :  26.0\n",
        "```\n",
        "\n",
        "### Interpretation\n",
        "So the path is:\n",
        "**A->D->G->J->Z**\n",
        "\n",
        "With a total cost of 26"
      ],
      "metadata": {
        "id": "hRpDUU62giZY"
      }
    },
    {
      "cell_type": "code",
      "source": [
        "instance.display()"
      ],
      "metadata": {
        "id": "De7PMz82ADNF",
        "outputId": "bf146847-7b17-4d66-a327-16a54712aec6",
        "colab": {
          "base_uri": "https://localhost:8080/"
        }
      },
      "execution_count": null,
      "outputs": [
        {
          "output_type": "stream",
          "name": "stdout",
          "text": [
            "Model unknown\n",
            "\n",
            "  Variables:\n",
            "    x : Size=8, Index=ARCS\n",
            "        Key    : Lower : Value : Upper : Fixed : Stale : Domain\n",
            "        (1, 2) :     0 :   1.0 :  None : False : False : NonNegativeReals\n",
            "        (1, 3) :     0 :   0.0 :  None : False : False : NonNegativeReals\n",
            "        (2, 4) :     0 :   1.0 :  None : False : False : NonNegativeReals\n",
            "        (2, 5) :     0 :   0.0 :  None : False : False : NonNegativeReals\n",
            "        (3, 6) :     0 :   0.0 :  None : False : False : NonNegativeReals\n",
            "        (4, 7) :     0 :   1.0 :  None : False : False : NonNegativeReals\n",
            "        (5, 7) :     0 :   0.0 :  None : False : False : NonNegativeReals\n",
            "        (6, 7) :     0 :   0.0 :  None : False : False : NonNegativeReals\n",
            "\n",
            "  Objectives:\n",
            "    totalCost : Size=1, Index=None, Active=True\n",
            "        Key  : Active : Value\n",
            "        None :   True : 1370.0\n",
            "\n",
            "  Constraints:\n",
            "    netDemandConstraints : Size=7\n",
            "        Key : Lower : Body : Upper\n",
            "          1 :  -1.0 : -1.0 :  -1.0\n",
            "          2 :   0.0 :  0.0 :   0.0\n",
            "          3 :   0.0 :  0.0 :   0.0\n",
            "          4 :   0.0 :  0.0 :   0.0\n",
            "          5 :   0.0 :  0.0 :   0.0\n",
            "          6 :   0.0 :  0.0 :   0.0\n",
            "          7 :   1.0 :  1.0 :   1.0\n"
          ]
        }
      ]
    },
    {
      "cell_type": "markdown",
      "source": [
        "# Error Catching\n"
      ],
      "metadata": {
        "id": "hD4LWY4urtbg"
      }
    },
    {
      "cell_type": "code",
      "source": [
        "results=optimizer.solve(instance)                #tells your optimizer to solve the model object\n",
        "\n",
        "\n",
        "if(results.solver.status==SolverStatus.ok) and (results.solver.termination_condition.optimal):\n",
        "  #unbounded.display()                       #writes results to the console so you can see them\n",
        "  print(\"\\t Model Results\")\n",
        "  instance.display()\n",
        "elif(results.solver.termination_condition==TerminationCondition.infeasible) or results.solver.termination_condition==TerminationCondition.other:\n",
        "  print(\"MODEL INFEASIBLE. Check Constraints\")\n",
        "\n",
        "else:\n",
        "  print(\"Solver status\", results.solver.status)\n",
        "  print(\"Termination Condition\", results.solver.termination_condition)"
      ],
      "metadata": {
        "id": "aviHf7_xtweC",
        "colab": {
          "base_uri": "https://localhost:8080/"
        },
        "outputId": "46e9944b-f571-46c7-9e04-2fe865b09ef3"
      },
      "execution_count": null,
      "outputs": [
        {
          "output_type": "stream",
          "name": "stdout",
          "text": [
            "\t Model Results\n",
            "Model unknown\n",
            "\n",
            "  Variables:\n",
            "    x : Size=8, Index=ARCS\n",
            "        Key    : Lower : Value : Upper : Fixed : Stale : Domain\n",
            "        (1, 2) :     0 :   1.0 :  None : False : False : NonNegativeReals\n",
            "        (1, 3) :     0 :   0.0 :  None : False : False : NonNegativeReals\n",
            "        (2, 4) :     0 :   1.0 :  None : False : False : NonNegativeReals\n",
            "        (2, 5) :     0 :   0.0 :  None : False : False : NonNegativeReals\n",
            "        (3, 6) :     0 :   0.0 :  None : False : False : NonNegativeReals\n",
            "        (4, 7) :     0 :   1.0 :  None : False : False : NonNegativeReals\n",
            "        (5, 7) :     0 :   0.0 :  None : False : False : NonNegativeReals\n",
            "        (6, 7) :     0 :   0.0 :  None : False : False : NonNegativeReals\n",
            "\n",
            "  Objectives:\n",
            "    totalCost : Size=1, Index=None, Active=True\n",
            "        Key  : Active : Value\n",
            "        None :   True : 1370.0\n",
            "\n",
            "  Constraints:\n",
            "    netDemandConstraints : Size=7\n",
            "        Key : Lower : Body : Upper\n",
            "          1 :  -1.0 : -1.0 :  -1.0\n",
            "          2 :   0.0 :  0.0 :   0.0\n",
            "          3 :   0.0 :  0.0 :   0.0\n",
            "          4 :   0.0 :  0.0 :   0.0\n",
            "          5 :   0.0 :  0.0 :   0.0\n",
            "          6 :   0.0 :  0.0 :   0.0\n",
            "          7 :   1.0 :  1.0 :   1.0\n"
          ]
        }
      ]
    }
  ]
}