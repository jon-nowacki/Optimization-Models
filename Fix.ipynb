{
  "nbformat": 4,
  "nbformat_minor": 0,
  "metadata": {
    "colab": {
      "provenance": [],
      "authorship_tag": "ABX9TyOQKfSrk2QnSlVTKD+kr6/h",
      "include_colab_link": true
    },
    "kernelspec": {
      "name": "python3",
      "display_name": "Python 3"
    },
    "language_info": {
      "name": "python"
    }
  },
  "cells": [
    {
      "cell_type": "markdown",
      "metadata": {
        "id": "view-in-github",
        "colab_type": "text"
      },
      "source": [
        "<a href=\"https://colab.research.google.com/github/jon-nowacki/Optimization-Models/blob/main/Fix.ipynb\" target=\"_parent\"><img src=\"https://colab.research.google.com/assets/colab-badge.svg\" alt=\"Open In Colab\"/></a>"
      ]
    },
    {
      "cell_type": "markdown",
      "source": [
        "# Fix"
      ],
      "metadata": {
        "id": "p3PqB9lG-B1a"
      }
    },
    {
      "cell_type": "code",
      "source": [
        "if 'google.colab' in sys.modules:\n",
        "    %pip install pyomo >/dev/null 2>/dev/null\n",
        "    %pip install highspy >/dev/null 2>/dev/null\n",
        "    !apt-get install -y -qq coinor-cbc > coinor-cbc.log\n",
        "    import sys\n",
        "    solver = 'cbc'\n",
        "    import pyomo.environ as pyo\n",
        "    SOLVER = pyo.SolverFactory(solver, executable='/usr/bin/cbc')"
      ],
      "metadata": {
        "id": "6ybgF-79-DOP"
      },
      "execution_count": null,
      "outputs": []
    },
    {
      "cell_type": "code",
      "source": [
        "assert SOLVER.available(), f\"Solver {solver} is not available.\""
      ],
      "metadata": {
        "id": "fbkSiKqe-HZs"
      },
      "execution_count": null,
      "outputs": []
    },
    {
      "cell_type": "code",
      "source": [
        "!which cbc"
      ],
      "metadata": {
        "id": "Rf04beNe_GjL"
      },
      "execution_count": null,
      "outputs": []
    }
  ]
}