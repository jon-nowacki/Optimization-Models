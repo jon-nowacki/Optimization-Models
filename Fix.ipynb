{
  "nbformat": 4,
  "nbformat_minor": 0,
  "metadata": {
    "colab": {
      "provenance": [],
      "authorship_tag": "ABX9TyMM33h4h7ZmS/huMpYX6y9D",
      "include_colab_link": true
    },
    "kernelspec": {
      "name": "python3",
      "display_name": "Python 3"
    },
    "language_info": {
      "name": "python"
    }
  },
  "cells": [
    {
      "cell_type": "markdown",
      "metadata": {
        "id": "view-in-github",
        "colab_type": "text"
      },
      "source": [
        "<a href=\"https://colab.research.google.com/github/jon-nowacki/Optimization-Models/blob/main/Fix.ipynb\" target=\"_parent\"><img src=\"https://colab.research.google.com/assets/colab-badge.svg\" alt=\"Open In Colab\"/></a>"
      ]
    },
    {
      "cell_type": "markdown",
      "source": [
        "# Fix\n",
        "\n",
        "Installation on Google Colab can change over time.  This works as of 12/19/2023"
      ],
      "metadata": {
        "id": "p3PqB9lG-B1a"
      }
    },
    {
      "cell_type": "code",
      "source": [
        "import sys\n",
        "if 'google.colab' in sys.modules:\n",
        "    %pip install pyomo >pyomo.log 2>pyomo_err.log\n",
        "    %pip install highspy >highspy.log 2>highspy_err.log\n",
        "    !apt-get install -y -qq coinor-cbc >coinor-cbc.log\n",
        "    solver = 'cbc'\n",
        "    import pyomo.environ as pyo\n",
        "    SOLVER = pyo.SolverFactory(solver, executable='/usr/bin/cbc')\n",
        "\n",
        "assert SOLVER.available(), f\"Solver {solver} is not available.\""
      ],
      "metadata": {
        "id": "6ybgF-79-DOP"
      },
      "execution_count": 3,
      "outputs": []
    },
    {
      "cell_type": "markdown",
      "source": [
        "### Installation Location"
      ],
      "metadata": {
        "id": "bAeiRr2ABGdX"
      }
    },
    {
      "cell_type": "code",
      "source": [
        "!which cbc"
      ],
      "metadata": {
        "colab": {
          "base_uri": "https://localhost:8080/"
        },
        "id": "Rf04beNe_GjL",
        "outputId": "b006662b-3ef0-45f9-d595-c79e0a6eeea9"
      },
      "execution_count": 6,
      "outputs": [
        {
          "output_type": "stream",
          "name": "stdout",
          "text": [
            "/usr/bin/cbc\n"
          ]
        }
      ]
    }
  ]
}