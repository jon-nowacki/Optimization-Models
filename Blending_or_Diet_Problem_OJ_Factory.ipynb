{
  "nbformat": 4,
  "nbformat_minor": 0,
  "metadata": {
    "colab": {
      "provenance": [],
      "include_colab_link": true
    },
    "kernelspec": {
      "name": "python3",
      "display_name": "Python 3"
    }
  },
  "cells": [
    {
      "cell_type": "markdown",
      "metadata": {
        "id": "view-in-github",
        "colab_type": "text"
      },
      "source": [
        "<a href=\"https://colab.research.google.com/github/jon-nowacki/Optimization-Models/blob/main/Blending_or_Diet_Problem_OJ_Factory.ipynb\" target=\"_parent\"><img src=\"https://colab.research.google.com/assets/colab-badge.svg\" alt=\"Open In Colab\"/></a>"
      ]
    },
    {
      "cell_type": "markdown",
      "metadata": {
        "id": "IWF57u74gNcZ"
      },
      "source": [
        "<h1> OJ Videos 9-12</h1>\n",
        "\n",
        "***Advanced Pyomo - OJ Juice Concrete to Abstract (Part 1)***\n",
        "\n",
        "* https://www.youtube.com/watch?v=FS7jZvac6IU\n",
        "\n",
        "***Advanced Pyomo - OJ Juice Concrete to Abstract (Part 2)***<br>\n",
        "Sets, Parameters and Data files\n",
        "\n",
        "*   https://www.youtube.com/watch?v=LG85iLfcDKw\n",
        "\n",
        "***Advanced Pyomo - OJ Juice Concrete to Abstract (Part 3)***\n",
        "*   https://www.youtube.com/watch?v=IZkHhq71myU\n",
        "\n",
        "***Advanced Pyomo - OJ Juice Concrete to Abstract (Part 4)***\n",
        "* https://www.youtube.com/watch?v=4Al_Z7pQ8_M\n"
      ]
    },
    {
      "cell_type": "markdown",
      "source": [
        "<h1> Step 1 - Install Pyomo</h1>\n",
        "Start by installing the pyomo package.  You will need to do this at the beginning of every session."
      ],
      "metadata": {
        "id": "L-0wrAacWOip"
      }
    },
    {
      "cell_type": "code",
      "metadata": {
        "id": "cg4EYZCngJod",
        "colab": {
          "base_uri": "https://localhost:8080/"
        },
        "outputId": "3ab8e2df-edcc-49e4-c938-29d3f1fcd5b0"
      },
      "source": [
        "!pip install -q pyomo"
      ],
      "execution_count": null,
      "outputs": [
        {
          "output_type": "stream",
          "name": "stdout",
          "text": [
            "\u001b[2K     \u001b[90m━━━━━━━━━━━━━━━━━━━━━━━━━━━━━━━━━━━━━━━━\u001b[0m \u001b[32m12.7/12.7 MB\u001b[0m \u001b[31m28.7 MB/s\u001b[0m eta \u001b[36m0:00:00\u001b[0m\n",
            "\u001b[2K     \u001b[90m━━━━━━━━━━━━━━━━━━━━━━━━━━━━━━━━━━━━━━━━\u001b[0m \u001b[32m49.6/49.6 kB\u001b[0m \u001b[31m2.4 MB/s\u001b[0m eta \u001b[36m0:00:00\u001b[0m\n",
            "\u001b[?25h"
          ]
        }
      ]
    },
    {
      "cell_type": "markdown",
      "metadata": {
        "id": "Tbtele-LgdBU"
      },
      "source": [
        "<h1>Step 2 - Install GLPK</h1>\n",
        "Next, install GLPK. You will need to do this at the beginning of every session as well."
      ]
    },
    {
      "cell_type": "code",
      "metadata": {
        "id": "UGjKvtJMgmJB",
        "colab": {
          "base_uri": "https://localhost:8080/"
        },
        "outputId": "7f79e19b-a4f2-451e-bc53-7ac69aac1211"
      },
      "source": [
        "!apt-get install -y -qq glpk-utils"
      ],
      "execution_count": null,
      "outputs": [
        {
          "output_type": "stream",
          "name": "stdout",
          "text": [
            "Selecting previously unselected package libsuitesparseconfig5:amd64.\n",
            "(Reading database ... 120893 files and directories currently installed.)\n",
            "Preparing to unpack .../libsuitesparseconfig5_1%3a5.10.1+dfsg-4build1_amd64.deb ...\n",
            "Unpacking libsuitesparseconfig5:amd64 (1:5.10.1+dfsg-4build1) ...\n",
            "Selecting previously unselected package libamd2:amd64.\n",
            "Preparing to unpack .../libamd2_1%3a5.10.1+dfsg-4build1_amd64.deb ...\n",
            "Unpacking libamd2:amd64 (1:5.10.1+dfsg-4build1) ...\n",
            "Selecting previously unselected package libcolamd2:amd64.\n",
            "Preparing to unpack .../libcolamd2_1%3a5.10.1+dfsg-4build1_amd64.deb ...\n",
            "Unpacking libcolamd2:amd64 (1:5.10.1+dfsg-4build1) ...\n",
            "Selecting previously unselected package libglpk40:amd64.\n",
            "Preparing to unpack .../libglpk40_5.0-1_amd64.deb ...\n",
            "Unpacking libglpk40:amd64 (5.0-1) ...\n",
            "Selecting previously unselected package glpk-utils.\n",
            "Preparing to unpack .../glpk-utils_5.0-1_amd64.deb ...\n",
            "Unpacking glpk-utils (5.0-1) ...\n",
            "Setting up libsuitesparseconfig5:amd64 (1:5.10.1+dfsg-4build1) ...\n",
            "Setting up libamd2:amd64 (1:5.10.1+dfsg-4build1) ...\n",
            "Setting up libcolamd2:amd64 (1:5.10.1+dfsg-4build1) ...\n",
            "Setting up libglpk40:amd64 (5.0-1) ...\n",
            "Setting up glpk-utils (5.0-1) ...\n",
            "Processing triggers for man-db (2.10.2-1) ...\n",
            "Processing triggers for libc-bin (2.35-0ubuntu3.1) ...\n",
            "/sbin/ldconfig.real: /usr/local/lib/libtbbmalloc.so.2 is not a symbolic link\n",
            "\n",
            "/sbin/ldconfig.real: /usr/local/lib/libtbbmalloc_proxy.so.2 is not a symbolic link\n",
            "\n",
            "/sbin/ldconfig.real: /usr/local/lib/libtbb.so.12 is not a symbolic link\n",
            "\n",
            "/sbin/ldconfig.real: /usr/local/lib/libtbbbind_2_5.so.3 is not a symbolic link\n",
            "\n",
            "/sbin/ldconfig.real: /usr/local/lib/libtbbbind.so.3 is not a symbolic link\n",
            "\n",
            "/sbin/ldconfig.real: /usr/local/lib/libtbbbind_2_0.so.3 is not a symbolic link\n",
            "\n"
          ]
        }
      ]
    },
    {
      "cell_type": "markdown",
      "metadata": {
        "id": "RhHi6iKLgv7V"
      },
      "source": [
        "<h1> Step 3 - Create your model</h1>\n",
        "Create your model. Here we are providing the start of the OJ Juice Model:\n",
        "\n",
        "\n"
      ]
    },
    {
      "cell_type": "code",
      "metadata": {
        "id": "gW6OueD3hA6Y"
      },
      "source": [
        "# Lab 5 Pre-Lab: OJ Juice Company Abstract File\n",
        "#Import Required Libraries\n",
        "from pyomo.environ import *\n",
        "from pyomo.opt import SolverStatus, TerminationCondition\n",
        "\n",
        "#create an abstract model object\n",
        "model= AbstractModel()\n",
        "\n",
        "#SETS\n",
        "model.QUALITIES = Set() #the available qualities of oranges\n",
        "model.PRODUCTS = Set() #the set of products you can make\n",
        "\n",
        "#Parameters\n",
        "model.profit = Param(model.PRODUCTS) # the profit of each product\n",
        "model.available = Param(model.QUALITIES) # the amount of each qualitiy available in lbs\n",
        "model.requiredQuality = Param(model.PRODUCTS) # the required avg quality of each product"
      ],
      "execution_count": null,
      "outputs": []
    },
    {
      "cell_type": "markdown",
      "source": [
        "# Create Constraints\n",
        "\n",
        "<img src=\"https://drive.google.com/uc?export=view&id=1GMjG4InncnpHh4YY1nbHcK_TEOIX19yg\" width=\"700\"/>\n",
        "\n",
        "<img src=\"https://drive.google.com/uc?export=view&id=13b1t5OtbNr8Re-wKhvztLwxMaj5N39Qh\" width=\"700\"/>\n"
      ],
      "metadata": {
        "id": "yA1oNl0ZZsQz"
      }
    },
    {
      "cell_type": "code",
      "metadata": {
        "id": "YFmC_l18htgb"
      },
      "source": [
        "# Decision variables\n",
        "model.x = Var(model.QUALITIES,model.PRODUCTS,within=NonNegativeReals)\n",
        "\n",
        "# Objective Function\n",
        "def max_profit_rule(model):\n",
        "  return sum(model.profit[j]*model.x[i,j] for i in model.QUALITIES for j in model.PRODUCTS)\n",
        "model.maxProfit = Objective(rule=max_profit_rule,sense=maximize)"
      ],
      "execution_count": null,
      "outputs": []
    },
    {
      "cell_type": "code",
      "source": [
        "# Subject to\n",
        "def dont_exceed_available_rule(model,i):\n",
        "  return sum(model.x[i,j] for j in model.PRODUCTS)<=model.available[i]\n",
        "model.dont_exceed_quality_constraint = Constraint(model.QUALITIES, rule=dont_exceed_available_rule)"
      ],
      "metadata": {
        "id": "mo8Pt3IS-IT7"
      },
      "execution_count": null,
      "outputs": []
    },
    {
      "cell_type": "code",
      "source": [
        "# Subject to\n",
        "def required_quality_rule(model,j):\n",
        "  return sum((i - model.requiredQuality[j])*model.x[i,j] for i in model.QUALITIES)>=0\n",
        "model.required_quality_constraint = Constraint(model.PRODUCTS, rule=required_quality_rule)"
      ],
      "metadata": {
        "id": "OIaUKzfB-uts"
      },
      "execution_count": null,
      "outputs": []
    },
    {
      "cell_type": "markdown",
      "source": [
        "# Import the dat file\n",
        "\n",
        "***Advanced Pyomo - OJ Juice Running Abstract Models (Part 4)***\n",
        "\n",
        "https://www.youtube.com/watch?v=4Al_Z7pQ8_M\n"
      ],
      "metadata": {
        "id": "fuYKAKxMrxAV"
      }
    },
    {
      "cell_type": "markdown",
      "source": [
        "Dat file\n",
        "\n",
        "```\n",
        "set QUALITIES := 6 9;\n",
        "set PRODUCTS := juice bags;\n",
        "\n",
        "param profit:=\n",
        "juice 0.45\n",
        "bags 0.30;\n",
        "\n",
        "param available:=\n",
        "6 120000\n",
        "9 100000;\n",
        "\n",
        "param requiredQuality:=\n",
        "juice 8\n",
        "bags 7;\n",
        "```\n",
        "Or define more than one parameter at the same time\n",
        "\n",
        "\n",
        "```\n",
        "set QUALITIES := 6 9;\n",
        "set PRODUCTS := juice bags;\n",
        "\n",
        "param: profit requiredQuality:=\n",
        "juice 0.45 8\n",
        "bags 0.30 7;\n",
        "\n",
        "param available:=\n",
        "6 120000\n",
        "9 100000;\n",
        "```\n",
        "For a more condensed dat file"
      ],
      "metadata": {
        "id": "CBUsSOpIqixd"
      }
    },
    {
      "cell_type": "code",
      "source": [
        "\n",
        "data_file='/content/OJ.dat'\n",
        "data = DataPortal()\n",
        "# ???? why model=model???\n",
        "data.load(filename=data_file, model=model)\n",
        "instance=model.create_instance(data)\n",
        "#instance.pprint()"
      ],
      "metadata": {
        "id": "jQgpQyfn_ftB"
      },
      "execution_count": null,
      "outputs": []
    },
    {
      "cell_type": "code",
      "source": [
        "import pandas as pd\n",
        "df=pd.read_csv(data_file)\n",
        "df.head()"
      ],
      "metadata": {
        "colab": {
          "base_uri": "https://localhost:8080/",
          "height": 206
        },
        "id": "w8eqoDEUdaYC",
        "outputId": "0d1402ac-50de-4b6a-8236-26ee902ebb73"
      },
      "execution_count": null,
      "outputs": [
        {
          "output_type": "execute_result",
          "data": {
            "text/plain": [
              "             set QUALITIES := 6 9;\n",
              "0      set PRODUCTS := juice bags;\n",
              "1  param: profit requiredQuality:=\n",
              "2                     juice 0.45 8\n",
              "3                     bags 0.30 7;\n",
              "4                param available:="
            ],
            "text/html": [
              "\n",
              "  <div id=\"df-3f3ee4c0-afb8-4682-8331-03234b822f9c\" class=\"colab-df-container\">\n",
              "    <div>\n",
              "<style scoped>\n",
              "    .dataframe tbody tr th:only-of-type {\n",
              "        vertical-align: middle;\n",
              "    }\n",
              "\n",
              "    .dataframe tbody tr th {\n",
              "        vertical-align: top;\n",
              "    }\n",
              "\n",
              "    .dataframe thead th {\n",
              "        text-align: right;\n",
              "    }\n",
              "</style>\n",
              "<table border=\"1\" class=\"dataframe\">\n",
              "  <thead>\n",
              "    <tr style=\"text-align: right;\">\n",
              "      <th></th>\n",
              "      <th>set QUALITIES := 6 9;</th>\n",
              "    </tr>\n",
              "  </thead>\n",
              "  <tbody>\n",
              "    <tr>\n",
              "      <th>0</th>\n",
              "      <td>set PRODUCTS := juice bags;</td>\n",
              "    </tr>\n",
              "    <tr>\n",
              "      <th>1</th>\n",
              "      <td>param: profit requiredQuality:=</td>\n",
              "    </tr>\n",
              "    <tr>\n",
              "      <th>2</th>\n",
              "      <td>juice 0.45 8</td>\n",
              "    </tr>\n",
              "    <tr>\n",
              "      <th>3</th>\n",
              "      <td>bags 0.30 7;</td>\n",
              "    </tr>\n",
              "    <tr>\n",
              "      <th>4</th>\n",
              "      <td>param available:=</td>\n",
              "    </tr>\n",
              "  </tbody>\n",
              "</table>\n",
              "</div>\n",
              "    <div class=\"colab-df-buttons\">\n",
              "\n",
              "  <div class=\"colab-df-container\">\n",
              "    <button class=\"colab-df-convert\" onclick=\"convertToInteractive('df-3f3ee4c0-afb8-4682-8331-03234b822f9c')\"\n",
              "            title=\"Convert this dataframe to an interactive table.\"\n",
              "            style=\"display:none;\">\n",
              "\n",
              "  <svg xmlns=\"http://www.w3.org/2000/svg\" height=\"24px\" viewBox=\"0 -960 960 960\">\n",
              "    <path d=\"M120-120v-720h720v720H120Zm60-500h600v-160H180v160Zm220 220h160v-160H400v160Zm0 220h160v-160H400v160ZM180-400h160v-160H180v160Zm440 0h160v-160H620v160ZM180-180h160v-160H180v160Zm440 0h160v-160H620v160Z\"/>\n",
              "  </svg>\n",
              "    </button>\n",
              "\n",
              "  <style>\n",
              "    .colab-df-container {\n",
              "      display:flex;\n",
              "      gap: 12px;\n",
              "    }\n",
              "\n",
              "    .colab-df-convert {\n",
              "      background-color: #E8F0FE;\n",
              "      border: none;\n",
              "      border-radius: 50%;\n",
              "      cursor: pointer;\n",
              "      display: none;\n",
              "      fill: #1967D2;\n",
              "      height: 32px;\n",
              "      padding: 0 0 0 0;\n",
              "      width: 32px;\n",
              "    }\n",
              "\n",
              "    .colab-df-convert:hover {\n",
              "      background-color: #E2EBFA;\n",
              "      box-shadow: 0px 1px 2px rgba(60, 64, 67, 0.3), 0px 1px 3px 1px rgba(60, 64, 67, 0.15);\n",
              "      fill: #174EA6;\n",
              "    }\n",
              "\n",
              "    .colab-df-buttons div {\n",
              "      margin-bottom: 4px;\n",
              "    }\n",
              "\n",
              "    [theme=dark] .colab-df-convert {\n",
              "      background-color: #3B4455;\n",
              "      fill: #D2E3FC;\n",
              "    }\n",
              "\n",
              "    [theme=dark] .colab-df-convert:hover {\n",
              "      background-color: #434B5C;\n",
              "      box-shadow: 0px 1px 3px 1px rgba(0, 0, 0, 0.15);\n",
              "      filter: drop-shadow(0px 1px 2px rgba(0, 0, 0, 0.3));\n",
              "      fill: #FFFFFF;\n",
              "    }\n",
              "  </style>\n",
              "\n",
              "    <script>\n",
              "      const buttonEl =\n",
              "        document.querySelector('#df-3f3ee4c0-afb8-4682-8331-03234b822f9c button.colab-df-convert');\n",
              "      buttonEl.style.display =\n",
              "        google.colab.kernel.accessAllowed ? 'block' : 'none';\n",
              "\n",
              "      async function convertToInteractive(key) {\n",
              "        const element = document.querySelector('#df-3f3ee4c0-afb8-4682-8331-03234b822f9c');\n",
              "        const dataTable =\n",
              "          await google.colab.kernel.invokeFunction('convertToInteractive',\n",
              "                                                    [key], {});\n",
              "        if (!dataTable) return;\n",
              "\n",
              "        const docLinkHtml = 'Like what you see? Visit the ' +\n",
              "          '<a target=\"_blank\" href=https://colab.research.google.com/notebooks/data_table.ipynb>data table notebook</a>'\n",
              "          + ' to learn more about interactive tables.';\n",
              "        element.innerHTML = '';\n",
              "        dataTable['output_type'] = 'display_data';\n",
              "        await google.colab.output.renderOutput(dataTable, element);\n",
              "        const docLink = document.createElement('div');\n",
              "        docLink.innerHTML = docLinkHtml;\n",
              "        element.appendChild(docLink);\n",
              "      }\n",
              "    </script>\n",
              "  </div>\n",
              "\n",
              "\n",
              "<div id=\"df-d3520f81-d174-40b9-8fd1-760aa2a572d0\">\n",
              "  <button class=\"colab-df-quickchart\" onclick=\"quickchart('df-d3520f81-d174-40b9-8fd1-760aa2a572d0')\"\n",
              "            title=\"Suggest charts.\"\n",
              "            style=\"display:none;\">\n",
              "\n",
              "<svg xmlns=\"http://www.w3.org/2000/svg\" height=\"24px\"viewBox=\"0 0 24 24\"\n",
              "     width=\"24px\">\n",
              "    <g>\n",
              "        <path d=\"M19 3H5c-1.1 0-2 .9-2 2v14c0 1.1.9 2 2 2h14c1.1 0 2-.9 2-2V5c0-1.1-.9-2-2-2zM9 17H7v-7h2v7zm4 0h-2V7h2v10zm4 0h-2v-4h2v4z\"/>\n",
              "    </g>\n",
              "</svg>\n",
              "  </button>\n",
              "\n",
              "<style>\n",
              "  .colab-df-quickchart {\n",
              "      --bg-color: #E8F0FE;\n",
              "      --fill-color: #1967D2;\n",
              "      --hover-bg-color: #E2EBFA;\n",
              "      --hover-fill-color: #174EA6;\n",
              "      --disabled-fill-color: #AAA;\n",
              "      --disabled-bg-color: #DDD;\n",
              "  }\n",
              "\n",
              "  [theme=dark] .colab-df-quickchart {\n",
              "      --bg-color: #3B4455;\n",
              "      --fill-color: #D2E3FC;\n",
              "      --hover-bg-color: #434B5C;\n",
              "      --hover-fill-color: #FFFFFF;\n",
              "      --disabled-bg-color: #3B4455;\n",
              "      --disabled-fill-color: #666;\n",
              "  }\n",
              "\n",
              "  .colab-df-quickchart {\n",
              "    background-color: var(--bg-color);\n",
              "    border: none;\n",
              "    border-radius: 50%;\n",
              "    cursor: pointer;\n",
              "    display: none;\n",
              "    fill: var(--fill-color);\n",
              "    height: 32px;\n",
              "    padding: 0;\n",
              "    width: 32px;\n",
              "  }\n",
              "\n",
              "  .colab-df-quickchart:hover {\n",
              "    background-color: var(--hover-bg-color);\n",
              "    box-shadow: 0 1px 2px rgba(60, 64, 67, 0.3), 0 1px 3px 1px rgba(60, 64, 67, 0.15);\n",
              "    fill: var(--button-hover-fill-color);\n",
              "  }\n",
              "\n",
              "  .colab-df-quickchart-complete:disabled,\n",
              "  .colab-df-quickchart-complete:disabled:hover {\n",
              "    background-color: var(--disabled-bg-color);\n",
              "    fill: var(--disabled-fill-color);\n",
              "    box-shadow: none;\n",
              "  }\n",
              "\n",
              "  .colab-df-spinner {\n",
              "    border: 2px solid var(--fill-color);\n",
              "    border-color: transparent;\n",
              "    border-bottom-color: var(--fill-color);\n",
              "    animation:\n",
              "      spin 1s steps(1) infinite;\n",
              "  }\n",
              "\n",
              "  @keyframes spin {\n",
              "    0% {\n",
              "      border-color: transparent;\n",
              "      border-bottom-color: var(--fill-color);\n",
              "      border-left-color: var(--fill-color);\n",
              "    }\n",
              "    20% {\n",
              "      border-color: transparent;\n",
              "      border-left-color: var(--fill-color);\n",
              "      border-top-color: var(--fill-color);\n",
              "    }\n",
              "    30% {\n",
              "      border-color: transparent;\n",
              "      border-left-color: var(--fill-color);\n",
              "      border-top-color: var(--fill-color);\n",
              "      border-right-color: var(--fill-color);\n",
              "    }\n",
              "    40% {\n",
              "      border-color: transparent;\n",
              "      border-right-color: var(--fill-color);\n",
              "      border-top-color: var(--fill-color);\n",
              "    }\n",
              "    60% {\n",
              "      border-color: transparent;\n",
              "      border-right-color: var(--fill-color);\n",
              "    }\n",
              "    80% {\n",
              "      border-color: transparent;\n",
              "      border-right-color: var(--fill-color);\n",
              "      border-bottom-color: var(--fill-color);\n",
              "    }\n",
              "    90% {\n",
              "      border-color: transparent;\n",
              "      border-bottom-color: var(--fill-color);\n",
              "    }\n",
              "  }\n",
              "</style>\n",
              "\n",
              "  <script>\n",
              "    async function quickchart(key) {\n",
              "      const quickchartButtonEl =\n",
              "        document.querySelector('#' + key + ' button');\n",
              "      quickchartButtonEl.disabled = true;  // To prevent multiple clicks.\n",
              "      quickchartButtonEl.classList.add('colab-df-spinner');\n",
              "      try {\n",
              "        const charts = await google.colab.kernel.invokeFunction(\n",
              "            'suggestCharts', [key], {});\n",
              "      } catch (error) {\n",
              "        console.error('Error during call to suggestCharts:', error);\n",
              "      }\n",
              "      quickchartButtonEl.classList.remove('colab-df-spinner');\n",
              "      quickchartButtonEl.classList.add('colab-df-quickchart-complete');\n",
              "    }\n",
              "    (() => {\n",
              "      let quickchartButtonEl =\n",
              "        document.querySelector('#df-d3520f81-d174-40b9-8fd1-760aa2a572d0 button');\n",
              "      quickchartButtonEl.style.display =\n",
              "        google.colab.kernel.accessAllowed ? 'block' : 'none';\n",
              "    })();\n",
              "  </script>\n",
              "</div>\n",
              "    </div>\n",
              "  </div>\n"
            ]
          },
          "metadata": {},
          "execution_count": 70
        }
      ]
    },
    {
      "cell_type": "code",
      "source": [
        "instance.pprint()"
      ],
      "metadata": {
        "colab": {
          "base_uri": "https://localhost:8080/"
        },
        "id": "NDwFdHaqda3h",
        "outputId": "6c4384d7-bf94-48e2-ee7f-c2765dba532e"
      },
      "execution_count": null,
      "outputs": [
        {
          "output_type": "stream",
          "name": "stdout",
          "text": [
            "3 Set Declarations\n",
            "    PRODUCTS : Size=1, Index=None, Ordered=Insertion\n",
            "        Key  : Dimen : Domain : Size : Members\n",
            "        None :     1 :    Any :    2 : {'juice', 'bags'}\n",
            "    QUALITIES : Size=1, Index=None, Ordered=Insertion\n",
            "        Key  : Dimen : Domain : Size : Members\n",
            "        None :     1 :    Any :    2 : {6, 9}\n",
            "    x_index : Size=1, Index=None, Ordered=True\n",
            "        Key  : Dimen : Domain             : Size : Members\n",
            "        None :     2 : QUALITIES*PRODUCTS :    4 : {(6, 'juice'), (6, 'bags'), (9, 'juice'), (9, 'bags')}\n",
            "\n",
            "3 Param Declarations\n",
            "    available : Size=2, Index=QUALITIES, Domain=Any, Default=None, Mutable=False\n",
            "        Key : Value\n",
            "          6 : 120000\n",
            "          9 : 100000\n",
            "    profit : Size=2, Index=PRODUCTS, Domain=Any, Default=None, Mutable=False\n",
            "        Key   : Value\n",
            "         bags :   0.3\n",
            "        juice :  0.45\n",
            "    requiredQuality : Size=2, Index=PRODUCTS, Domain=Any, Default=None, Mutable=False\n",
            "        Key   : Value\n",
            "         bags :     7\n",
            "        juice :     8\n",
            "\n",
            "1 Var Declarations\n",
            "    x : Size=4, Index=x_index\n",
            "        Key          : Lower : Value : Upper : Fixed : Stale : Domain\n",
            "         (6, 'bags') :     0 :  None :  None : False :  True : NonNegativeReals\n",
            "        (6, 'juice') :     0 :  None :  None : False :  True : NonNegativeReals\n",
            "         (9, 'bags') :     0 :  None :  None : False :  True : NonNegativeReals\n",
            "        (9, 'juice') :     0 :  None :  None : False :  True : NonNegativeReals\n",
            "\n",
            "1 Objective Declarations\n",
            "    maxProfit : Size=1, Index=None, Active=True\n",
            "        Key  : Active : Sense    : Expression\n",
            "        None :   True : maximize : 0.45*x[6,juice] + 0.3*x[6,bags] + 0.45*x[9,juice] + 0.3*x[9,bags]\n",
            "\n",
            "2 Constraint Declarations\n",
            "    dont_exceed_quality_constraint : Size=2, Index=QUALITIES, Active=True\n",
            "        Key : Lower : Body                   : Upper    : Active\n",
            "          6 :  -Inf : x[6,juice] + x[6,bags] : 120000.0 :   True\n",
            "          9 :  -Inf : x[9,juice] + x[9,bags] : 100000.0 :   True\n",
            "    required_quality_constraint : Size=2, Index=PRODUCTS, Active=True\n",
            "        Key   : Lower : Body                       : Upper : Active\n",
            "         bags :   0.0 :  - x[6,bags] + 2*x[9,bags] :  +Inf :   True\n",
            "        juice :   0.0 : -2*x[6,juice] + x[9,juice] :  +Inf :   True\n",
            "\n",
            "10 Declarations: QUALITIES PRODUCTS profit available requiredQuality x_index x maxProfit dont_exceed_quality_constraint required_quality_constraint\n"
          ]
        }
      ]
    },
    {
      "cell_type": "code",
      "source": [
        "optimizer=SolverFactory( 'glpk')\n",
        "# optimizer=SolverFactory( 'glpk',executable='/usr/bin/glpsol')\n",
        "results=optimizer.solve(instance)"
      ],
      "metadata": {
        "id": "JNrY2zWg_6Og"
      },
      "execution_count": null,
      "outputs": []
    },
    {
      "cell_type": "code",
      "source": [
        "instance.display()"
      ],
      "metadata": {
        "id": "De7PMz82ADNF",
        "outputId": "7c0966ea-a68f-4a8f-bbc6-5ba0d14b00bd",
        "colab": {
          "base_uri": "https://localhost:8080/"
        }
      },
      "execution_count": null,
      "outputs": [
        {
          "output_type": "stream",
          "name": "stdout",
          "text": [
            "Model unknown\n",
            "\n",
            "  Variables:\n",
            "    x : Size=4, Index=x_index\n",
            "        Key          : Lower : Value            : Upper : Fixed : Stale : Domain\n",
            "         (6, 'bags') :     0 : 93333.3333333333 :  None : False : False : NonNegativeReals\n",
            "        (6, 'juice') :     0 : 26666.6666666667 :  None : False : False : NonNegativeReals\n",
            "         (9, 'bags') :     0 : 46666.6666666667 :  None : False : False : NonNegativeReals\n",
            "        (9, 'juice') :     0 : 53333.3333333333 :  None : False : False : NonNegativeReals\n",
            "\n",
            "  Objectives:\n",
            "    maxProfit : Size=1, Index=None, Active=True\n",
            "        Key  : Active : Value\n",
            "        None :   True : 78000.0\n",
            "\n",
            "  Constraints:\n",
            "    dont_exceed_quality_constraint : Size=2\n",
            "        Key : Lower : Body     : Upper\n",
            "          6 :  None : 120000.0 : 120000.0\n",
            "          9 :  None : 100000.0 : 100000.0\n",
            "    required_quality_constraint : Size=2\n",
            "        Key   : Lower : Body                    : Upper\n",
            "         bags :   0.0 :  1.0186340659856796e-10 :  None\n",
            "        juice :   0.0 : -1.0186340659856796e-10 :  None\n"
          ]
        }
      ]
    },
    {
      "cell_type": "markdown",
      "source": [
        "# Error Catching\n"
      ],
      "metadata": {
        "id": "hD4LWY4urtbg"
      }
    },
    {
      "cell_type": "code",
      "source": [
        "results=optimizer.solve(instance)                #tells your optimizer to solve the model object\n",
        "\n",
        "\n",
        "if(results.solver.status==SolverStatus.ok) and (results.solver.termination_condition.optimal):\n",
        "  #unbounded.display()                       #writes results to the console so you can see them\n",
        "  print(\"\\t Model Results\")\n",
        "  instance.display()\n",
        "elif(results.solver.termination_condition==TerminationCondition.infeasible) or results.solver.termination_condition==TerminationCondition.other:\n",
        "  print(\"MODEL INFEASIBLE. Check Constraints\")\n",
        "\n",
        "else:\n",
        "  print(\"Solver status\", results.solver.status)\n",
        "  print(\"Termination Condition\", results.solver.termination_condition)"
      ],
      "metadata": {
        "id": "aviHf7_xtweC",
        "colab": {
          "base_uri": "https://localhost:8080/"
        },
        "outputId": "961ca6f2-9a2b-48c2-a2b7-decc56cc3c90"
      },
      "execution_count": null,
      "outputs": [
        {
          "output_type": "stream",
          "name": "stdout",
          "text": [
            "\t Model Results\n",
            "Model unknown\n",
            "\n",
            "  Variables:\n",
            "    x : Size=4, Index=x_index\n",
            "        Key          : Lower : Value            : Upper : Fixed : Stale : Domain\n",
            "         (6, 'bags') :     0 : 93333.3333333333 :  None : False : False : NonNegativeReals\n",
            "        (6, 'juice') :     0 : 26666.6666666667 :  None : False : False : NonNegativeReals\n",
            "         (9, 'bags') :     0 : 46666.6666666667 :  None : False : False : NonNegativeReals\n",
            "        (9, 'juice') :     0 : 53333.3333333333 :  None : False : False : NonNegativeReals\n",
            "\n",
            "  Objectives:\n",
            "    maxProfit : Size=1, Index=None, Active=True\n",
            "        Key  : Active : Value\n",
            "        None :   True : 78000.0\n",
            "\n",
            "  Constraints:\n",
            "    dont_exceed_quality_constraint : Size=2\n",
            "        Key : Lower : Body     : Upper\n",
            "          6 :  None : 120000.0 : 120000.0\n",
            "          9 :  None : 100000.0 : 100000.0\n",
            "    required_quality_constraint : Size=2\n",
            "        Key   : Lower : Body                    : Upper\n",
            "         bags :   0.0 :  1.0186340659856796e-10 :  None\n",
            "        juice :   0.0 : -1.0186340659856796e-10 :  None\n"
          ]
        }
      ]
    },
    {
      "cell_type": "code",
      "source": [],
      "metadata": {
        "id": "zjT0fq88kWAy"
      },
      "execution_count": null,
      "outputs": []
    },
    {
      "cell_type": "markdown",
      "source": [
        "\n",
        "\n",
        "\n",
        "***Adding quality 4 oranges***\n",
        "no effect\n",
        "\n",
        "```\n",
        "set QUALITIES := 6 9 4;\n",
        "set PRODUCTS := juice bags;\n",
        "\n",
        "param: profit requiredQuality:=\n",
        "juice 0.45 8\n",
        "bags 0.30 7;\n",
        "\n",
        "param available:=\n",
        "6 120000\n",
        "9 100000\n",
        "4 200000;\n",
        "```\n",
        "\n",
        "***Adding more quality 6 oranges***\n",
        "profit goes up $81k\n",
        "\n",
        "```\n",
        "set QUALITIES := 6 9;\n",
        "set PRODUCTS := juice bags;\n",
        "\n",
        "param: profit requiredQuality:=\n",
        "juice 0.45 8\n",
        "bags 0.30 7;\n",
        "\n",
        "param available:=\n",
        "6 140000\n",
        "9 100000;\n",
        "```\n",
        "\n",
        "***Adding more oranges and products***\n",
        "profit goes up $125k\n",
        "\n",
        "```\n",
        "set QUALITIES := 6 9 4 5 10;\n",
        "set PRODUCTS := juice bags marmalade popsicles;\n",
        "\n",
        "param: profit requiredQuality:=\n",
        "juice 0.45 8\n",
        "bags 0.30 7\n",
        "marmalade 0.37 6\n",
        "popsicles 0.05 3;\n",
        "\n",
        "param available:=\n",
        "6 140000\n",
        "9 100000\n",
        "4 50000\n",
        "5 25000\n",
        "10 3000;\n",
        "```\n",
        "\n",
        "\n",
        "\n"
      ],
      "metadata": {
        "id": "_F5Cq-hOkWU0"
      }
    },
    {
      "cell_type": "code",
      "source": [
        "data_file='/content/OJ.dat'\n",
        "data = DataPortal()\n",
        "# ???? why model=model???\n",
        "data.load(filename=data_file, model=model)\n",
        "instance=model.create_instance(data)\n",
        "optimizer=SolverFactory( 'glpk')\n",
        "# optimizer=SolverFactory( 'glpk',executable='/usr/bin/glpsol')\n",
        "results=optimizer.solve(instance)\n",
        "instance.display()"
      ],
      "metadata": {
        "colab": {
          "base_uri": "https://localhost:8080/"
        },
        "id": "sByQ0oAUkWlx",
        "outputId": "1d0d718d-4ced-4f11-e9d3-3daaf1216001"
      },
      "execution_count": null,
      "outputs": [
        {
          "output_type": "stream",
          "name": "stdout",
          "text": [
            "Model unknown\n",
            "\n",
            "  Variables:\n",
            "    x : Size=20, Index=x_index\n",
            "        Key               : Lower : Value            : Upper : Fixed : Stale : Domain\n",
            "              (4, 'bags') :     0 :              0.0 :  None : False : False : NonNegativeReals\n",
            "             (4, 'juice') :     0 :              0.0 :  None : False : False : NonNegativeReals\n",
            "         (4, 'marmalade') :     0 :          50000.0 :  None : False : False : NonNegativeReals\n",
            "         (4, 'popsicles') :     0 :              0.0 :  None : False : False : NonNegativeReals\n",
            "              (5, 'bags') :     0 :              0.0 :  None : False : False : NonNegativeReals\n",
            "             (5, 'juice') :     0 :              0.0 :  None : False : False : NonNegativeReals\n",
            "         (5, 'marmalade') :     0 :          25000.0 :  None : False : False : NonNegativeReals\n",
            "         (5, 'popsicles') :     0 :              0.0 :  None : False : False : NonNegativeReals\n",
            "              (6, 'bags') :     0 :              0.0 :  None : False : False : NonNegativeReals\n",
            "             (6, 'juice') :     0 : 31166.6666666667 :  None : False : False : NonNegativeReals\n",
            "         (6, 'marmalade') :     0 : 108833.333333333 :  None : False : False : NonNegativeReals\n",
            "         (6, 'popsicles') :     0 :              0.0 :  None : False : False : NonNegativeReals\n",
            "              (9, 'bags') :     0 :              0.0 :  None : False : False : NonNegativeReals\n",
            "             (9, 'juice') :     0 : 62333.3333333333 :  None : False : False : NonNegativeReals\n",
            "         (9, 'marmalade') :     0 : 37666.6666666667 :  None : False : False : NonNegativeReals\n",
            "         (9, 'popsicles') :     0 :              0.0 :  None : False : False : NonNegativeReals\n",
            "             (10, 'bags') :     0 :              0.0 :  None : False : False : NonNegativeReals\n",
            "            (10, 'juice') :     0 :              0.0 :  None : False : False : NonNegativeReals\n",
            "        (10, 'marmalade') :     0 :           3000.0 :  None : False : False : NonNegativeReals\n",
            "        (10, 'popsicles') :     0 :              0.0 :  None : False : False : NonNegativeReals\n",
            "\n",
            "  Objectives:\n",
            "    maxProfit : Size=1, Index=None, Active=True\n",
            "        Key  : Active : Value\n",
            "        None :   True : 125139.99999999988\n",
            "\n",
            "  Constraints:\n",
            "    dont_exceed_quality_constraint : Size=5\n",
            "        Key : Lower : Body              : Upper\n",
            "          4 :  None :           50000.0 :  50000.0\n",
            "          5 :  None :           25000.0 :  25000.0\n",
            "          6 :  None : 139999.9999999997 : 140000.0\n",
            "          9 :  None :          100000.0 : 100000.0\n",
            "         10 :  None :            3000.0 :   3000.0\n",
            "    required_quality_constraint : Size=4\n",
            "        Key       : Lower : Body                    : Upper\n",
            "             bags :   0.0 :                     0.0 :  None\n",
            "            juice :   0.0 : -1.0186340659856796e-10 :  None\n",
            "        marmalade :   0.0 :  1.0186340659856796e-10 :  None\n",
            "        popsicles :   0.0 :                     0.0 :  None\n"
          ]
        }
      ]
    },
    {
      "cell_type": "code",
      "source": [],
      "metadata": {
        "id": "X9mmDsCtkrQS"
      },
      "execution_count": null,
      "outputs": []
    }
  ]
}