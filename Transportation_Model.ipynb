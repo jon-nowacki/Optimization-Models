{
  "nbformat": 4,
  "nbformat_minor": 0,
  "metadata": {
    "colab": {
      "provenance": [],
      "include_colab_link": true
    },
    "kernelspec": {
      "name": "python3",
      "display_name": "Python 3"
    }
  },
  "cells": [
    {
      "cell_type": "markdown",
      "metadata": {
        "id": "view-in-github",
        "colab_type": "text"
      },
      "source": [
        "<a href=\"https://colab.research.google.com/github/jon-nowacki/Optimization-Models/blob/main/Transportation_Model.ipynb\" target=\"_parent\"><img src=\"https://colab.research.google.com/assets/colab-badge.svg\" alt=\"Open In Colab\"/></a>"
      ]
    },
    {
      "cell_type": "markdown",
      "metadata": {
        "id": "IWF57u74gNcZ"
      },
      "source": [
        "<h1> Transporation Model Videos 13-14</h1>\n",
        "\n",
        "***Pyomo Transportation Problem - Sets Parameters and Data File (Part 1)***\n",
        "\n",
        "* https://www.youtube.com/watch?v=H8c8B9HvjQ0\n",
        "\n",
        "***PYOMO Transportation Problem - Decision Variables, Objective Function,, and Constraints (Part 2)***\n",
        "* https://www.youtube.com/watch?v=b8YfCIZY2xI\n"
      ]
    },
    {
      "cell_type": "markdown",
      "source": [
        "<h1> Step 1 - Install Pyomo</h1>\n",
        "Start by installing the pyomo package.  You will need to do this at the beginning of every session."
      ],
      "metadata": {
        "id": "L-0wrAacWOip"
      }
    },
    {
      "cell_type": "code",
      "metadata": {
        "id": "cg4EYZCngJod",
        "colab": {
          "base_uri": "https://localhost:8080/"
        },
        "outputId": "4d1dded2-6c7f-4310-d388-668bb21504ee"
      },
      "source": [
        "!pip install -q pyomo"
      ],
      "execution_count": null,
      "outputs": [
        {
          "output_type": "stream",
          "name": "stdout",
          "text": [
            "\u001b[2K     \u001b[90m━━━━━━━━━━━━━━━━━━━━━━━━━━━━━━━━━━━━━━━━\u001b[0m \u001b[32m12.7/12.7 MB\u001b[0m \u001b[31m22.0 MB/s\u001b[0m eta \u001b[36m0:00:00\u001b[0m\n",
            "\u001b[2K     \u001b[90m━━━━━━━━━━━━━━━━━━━━━━━━━━━━━━━━━━━━━━━━\u001b[0m \u001b[32m49.6/49.6 kB\u001b[0m \u001b[31m4.1 MB/s\u001b[0m eta \u001b[36m0:00:00\u001b[0m\n",
            "\u001b[?25h"
          ]
        }
      ]
    },
    {
      "cell_type": "markdown",
      "metadata": {
        "id": "Tbtele-LgdBU"
      },
      "source": [
        "<h1>Step 2 - Install GLPK</h1>\n",
        "Next, install GLPK. You will need to do this at the beginning of every session as well."
      ]
    },
    {
      "cell_type": "code",
      "metadata": {
        "id": "UGjKvtJMgmJB"
      },
      "source": [
        "!apt-get install -y -qq glpk-utils > /dev/null 2>&1"
      ],
      "execution_count": null,
      "outputs": []
    },
    {
      "cell_type": "markdown",
      "metadata": {
        "id": "RhHi6iKLgv7V"
      },
      "source": [
        "<h1> Step 3 - Create your model</h1>\n",
        "Create your model. Here we are providing the start of the OJ Juice Model:\n",
        "\n",
        "\n"
      ]
    },
    {
      "cell_type": "code",
      "metadata": {
        "id": "gW6OueD3hA6Y"
      },
      "source": [
        "# Lab 5 Pre-Lab: OJ Juice Company Abstract File\n",
        "#Import Required Libraries\n",
        "from pyomo.environ import *\n",
        "from pyomo.opt import SolverStatus, TerminationCondition\n",
        "\n",
        "#create an abstract model object\n",
        "model= AbstractModel()\n",
        "\n",
        "# SETS\n",
        "model.SUPPLIES = Set() # power supply at each node\n",
        "model.DEMANDS = Set() # power demand at each node\n",
        "#Parameters\n",
        "model.s = Param(model.SUPPLIES) # power supply available at each plant\n",
        "model.d = Param(model.DEMANDS) # the power demand at each factory\n",
        "model.c = Param(model.SUPPLIES, model.DEMANDS) # the cost of transporting power"
      ],
      "execution_count": null,
      "outputs": []
    },
    {
      "cell_type": "markdown",
      "source": [
        "# Create Objective Function & Constraints\n",
        "\n",
        "<img src=\"https://drive.google.com/uc?export=view&id=\" width=\"700\"/>\n",
        "\n",
        "<img src=\"https://drive.google.com/uc?export=view&id=\" width=\"700\"/>\n",
        "\n",
        "***PYOMO Transportation Problem - Decision Variables, Objective Function,, and Constraints (Part 2)***\n",
        "* https://www.youtube.com/watch?v=b8YfCIZY2xI\n"
      ],
      "metadata": {
        "id": "yA1oNl0ZZsQz"
      }
    },
    {
      "cell_type": "code",
      "metadata": {
        "id": "YFmC_l18htgb"
      },
      "source": [
        "# Decision variables\n",
        "model.x = Var(model.SUPPLIES,model.DEMANDS,within=NonNegativeReals)\n",
        "\n",
        "# Objective Function\n",
        "def objective_rule(model):\n",
        "  return sum(model.c[i,j]*model.x[i,j] for i in model.SUPPLIES for j in model.DEMANDS)\n",
        "model.minCost = Objective(rule=objective_rule,sense=minimize)"
      ],
      "execution_count": null,
      "outputs": []
    },
    {
      "cell_type": "code",
      "source": [
        "# Subject to / Constraint\n",
        "def supply_rule(model,i):\n",
        "  return sum(model.x[i,j] for j in model.DEMANDS)==model.s[i]\n",
        "model.supplyConstraints = Constraint(model.SUPPLIES, rule=supply_rule)"
      ],
      "metadata": {
        "id": "mo8Pt3IS-IT7"
      },
      "execution_count": null,
      "outputs": []
    },
    {
      "cell_type": "code",
      "source": [
        "# Subject to / Constraint\n",
        "def demand_rule(model,j):\n",
        "  return sum(model.x[i,j] for i in model.SUPPLIES)==model.d[j]\n",
        "model.demandConstraints = Constraint(model.DEMANDS, rule=demand_rule)"
      ],
      "metadata": {
        "id": "OIaUKzfB-uts"
      },
      "execution_count": null,
      "outputs": []
    },
    {
      "cell_type": "markdown",
      "source": [
        "# Import the dat file\n",
        "\n",
        "***Pyomo Transportation Problem - Sets Parameters and Data File (Part 1)***\n",
        "\n",
        "https://www.youtube.com/watch?v=H8c8B9HvjQ0&t=10s"
      ],
      "metadata": {
        "id": "fuYKAKxMrxAV"
      }
    },
    {
      "cell_type": "markdown",
      "source": [
        "Dat file: transportation.dat\n",
        "\n",
        "```\n",
        "param: SUPPLIES: s:=\n",
        "PLANT1 35\n",
        "PLANT2 50\n",
        "PLANT3 40;\n",
        "\n",
        "param: DEMAND: d:=\n",
        "City1 45\n",
        "City2 20\n",
        "City3 30\n",
        "City4 30;\n",
        "\n",
        "param: c: City1 City2 City3 City4:=\n",
        "PLANT1 8 6 10 9\n",
        "PLANT2 9 12 13 7\n",
        "PLANT3 14 9 16 5;\n",
        "```\n",
        "Or define more than one parameter at the same time\n",
        "\n",
        "\n",
        "```\n",
        "\n",
        "```\n",
        "For a more condensed dat file"
      ],
      "metadata": {
        "id": "CBUsSOpIqixd"
      }
    },
    {
      "cell_type": "code",
      "source": [
        "\n",
        "data_file='/content/transportation.dat'\n",
        "data = DataPortal()\n",
        "# ???? why model=model???\n",
        "data.load(filename=data_file, model=model)\n",
        "instance=model.create_instance(data)\n",
        "#instance.pprint()"
      ],
      "metadata": {
        "id": "jQgpQyfn_ftB"
      },
      "execution_count": null,
      "outputs": []
    },
    {
      "cell_type": "code",
      "source": [
        "import pandas as pd\n",
        "df=pd.read_csv(data_file)\n",
        "df.head()"
      ],
      "metadata": {
        "colab": {
          "base_uri": "https://localhost:8080/",
          "height": 206
        },
        "id": "w8eqoDEUdaYC",
        "outputId": "0d1402ac-50de-4b6a-8236-26ee902ebb73"
      },
      "execution_count": null,
      "outputs": [
        {
          "output_type": "execute_result",
          "data": {
            "text/plain": [
              "             set QUALITIES := 6 9;\n",
              "0      set PRODUCTS := juice bags;\n",
              "1  param: profit requiredQuality:=\n",
              "2                     juice 0.45 8\n",
              "3                     bags 0.30 7;\n",
              "4                param available:="
            ],
            "text/html": [
              "\n",
              "  <div id=\"df-3f3ee4c0-afb8-4682-8331-03234b822f9c\" class=\"colab-df-container\">\n",
              "    <div>\n",
              "<style scoped>\n",
              "    .dataframe tbody tr th:only-of-type {\n",
              "        vertical-align: middle;\n",
              "    }\n",
              "\n",
              "    .dataframe tbody tr th {\n",
              "        vertical-align: top;\n",
              "    }\n",
              "\n",
              "    .dataframe thead th {\n",
              "        text-align: right;\n",
              "    }\n",
              "</style>\n",
              "<table border=\"1\" class=\"dataframe\">\n",
              "  <thead>\n",
              "    <tr style=\"text-align: right;\">\n",
              "      <th></th>\n",
              "      <th>set QUALITIES := 6 9;</th>\n",
              "    </tr>\n",
              "  </thead>\n",
              "  <tbody>\n",
              "    <tr>\n",
              "      <th>0</th>\n",
              "      <td>set PRODUCTS := juice bags;</td>\n",
              "    </tr>\n",
              "    <tr>\n",
              "      <th>1</th>\n",
              "      <td>param: profit requiredQuality:=</td>\n",
              "    </tr>\n",
              "    <tr>\n",
              "      <th>2</th>\n",
              "      <td>juice 0.45 8</td>\n",
              "    </tr>\n",
              "    <tr>\n",
              "      <th>3</th>\n",
              "      <td>bags 0.30 7;</td>\n",
              "    </tr>\n",
              "    <tr>\n",
              "      <th>4</th>\n",
              "      <td>param available:=</td>\n",
              "    </tr>\n",
              "  </tbody>\n",
              "</table>\n",
              "</div>\n",
              "    <div class=\"colab-df-buttons\">\n",
              "\n",
              "  <div class=\"colab-df-container\">\n",
              "    <button class=\"colab-df-convert\" onclick=\"convertToInteractive('df-3f3ee4c0-afb8-4682-8331-03234b822f9c')\"\n",
              "            title=\"Convert this dataframe to an interactive table.\"\n",
              "            style=\"display:none;\">\n",
              "\n",
              "  <svg xmlns=\"http://www.w3.org/2000/svg\" height=\"24px\" viewBox=\"0 -960 960 960\">\n",
              "    <path d=\"M120-120v-720h720v720H120Zm60-500h600v-160H180v160Zm220 220h160v-160H400v160Zm0 220h160v-160H400v160ZM180-400h160v-160H180v160Zm440 0h160v-160H620v160ZM180-180h160v-160H180v160Zm440 0h160v-160H620v160Z\"/>\n",
              "  </svg>\n",
              "    </button>\n",
              "\n",
              "  <style>\n",
              "    .colab-df-container {\n",
              "      display:flex;\n",
              "      gap: 12px;\n",
              "    }\n",
              "\n",
              "    .colab-df-convert {\n",
              "      background-color: #E8F0FE;\n",
              "      border: none;\n",
              "      border-radius: 50%;\n",
              "      cursor: pointer;\n",
              "      display: none;\n",
              "      fill: #1967D2;\n",
              "      height: 32px;\n",
              "      padding: 0 0 0 0;\n",
              "      width: 32px;\n",
              "    }\n",
              "\n",
              "    .colab-df-convert:hover {\n",
              "      background-color: #E2EBFA;\n",
              "      box-shadow: 0px 1px 2px rgba(60, 64, 67, 0.3), 0px 1px 3px 1px rgba(60, 64, 67, 0.15);\n",
              "      fill: #174EA6;\n",
              "    }\n",
              "\n",
              "    .colab-df-buttons div {\n",
              "      margin-bottom: 4px;\n",
              "    }\n",
              "\n",
              "    [theme=dark] .colab-df-convert {\n",
              "      background-color: #3B4455;\n",
              "      fill: #D2E3FC;\n",
              "    }\n",
              "\n",
              "    [theme=dark] .colab-df-convert:hover {\n",
              "      background-color: #434B5C;\n",
              "      box-shadow: 0px 1px 3px 1px rgba(0, 0, 0, 0.15);\n",
              "      filter: drop-shadow(0px 1px 2px rgba(0, 0, 0, 0.3));\n",
              "      fill: #FFFFFF;\n",
              "    }\n",
              "  </style>\n",
              "\n",
              "    <script>\n",
              "      const buttonEl =\n",
              "        document.querySelector('#df-3f3ee4c0-afb8-4682-8331-03234b822f9c button.colab-df-convert');\n",
              "      buttonEl.style.display =\n",
              "        google.colab.kernel.accessAllowed ? 'block' : 'none';\n",
              "\n",
              "      async function convertToInteractive(key) {\n",
              "        const element = document.querySelector('#df-3f3ee4c0-afb8-4682-8331-03234b822f9c');\n",
              "        const dataTable =\n",
              "          await google.colab.kernel.invokeFunction('convertToInteractive',\n",
              "                                                    [key], {});\n",
              "        if (!dataTable) return;\n",
              "\n",
              "        const docLinkHtml = 'Like what you see? Visit the ' +\n",
              "          '<a target=\"_blank\" href=https://colab.research.google.com/notebooks/data_table.ipynb>data table notebook</a>'\n",
              "          + ' to learn more about interactive tables.';\n",
              "        element.innerHTML = '';\n",
              "        dataTable['output_type'] = 'display_data';\n",
              "        await google.colab.output.renderOutput(dataTable, element);\n",
              "        const docLink = document.createElement('div');\n",
              "        docLink.innerHTML = docLinkHtml;\n",
              "        element.appendChild(docLink);\n",
              "      }\n",
              "    </script>\n",
              "  </div>\n",
              "\n",
              "\n",
              "<div id=\"df-d3520f81-d174-40b9-8fd1-760aa2a572d0\">\n",
              "  <button class=\"colab-df-quickchart\" onclick=\"quickchart('df-d3520f81-d174-40b9-8fd1-760aa2a572d0')\"\n",
              "            title=\"Suggest charts.\"\n",
              "            style=\"display:none;\">\n",
              "\n",
              "<svg xmlns=\"http://www.w3.org/2000/svg\" height=\"24px\"viewBox=\"0 0 24 24\"\n",
              "     width=\"24px\">\n",
              "    <g>\n",
              "        <path d=\"M19 3H5c-1.1 0-2 .9-2 2v14c0 1.1.9 2 2 2h14c1.1 0 2-.9 2-2V5c0-1.1-.9-2-2-2zM9 17H7v-7h2v7zm4 0h-2V7h2v10zm4 0h-2v-4h2v4z\"/>\n",
              "    </g>\n",
              "</svg>\n",
              "  </button>\n",
              "\n",
              "<style>\n",
              "  .colab-df-quickchart {\n",
              "      --bg-color: #E8F0FE;\n",
              "      --fill-color: #1967D2;\n",
              "      --hover-bg-color: #E2EBFA;\n",
              "      --hover-fill-color: #174EA6;\n",
              "      --disabled-fill-color: #AAA;\n",
              "      --disabled-bg-color: #DDD;\n",
              "  }\n",
              "\n",
              "  [theme=dark] .colab-df-quickchart {\n",
              "      --bg-color: #3B4455;\n",
              "      --fill-color: #D2E3FC;\n",
              "      --hover-bg-color: #434B5C;\n",
              "      --hover-fill-color: #FFFFFF;\n",
              "      --disabled-bg-color: #3B4455;\n",
              "      --disabled-fill-color: #666;\n",
              "  }\n",
              "\n",
              "  .colab-df-quickchart {\n",
              "    background-color: var(--bg-color);\n",
              "    border: none;\n",
              "    border-radius: 50%;\n",
              "    cursor: pointer;\n",
              "    display: none;\n",
              "    fill: var(--fill-color);\n",
              "    height: 32px;\n",
              "    padding: 0;\n",
              "    width: 32px;\n",
              "  }\n",
              "\n",
              "  .colab-df-quickchart:hover {\n",
              "    background-color: var(--hover-bg-color);\n",
              "    box-shadow: 0 1px 2px rgba(60, 64, 67, 0.3), 0 1px 3px 1px rgba(60, 64, 67, 0.15);\n",
              "    fill: var(--button-hover-fill-color);\n",
              "  }\n",
              "\n",
              "  .colab-df-quickchart-complete:disabled,\n",
              "  .colab-df-quickchart-complete:disabled:hover {\n",
              "    background-color: var(--disabled-bg-color);\n",
              "    fill: var(--disabled-fill-color);\n",
              "    box-shadow: none;\n",
              "  }\n",
              "\n",
              "  .colab-df-spinner {\n",
              "    border: 2px solid var(--fill-color);\n",
              "    border-color: transparent;\n",
              "    border-bottom-color: var(--fill-color);\n",
              "    animation:\n",
              "      spin 1s steps(1) infinite;\n",
              "  }\n",
              "\n",
              "  @keyframes spin {\n",
              "    0% {\n",
              "      border-color: transparent;\n",
              "      border-bottom-color: var(--fill-color);\n",
              "      border-left-color: var(--fill-color);\n",
              "    }\n",
              "    20% {\n",
              "      border-color: transparent;\n",
              "      border-left-color: var(--fill-color);\n",
              "      border-top-color: var(--fill-color);\n",
              "    }\n",
              "    30% {\n",
              "      border-color: transparent;\n",
              "      border-left-color: var(--fill-color);\n",
              "      border-top-color: var(--fill-color);\n",
              "      border-right-color: var(--fill-color);\n",
              "    }\n",
              "    40% {\n",
              "      border-color: transparent;\n",
              "      border-right-color: var(--fill-color);\n",
              "      border-top-color: var(--fill-color);\n",
              "    }\n",
              "    60% {\n",
              "      border-color: transparent;\n",
              "      border-right-color: var(--fill-color);\n",
              "    }\n",
              "    80% {\n",
              "      border-color: transparent;\n",
              "      border-right-color: var(--fill-color);\n",
              "      border-bottom-color: var(--fill-color);\n",
              "    }\n",
              "    90% {\n",
              "      border-color: transparent;\n",
              "      border-bottom-color: var(--fill-color);\n",
              "    }\n",
              "  }\n",
              "</style>\n",
              "\n",
              "  <script>\n",
              "    async function quickchart(key) {\n",
              "      const quickchartButtonEl =\n",
              "        document.querySelector('#' + key + ' button');\n",
              "      quickchartButtonEl.disabled = true;  // To prevent multiple clicks.\n",
              "      quickchartButtonEl.classList.add('colab-df-spinner');\n",
              "      try {\n",
              "        const charts = await google.colab.kernel.invokeFunction(\n",
              "            'suggestCharts', [key], {});\n",
              "      } catch (error) {\n",
              "        console.error('Error during call to suggestCharts:', error);\n",
              "      }\n",
              "      quickchartButtonEl.classList.remove('colab-df-spinner');\n",
              "      quickchartButtonEl.classList.add('colab-df-quickchart-complete');\n",
              "    }\n",
              "    (() => {\n",
              "      let quickchartButtonEl =\n",
              "        document.querySelector('#df-d3520f81-d174-40b9-8fd1-760aa2a572d0 button');\n",
              "      quickchartButtonEl.style.display =\n",
              "        google.colab.kernel.accessAllowed ? 'block' : 'none';\n",
              "    })();\n",
              "  </script>\n",
              "</div>\n",
              "    </div>\n",
              "  </div>\n"
            ]
          },
          "metadata": {},
          "execution_count": 70
        }
      ]
    },
    {
      "cell_type": "code",
      "source": [
        "instance.pprint()"
      ],
      "metadata": {
        "colab": {
          "base_uri": "https://localhost:8080/"
        },
        "id": "NDwFdHaqda3h",
        "outputId": "16f4b2e6-5f2d-49e9-94f9-c8ac7f9bc407"
      },
      "execution_count": null,
      "outputs": [
        {
          "output_type": "stream",
          "name": "stdout",
          "text": [
            "4 Set Declarations\n",
            "    DEMANDS : Size=1, Index=None, Ordered=Insertion\n",
            "        Key  : Dimen : Domain : Size : Members\n",
            "        None :     1 :    Any :    4 : {'City1', 'City2', 'City3', 'City4'}\n",
            "    SUPPLIES : Size=1, Index=None, Ordered=Insertion\n",
            "        Key  : Dimen : Domain : Size : Members\n",
            "        None :     1 :    Any :    3 : {'PLANT1', 'PLANT2', 'PLANT3'}\n",
            "    c_index : Size=1, Index=None, Ordered=True\n",
            "        Key  : Dimen : Domain           : Size : Members\n",
            "        None :     2 : SUPPLIES*DEMANDS :   12 : {('PLANT1', 'City1'), ('PLANT1', 'City2'), ('PLANT1', 'City3'), ('PLANT1', 'City4'), ('PLANT2', 'City1'), ('PLANT2', 'City2'), ('PLANT2', 'City3'), ('PLANT2', 'City4'), ('PLANT3', 'City1'), ('PLANT3', 'City2'), ('PLANT3', 'City3'), ('PLANT3', 'City4')}\n",
            "    x_index : Size=1, Index=None, Ordered=True\n",
            "        Key  : Dimen : Domain           : Size : Members\n",
            "        None :     2 : SUPPLIES*DEMANDS :   12 : {('PLANT1', 'City1'), ('PLANT1', 'City2'), ('PLANT1', 'City3'), ('PLANT1', 'City4'), ('PLANT2', 'City1'), ('PLANT2', 'City2'), ('PLANT2', 'City3'), ('PLANT2', 'City4'), ('PLANT3', 'City1'), ('PLANT3', 'City2'), ('PLANT3', 'City3'), ('PLANT3', 'City4')}\n",
            "\n",
            "3 Param Declarations\n",
            "    c : Size=12, Index=c_index, Domain=Any, Default=None, Mutable=False\n",
            "        Key                 : Value\n",
            "        ('PLANT1', 'City1') :     8\n",
            "        ('PLANT1', 'City2') :     6\n",
            "        ('PLANT1', 'City3') :    10\n",
            "        ('PLANT1', 'City4') :     9\n",
            "        ('PLANT2', 'City1') :     9\n",
            "        ('PLANT2', 'City2') :    12\n",
            "        ('PLANT2', 'City3') :    13\n",
            "        ('PLANT2', 'City4') :     7\n",
            "        ('PLANT3', 'City1') :    14\n",
            "        ('PLANT3', 'City2') :     9\n",
            "        ('PLANT3', 'City3') :    16\n",
            "        ('PLANT3', 'City4') :     5\n",
            "    d : Size=4, Index=DEMANDS, Domain=Any, Default=None, Mutable=False\n",
            "        Key   : Value\n",
            "        City1 :    45\n",
            "        City2 :    20\n",
            "        City3 :    30\n",
            "        City4 :    30\n",
            "    s : Size=3, Index=SUPPLIES, Domain=Any, Default=None, Mutable=False\n",
            "        Key    : Value\n",
            "        PLANT1 :    35\n",
            "        PLANT2 :    50\n",
            "        PLANT3 :    40\n",
            "\n",
            "1 Var Declarations\n",
            "    x : Size=12, Index=x_index\n",
            "        Key                 : Lower : Value : Upper : Fixed : Stale : Domain\n",
            "        ('PLANT1', 'City1') :     0 :  None :  None : False :  True : NonNegativeReals\n",
            "        ('PLANT1', 'City2') :     0 :  None :  None : False :  True : NonNegativeReals\n",
            "        ('PLANT1', 'City3') :     0 :  None :  None : False :  True : NonNegativeReals\n",
            "        ('PLANT1', 'City4') :     0 :  None :  None : False :  True : NonNegativeReals\n",
            "        ('PLANT2', 'City1') :     0 :  None :  None : False :  True : NonNegativeReals\n",
            "        ('PLANT2', 'City2') :     0 :  None :  None : False :  True : NonNegativeReals\n",
            "        ('PLANT2', 'City3') :     0 :  None :  None : False :  True : NonNegativeReals\n",
            "        ('PLANT2', 'City4') :     0 :  None :  None : False :  True : NonNegativeReals\n",
            "        ('PLANT3', 'City1') :     0 :  None :  None : False :  True : NonNegativeReals\n",
            "        ('PLANT3', 'City2') :     0 :  None :  None : False :  True : NonNegativeReals\n",
            "        ('PLANT3', 'City3') :     0 :  None :  None : False :  True : NonNegativeReals\n",
            "        ('PLANT3', 'City4') :     0 :  None :  None : False :  True : NonNegativeReals\n",
            "\n",
            "1 Objective Declarations\n",
            "    minCost : Size=1, Index=None, Active=True\n",
            "        Key  : Active : Sense    : Expression\n",
            "        None :   True : minimize : 8*x[PLANT1,City1] + 6*x[PLANT1,City2] + 10*x[PLANT1,City3] + 9*x[PLANT1,City4] + 9*x[PLANT2,City1] + 12*x[PLANT2,City2] + 13*x[PLANT2,City3] + 7*x[PLANT2,City4] + 14*x[PLANT3,City1] + 9*x[PLANT3,City2] + 16*x[PLANT3,City3] + 5*x[PLANT3,City4]\n",
            "\n",
            "2 Constraint Declarations\n",
            "    demandConstraints : Size=4, Index=DEMANDS, Active=True\n",
            "        Key   : Lower : Body                                                : Upper : Active\n",
            "        City1 :  45.0 : x[PLANT1,City1] + x[PLANT2,City1] + x[PLANT3,City1] :  45.0 :   True\n",
            "        City2 :  20.0 : x[PLANT1,City2] + x[PLANT2,City2] + x[PLANT3,City2] :  20.0 :   True\n",
            "        City3 :  30.0 : x[PLANT1,City3] + x[PLANT2,City3] + x[PLANT3,City3] :  30.0 :   True\n",
            "        City4 :  30.0 : x[PLANT1,City4] + x[PLANT2,City4] + x[PLANT3,City4] :  30.0 :   True\n",
            "    supplyConstraints : Size=3, Index=SUPPLIES, Active=True\n",
            "        Key    : Lower : Body                                                                  : Upper : Active\n",
            "        PLANT1 :  35.0 : x[PLANT1,City1] + x[PLANT1,City2] + x[PLANT1,City3] + x[PLANT1,City4] :  35.0 :   True\n",
            "        PLANT2 :  50.0 : x[PLANT2,City1] + x[PLANT2,City2] + x[PLANT2,City3] + x[PLANT2,City4] :  50.0 :   True\n",
            "        PLANT3 :  40.0 : x[PLANT3,City1] + x[PLANT3,City2] + x[PLANT3,City3] + x[PLANT3,City4] :  40.0 :   True\n",
            "\n",
            "11 Declarations: SUPPLIES DEMANDS s d c_index c x_index x minCost supplyConstraints demandConstraints\n"
          ]
        }
      ]
    },
    {
      "cell_type": "code",
      "source": [
        "optimizer=SolverFactory( 'glpk')\n",
        "# optimizer=SolverFactory( 'glpk',executable='/usr/bin/glpsol')\n",
        "results=optimizer.solve(instance)"
      ],
      "metadata": {
        "id": "JNrY2zWg_6Og"
      },
      "execution_count": null,
      "outputs": []
    },
    {
      "cell_type": "code",
      "source": [
        "instance.display()"
      ],
      "metadata": {
        "id": "De7PMz82ADNF",
        "outputId": "96812e5e-b073-4b55-f8b5-1f77c686b2d9",
        "colab": {
          "base_uri": "https://localhost:8080/"
        }
      },
      "execution_count": null,
      "outputs": [
        {
          "output_type": "stream",
          "name": "stdout",
          "text": [
            "Model unknown\n",
            "\n",
            "  Variables:\n",
            "    x : Size=12, Index=x_index\n",
            "        Key                 : Lower : Value : Upper : Fixed : Stale : Domain\n",
            "        ('PLANT1', 'City1') :     0 :   0.0 :  None : False : False : NonNegativeReals\n",
            "        ('PLANT1', 'City2') :     0 :  10.0 :  None : False : False : NonNegativeReals\n",
            "        ('PLANT1', 'City3') :     0 :  25.0 :  None : False : False : NonNegativeReals\n",
            "        ('PLANT1', 'City4') :     0 :   0.0 :  None : False : False : NonNegativeReals\n",
            "        ('PLANT2', 'City1') :     0 :  45.0 :  None : False : False : NonNegativeReals\n",
            "        ('PLANT2', 'City2') :     0 :   0.0 :  None : False : False : NonNegativeReals\n",
            "        ('PLANT2', 'City3') :     0 :   5.0 :  None : False : False : NonNegativeReals\n",
            "        ('PLANT2', 'City4') :     0 :   0.0 :  None : False : False : NonNegativeReals\n",
            "        ('PLANT3', 'City1') :     0 :   0.0 :  None : False : False : NonNegativeReals\n",
            "        ('PLANT3', 'City2') :     0 :  10.0 :  None : False : False : NonNegativeReals\n",
            "        ('PLANT3', 'City3') :     0 :   0.0 :  None : False : False : NonNegativeReals\n",
            "        ('PLANT3', 'City4') :     0 :  30.0 :  None : False : False : NonNegativeReals\n",
            "\n",
            "  Objectives:\n",
            "    minCost : Size=1, Index=None, Active=True\n",
            "        Key  : Active : Value\n",
            "        None :   True : 1020.0\n",
            "\n",
            "  Constraints:\n",
            "    supplyConstraints : Size=3\n",
            "        Key    : Lower : Body : Upper\n",
            "        PLANT1 :  35.0 : 35.0 :  35.0\n",
            "        PLANT2 :  50.0 : 50.0 :  50.0\n",
            "        PLANT3 :  40.0 : 40.0 :  40.0\n",
            "    demandConstraints : Size=4\n",
            "        Key   : Lower : Body : Upper\n",
            "        City1 :  45.0 : 45.0 :  45.0\n",
            "        City2 :  20.0 : 20.0 :  20.0\n",
            "        City3 :  30.0 : 30.0 :  30.0\n",
            "        City4 :  30.0 : 30.0 :  30.0\n"
          ]
        }
      ]
    },
    {
      "cell_type": "markdown",
      "source": [
        "# Error Catching\n"
      ],
      "metadata": {
        "id": "hD4LWY4urtbg"
      }
    },
    {
      "cell_type": "code",
      "source": [
        "results=optimizer.solve(instance)                #tells your optimizer to solve the model object\n",
        "\n",
        "\n",
        "if(results.solver.status==SolverStatus.ok) and (results.solver.termination_condition.optimal):\n",
        "  #unbounded.display()                       #writes results to the console so you can see them\n",
        "  print(\"\\t Model Results\")\n",
        "  instance.display()\n",
        "elif(results.solver.termination_condition==TerminationCondition.infeasible) or results.solver.termination_condition==TerminationCondition.other:\n",
        "  print(\"MODEL INFEASIBLE. Check Constraints\")\n",
        "\n",
        "else:\n",
        "  print(\"Solver status\", results.solver.status)\n",
        "  print(\"Termination Condition\", results.solver.termination_condition)"
      ],
      "metadata": {
        "id": "aviHf7_xtweC",
        "colab": {
          "base_uri": "https://localhost:8080/"
        },
        "outputId": "f5f61cd6-d4f1-411f-f987-5841652e255f"
      },
      "execution_count": null,
      "outputs": [
        {
          "output_type": "stream",
          "name": "stdout",
          "text": [
            "\t Model Results\n",
            "Model unknown\n",
            "\n",
            "  Variables:\n",
            "    x : Size=12, Index=x_index\n",
            "        Key                 : Lower : Value : Upper : Fixed : Stale : Domain\n",
            "        ('PLANT1', 'City1') :     0 :   0.0 :  None : False : False : NonNegativeReals\n",
            "        ('PLANT1', 'City2') :     0 :  10.0 :  None : False : False : NonNegativeReals\n",
            "        ('PLANT1', 'City3') :     0 :  25.0 :  None : False : False : NonNegativeReals\n",
            "        ('PLANT1', 'City4') :     0 :   0.0 :  None : False : False : NonNegativeReals\n",
            "        ('PLANT2', 'City1') :     0 :  45.0 :  None : False : False : NonNegativeReals\n",
            "        ('PLANT2', 'City2') :     0 :   0.0 :  None : False : False : NonNegativeReals\n",
            "        ('PLANT2', 'City3') :     0 :   5.0 :  None : False : False : NonNegativeReals\n",
            "        ('PLANT2', 'City4') :     0 :   0.0 :  None : False : False : NonNegativeReals\n",
            "        ('PLANT3', 'City1') :     0 :   0.0 :  None : False : False : NonNegativeReals\n",
            "        ('PLANT3', 'City2') :     0 :  10.0 :  None : False : False : NonNegativeReals\n",
            "        ('PLANT3', 'City3') :     0 :   0.0 :  None : False : False : NonNegativeReals\n",
            "        ('PLANT3', 'City4') :     0 :  30.0 :  None : False : False : NonNegativeReals\n",
            "\n",
            "  Objectives:\n",
            "    minCost : Size=1, Index=None, Active=True\n",
            "        Key  : Active : Value\n",
            "        None :   True : 1020.0\n",
            "\n",
            "  Constraints:\n",
            "    supplyConstraints : Size=3\n",
            "        Key    : Lower : Body : Upper\n",
            "        PLANT1 :  35.0 : 35.0 :  35.0\n",
            "        PLANT2 :  50.0 : 50.0 :  50.0\n",
            "        PLANT3 :  40.0 : 40.0 :  40.0\n",
            "    demandConstraints : Size=4\n",
            "        Key   : Lower : Body : Upper\n",
            "        City1 :  45.0 : 45.0 :  45.0\n",
            "        City2 :  20.0 : 20.0 :  20.0\n",
            "        City3 :  30.0 : 30.0 :  30.0\n",
            "        City4 :  30.0 : 30.0 :  30.0\n"
          ]
        }
      ]
    }
  ]
}