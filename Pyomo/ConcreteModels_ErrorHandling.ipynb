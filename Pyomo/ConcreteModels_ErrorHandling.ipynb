{
  "nbformat": 4,
  "nbformat_minor": 0,
  "metadata": {
    "colab": {
      "provenance": [],
      "include_colab_link": true
    },
    "kernelspec": {
      "name": "python3",
      "display_name": "Python 3"
    }
  },
  "cells": [
    {
      "cell_type": "markdown",
      "metadata": {
        "id": "view-in-github",
        "colab_type": "text"
      },
      "source": [
        "<a href=\"https://colab.research.google.com/github/jon-nowacki/Optimization-Models/blob/main/ConcreteModels_ErrorHandling.ipynb\" target=\"_parent\"><img src=\"https://colab.research.google.com/assets/colab-badge.svg\" alt=\"Open In Colab\"/></a>"
      ]
    },
    {
      "cell_type": "markdown",
      "metadata": {
        "id": "IWF57u74gNcZ"
      },
      "source": [
        "<h1> Step 1 - Install Pyomo</h1>\n",
        "Start by installing the pyomo package.  You will need to do this at the beginning of every session.\n",
        "\n",
        "https://www.youtube.com/watch?v=AOEG_MEwSDA&t=343s"
      ]
    },
    {
      "cell_type": "code",
      "metadata": {
        "id": "cg4EYZCngJod"
      },
      "source": [
        "!pip install -q pyomo"
      ],
      "execution_count": null,
      "outputs": []
    },
    {
      "cell_type": "markdown",
      "metadata": {
        "id": "Tbtele-LgdBU"
      },
      "source": [
        "<h1>Step 2 - Install GLPK</h1>\n",
        "Next, install GLPK. You will need to do this at the beginning of every session as well."
      ]
    },
    {
      "cell_type": "code",
      "metadata": {
        "id": "UGjKvtJMgmJB"
      },
      "source": [
        "!apt-get install -y -qq glpk-utils"
      ],
      "execution_count": null,
      "outputs": []
    },
    {
      "cell_type": "markdown",
      "metadata": {
        "id": "RhHi6iKLgv7V"
      },
      "source": [
        "<h1> Step 3a - Here's the CSL Concrete Model Formulation</h1>\n",
        "\n",
        "The original problem description of the CSL model can be found in Winston, W. (2004) Operations Research: Applications and Algorithms, Fourth Edition, Brooks/Cole Cengage Learning.\n",
        "\n",
        "The concrete version of this model would look like this:\n",
        "\n",
        "<h3> Decision Variables </h3>\n",
        "T1 = number of trainees to train in month 1 <br>\n",
        "T2 = number of trainees to train in month 2<br>\n",
        "T3 = number of trainees to train in month 3<br>\n",
        "T4 = number of trainees to train in month 4<br>\n",
        "T5 = number of trainees to train in month 5<br>\n",
        "\n",
        "E1 = number of experienced technicians at the beginning of month 1 <br>\n",
        "E2 = number of experienced technicians at the beginning of month 2<br>\n",
        "E3 = number of experienced technicians at the beginning of month 3<br>\n",
        "E4 = number of experienced technicians at the beginning of month 4<br>\n",
        "E5 = number of experienced technicians at the beginning of month 5<br>\n",
        "\n",
        "minimize LabourCost = 1000(T1+T2+T3+T4+T5)+2000(E1+E2+E3+E4+E5)\n",
        "\n",
        "<h3> Subject To </h3>\n",
        "160*E1 - 50*T1 >=6000  (meet required hours in Month 1) <br>\n",
        "160*E2 - 50*T2 >=7000  (meet required hours in Month 2) <br>\n",
        "160*E3 - 50*T3 >=8000  (meet required hours in Month 3) <br>\n",
        "160*E4 - 50*T4 >=9500  (meet required hours in Month 4) <br>\n",
        "160*E5 - 50*T5 >=11000 (meet required hours in Month 4) <br>\n",
        "\n",
        "E1=50 (starting number of experienced technicians)<br>\n",
        "E2=0.95*E1 +T1 (experienced technicians at beginning of month 2)<br>\n",
        "E3=0.95*E2 + T2  (experienced technicians at beginning of month 3)<br>\n",
        "E4=0.95*E3 + T3 (experienced technicians at beginning of month 4)<br>\n",
        "E5=0.95*E4 + T4  (experienced technicians at beginning of month 5)<br>\n",
        "\n",
        "T1, T2, T3, T4, T5 >=0 <br>\n",
        "E1, E2, E3, E4, E5 >=0 <br>\n",
        "\n"
      ]
    },
    {
      "cell_type": "markdown",
      "source": [
        "<h1> Step 3b - Here's the CSL Concrete Model in Pyomo</h1>"
      ],
      "metadata": {
        "id": "ijGWsxtaPJci"
      }
    },
    {
      "cell_type": "markdown",
      "source": [
        "<img src=\"https://drive.google.com/uc?export=view&id=1PFzrsQeMPsw6fzlSn0gMCKszGVM99bX3\" width=\"800\"/>\n",
        "\n",
        "\n",
        "**NOTE:** 0.95 is to account for attrition rate of 5%\n",
        "\n",
        "<img src=\"https://drive.google.com/uc?export=view&id=1wmrvl3V8sKxXm4NXWGpWWIki6TunOjx0\" width=\"800\"/>\n",
        "\n",
        "\n",
        "\n"
      ],
      "metadata": {
        "id": "gh9RYfExcX70"
      }
    },
    {
      "cell_type": "markdown",
      "source": [
        "\n",
        "**Key Notes**\n",
        "* X=Y: sets X to Y\n",
        "* X==Y: says X must be equal to Y"
      ],
      "metadata": {
        "id": "LnHDobFRf5KK"
      }
    },
    {
      "cell_type": "code",
      "metadata": {
        "id": "gW6OueD3hA6Y"
      },
      "source": [
        "from pyomo.environ import *\n",
        "\n",
        "#create model object as a concrete model\n",
        "model= ConcreteModel ()\n",
        "\n",
        "#declare variables\n",
        "model.T1 = Var(within=NonNegativeReals) #no. of trainees to train in month 1\n",
        "model.T2 = Var(within=NonNegativeReals) #no. of trainees to train in month 2\n",
        "model.T3 = Var(within=NonNegativeReals) #no. of trainees to train in month 3\n",
        "model.T4 = Var(within=NonNegativeReals) #no. of trainees to train in month 4\n",
        "model.T5 = Var(within=NonNegativeReals) #no. of trainees to train in month 5\n",
        "\n",
        "model.E1 = Var(within=NonNegativeReals) #no. of experience techs at the beginning of month 1\n",
        "model.E2 = Var(within=NonNegativeReals) #no. of experience techs at the beginning of month 2\n",
        "model.E3 = Var(within=NonNegativeReals) #no. of experience techs at the beginning of month 3\n",
        "model.E4 = Var(within=NonNegativeReals) #no. of experience techs at the beginning of month 4\n",
        "model.E5 = Var(within=NonNegativeReals) #no. of experience techs at the beginning of month 5\n",
        "\n",
        "#objective function - Minimize the total labor costs\n",
        "model.MinimizeLabourCost = Objective (expr = 1000*model.T1+1000*model.T2+1000*model.T3+1000*model.T4+\n",
        "1000*model.T5+2000*model.E1+2000*model.E2+2000*model.E3+2000*model.E4+2000*model.E5,sense= minimize)\n",
        "\n",
        "# Constraints to make sure we meed demand each month\n",
        "model.month1Demand = Constraint (expr = 160*model.E1 - 50*model.T1 >=6000)\n",
        "model.month2Demand = Constraint (expr = 160*model.E2 - 50*model.T2 >=7000)\n",
        "model.month3Demand = Constraint (expr = 160*model.E3 - 50*model.T3 >=8000)\n",
        "model.month4Demand = Constraint (expr = 160*model.E4 - 50*model.T4 >=9500)\n",
        "model.month5Demand = Constraint (expr = 160*model.E5 - 50*model.T5 >=11000)\n",
        "\n",
        "#Constraints to keep track of the number of experienced technicians at the beginning of each month\n",
        "model.experMonth1 = Constraint (expr = model.E1==50)\n",
        "model.experMonth2 = Constraint (expr = model.E2==0.95*model.E1 + model.T1)\n",
        "model.experMonth3= Constraint (expr = model.E3==0.95*model.E2 + model.T2)\n",
        "model.experMonth4= Constraint (expr = model.E4==0.95*model.E3 + model.T3)\n",
        "model.experMonth5= Constraint (expr = model.E5==0.95*model.E4 + model.T4)\n",
        "\n"
      ],
      "execution_count": null,
      "outputs": []
    },
    {
      "cell_type": "markdown",
      "metadata": {
        "id": "j3xjAimMhn84"
      },
      "source": [
        "<h1> Step 4 - Solve the Model </h1>\n",
        "Next we must create a SolverFactory that uses the glpk solver. Then solve the model and display the results."
      ]
    },
    {
      "cell_type": "code",
      "metadata": {
        "id": "YFmC_l18htgb",
        "colab": {
          "base_uri": "https://localhost:8080/"
        },
        "outputId": "3929e74b-1257-42ea-97d8-8f5babbca59f"
      },
      "source": [
        "#Lines to run the model from within a python IDE\n",
        "optimizer = SolverFactory(\"glpk\",executable='/usr/bin/glpsol')     #creates an optimizer object that uses the glpk package installed to your usr/bin.\n",
        "optimizer.solve(model)                #tells your optimizer to solve the model object\n",
        "model.display()                       #writes results to the console so you can see them"
      ],
      "execution_count": null,
      "outputs": [
        {
          "output_type": "stream",
          "name": "stdout",
          "text": [
            "Model unknown\n",
            "\n",
            "  Variables:\n",
            "    T1 : Size=1, Index=None\n",
            "        Key  : Lower : Value : Upper : Fixed : Stale : Domain\n",
            "        None :     0 :   0.0 :  None : False : False : NonNegativeReals\n",
            "    T2 : Size=1, Index=None\n",
            "        Key  : Lower : Value            : Upper : Fixed : Stale : Domain\n",
            "        None :     0 : 8.45316809406301 :  None : False : False : NonNegativeReals\n",
            "    T3 : Size=1, Index=None\n",
            "        Key  : Lower : Value            : Upper : Fixed : Stale : Domain\n",
            "        None :     0 : 11.4501379010016 :  None : False : False : NonNegativeReals\n",
            "    T4 : Size=1, Index=None\n",
            "        Key  : Lower : Value            : Upper : Fixed : Stale : Domain\n",
            "        None :     0 : 9.51807228915664 :  None : False : False : NonNegativeReals\n",
            "    T5 : Size=1, Index=None\n",
            "        Key  : Lower : Value : Upper : Fixed : Stale : Domain\n",
            "        None :     0 :   0.0 :  None : False : False : NonNegativeReals\n",
            "    E1 : Size=1, Index=None\n",
            "        Key  : Lower : Value : Upper : Fixed : Stale : Domain\n",
            "        None :     0 :  50.0 :  None : False : False : NonNegativeReals\n",
            "    E2 : Size=1, Index=None\n",
            "        Key  : Lower : Value : Upper : Fixed : Stale : Domain\n",
            "        None :     0 :  47.5 :  None : False : False : NonNegativeReals\n",
            "    E3 : Size=1, Index=None\n",
            "        Key  : Lower : Value           : Upper : Fixed : Stale : Domain\n",
            "        None :     0 : 53.578168094063 :  None : False : False : NonNegativeReals\n",
            "    E4 : Size=1, Index=None\n",
            "        Key  : Lower : Value            : Upper : Fixed : Stale : Domain\n",
            "        None :     0 : 62.3493975903614 :  None : False : False : NonNegativeReals\n",
            "    E5 : Size=1, Index=None\n",
            "        Key  : Lower : Value : Upper : Fixed : Stale : Domain\n",
            "        None :     0 : 68.75 :  None : False : False : NonNegativeReals\n",
            "\n",
            "  Objectives:\n",
            "    MinimizeLabourCost : Size=1, Index=None, Active=True\n",
            "        Key  : Active : Value\n",
            "        None :   True : 593776.50965307\n",
            "\n",
            "  Constraints:\n",
            "    month1Demand : Size=1\n",
            "        Key  : Lower  : Body   : Upper\n",
            "        None : 6000.0 : 8000.0 :  None\n",
            "    month2Demand : Size=1\n",
            "        Key  : Lower  : Body             : Upper\n",
            "        None : 7000.0 : 7177.34159529685 :  None\n",
            "    month3Demand : Size=1\n",
            "        Key  : Lower  : Body              : Upper\n",
            "        None : 8000.0 : 8000.000000000001 :  None\n",
            "    month4Demand : Size=1\n",
            "        Key  : Lower  : Body              : Upper\n",
            "        None : 9500.0 : 9499.999999999993 :  None\n",
            "    month5Demand : Size=1\n",
            "        Key  : Lower   : Body    : Upper\n",
            "        None : 11000.0 : 11000.0 :  None\n",
            "    experMonth1 : Size=1\n",
            "        Key  : Lower : Body : Upper\n",
            "        None :  50.0 : 50.0 :  50.0\n",
            "    experMonth2 : Size=1\n",
            "        Key  : Lower : Body : Upper\n",
            "        None :   0.0 :  0.0 :   0.0\n",
            "    experMonth3 : Size=1\n",
            "        Key  : Lower : Body                   : Upper\n",
            "        None :   0.0 : -7.105427357601002e-15 :   0.0\n",
            "    experMonth4 : Size=1\n",
            "        Key  : Lower : Body                   : Upper\n",
            "        None :   0.0 : -4.973799150320701e-14 :   0.0\n",
            "    experMonth5 : Size=1\n",
            "        Key  : Lower : Body                  : Upper\n",
            "        None :   0.0 : 4.263256414560601e-14 :   0.0\n"
          ]
        }
      ]
    },
    {
      "cell_type": "markdown",
      "source": [
        "# Unbounded\n"
      ],
      "metadata": {
        "id": "3Ch3fajomPjM"
      }
    },
    {
      "cell_type": "code",
      "source": [
        "from pyomo.environ import *\n",
        "\n",
        "#create unbounded object as a concrete unbounded\n",
        "unbounded= ConcreteModel ()\n",
        "\n",
        "#declare variables\n",
        "unbounded.T1 = Var() #no. of trainees to train in month 1\n",
        "unbounded.T2 = Var() #no. of trainees to train in month 2\n",
        "unbounded.T3 = Var() #no. of trainees to train in month 3\n",
        "unbounded.T4 = Var() #no. of trainees to train in month 4\n",
        "unbounded.T5 = Var() #no. of trainees to train in month 5\n",
        "\n",
        "unbounded.E1 = Var(within=NonNegativeReals) #no. of experience techs at the beginning of month 1\n",
        "unbounded.E2 = Var(within=NonNegativeReals) #no. of experience techs at the beginning of month 2\n",
        "unbounded.E3 = Var(within=NonNegativeReals) #no. of experience techs at the beginning of month 3\n",
        "unbounded.E4 = Var(within=NonNegativeReals) #no. of experience techs at the beginning of month 4\n",
        "unbounded.E5 = Var(within=NonNegativeReals) #no. of experience techs at the beginning of month 5\n",
        "\n",
        "#objective function - Minimize the total labor costs\n",
        "unbounded.MinimizeLabourCost = Objective (expr = 1000*unbounded.T1+1000*unbounded.T2+1000*unbounded.T3+1000*unbounded.T4+\n",
        "1000*unbounded.T5+2000*unbounded.E1+2000*unbounded.E2+2000*unbounded.E3+2000*unbounded.E4+2000*unbounded.E5,sense= minimize)\n",
        "\n",
        "# Constraints to make sure we meed demand each month\n",
        "unbounded.month1Demand = Constraint (expr = 160*unbounded.E1 - 50*unbounded.T1 >=6000)\n",
        "unbounded.month2Demand = Constraint (expr = 160*unbounded.E2 - 50*unbounded.T2 >=7000)\n",
        "unbounded.month3Demand = Constraint (expr = 160*unbounded.E3 - 50*unbounded.T3 >=8000)\n",
        "unbounded.month4Demand = Constraint (expr = 160*unbounded.E4 - 50*unbounded.T4 >=9500)\n",
        "unbounded.month5Demand = Constraint (expr = 160*unbounded.E5 - 50*unbounded.T5 >=11000)\n",
        "\n",
        "#Constraints to keep track of the number of experienced technicians at the beginning of each month\n",
        "unbounded.experMonth1 = Constraint (expr = unbounded.E1==50)\n",
        "unbounded.experMonth2 = Constraint (expr = unbounded.E2==0.95*unbounded.E1 + unbounded.T1)\n",
        "unbounded.experMonth3= Constraint (expr = unbounded.E3==0.95*unbounded.E2 + unbounded.T2)\n",
        "unbounded.experMonth4= Constraint (expr = unbounded.E4==0.95*unbounded.E3 + unbounded.T3)\n",
        "unbounded.experMonth5= Constraint (expr = unbounded.E5==0.95*unbounded.E4 + unbounded.T4)\n",
        "\n"
      ],
      "metadata": {
        "id": "sG_jRn4qh6sj"
      },
      "execution_count": null,
      "outputs": []
    },
    {
      "cell_type": "markdown",
      "source": [
        "NOTE: Objective gets \"none\" instead of error."
      ],
      "metadata": {
        "id": "sN9UJ658lIBu"
      }
    },
    {
      "cell_type": "code",
      "source": [
        "#Lines to run the model from within a python IDE\n",
        "optimizer = SolverFactory(\"glpk\",executable='/usr/bin/glpsol')     #creates an optimizer object that uses the glpk package installed to your usr/bin.\n",
        "optimizer.solve(unbounded)                #tells your optimizer to solve the model object\n",
        "unbounded.display()                       #writes results to the console so you can see them"
      ],
      "metadata": {
        "colab": {
          "base_uri": "https://localhost:8080/"
        },
        "id": "CEnFtc8siG-b",
        "outputId": "4c3d0b13-92d5-464e-e0e2-eb5825c989c2"
      },
      "execution_count": null,
      "outputs": [
        {
          "output_type": "stream",
          "name": "stderr",
          "text": [
            "ERROR:pyomo.common.numeric_types:evaluating object as numeric value: T1\n",
            "    (object: <class 'pyomo.core.base.var.ScalarVar'>)\n",
            "No value for uninitialized NumericValue object T1\n",
            "ERROR:pyomo.common.numeric_types:evaluating object as numeric value: MinimizeLabourCost\n",
            "    (object: <class 'pyomo.core.base.objective.ScalarObjective'>)\n",
            "No value for uninitialized NumericValue object T1\n"
          ]
        },
        {
          "output_type": "stream",
          "name": "stdout",
          "text": [
            "Model unknown\n",
            "\n",
            "  Variables:\n",
            "    T1 : Size=1, Index=None\n",
            "        Key  : Lower : Value : Upper : Fixed : Stale : Domain\n",
            "        None :  None :  None :  None : False :  True :  Reals\n",
            "    T2 : Size=1, Index=None\n",
            "        Key  : Lower : Value : Upper : Fixed : Stale : Domain\n",
            "        None :  None :  None :  None : False :  True :  Reals\n",
            "    T3 : Size=1, Index=None\n",
            "        Key  : Lower : Value : Upper : Fixed : Stale : Domain\n",
            "        None :  None :  None :  None : False :  True :  Reals\n",
            "    T4 : Size=1, Index=None\n",
            "        Key  : Lower : Value : Upper : Fixed : Stale : Domain\n",
            "        None :  None :  None :  None : False :  True :  Reals\n",
            "    T5 : Size=1, Index=None\n",
            "        Key  : Lower : Value : Upper : Fixed : Stale : Domain\n",
            "        None :  None :  None :  None : False :  True :  Reals\n",
            "    E1 : Size=1, Index=None\n",
            "        Key  : Lower : Value : Upper : Fixed : Stale : Domain\n",
            "        None :     0 :  None :  None : False :  True : NonNegativeReals\n",
            "    E2 : Size=1, Index=None\n",
            "        Key  : Lower : Value : Upper : Fixed : Stale : Domain\n",
            "        None :     0 :  None :  None : False :  True : NonNegativeReals\n",
            "    E3 : Size=1, Index=None\n",
            "        Key  : Lower : Value : Upper : Fixed : Stale : Domain\n",
            "        None :     0 :  None :  None : False :  True : NonNegativeReals\n",
            "    E4 : Size=1, Index=None\n",
            "        Key  : Lower : Value : Upper : Fixed : Stale : Domain\n",
            "        None :     0 :  None :  None : False :  True : NonNegativeReals\n",
            "    E5 : Size=1, Index=None\n",
            "        Key  : Lower : Value : Upper : Fixed : Stale : Domain\n",
            "        None :     0 :  None :  None : False :  True : NonNegativeReals\n",
            "\n",
            "  Objectives:\n",
            "    MinimizeLabourCost : Size=1, Index=None, Active=True\n",
            "        Key : Active : Value\n",
            "        None :   None :  None\n",
            "\n",
            "  Constraints:\n",
            "    month1Demand : Size=1\n",
            "        Key  : Lower  : Body : Upper\n",
            "        None : 6000.0 : None :  None\n",
            "    month2Demand : Size=1\n",
            "        Key  : Lower  : Body : Upper\n",
            "        None : 7000.0 : None :  None\n",
            "    month3Demand : Size=1\n",
            "        Key  : Lower  : Body : Upper\n",
            "        None : 8000.0 : None :  None\n",
            "    month4Demand : Size=1\n",
            "        Key  : Lower  : Body : Upper\n",
            "        None : 9500.0 : None :  None\n",
            "    month5Demand : Size=1\n",
            "        Key  : Lower   : Body : Upper\n",
            "        None : 11000.0 : None :  None\n",
            "    experMonth1 : Size=1\n",
            "        Key  : Lower : Body : Upper\n",
            "        None :  50.0 : None :  50.0\n",
            "    experMonth2 : Size=1\n",
            "        Key  : Lower : Body : Upper\n",
            "        None :   0.0 : None :   0.0\n",
            "    experMonth3 : Size=1\n",
            "        Key  : Lower : Body : Upper\n",
            "        None :   0.0 : None :   0.0\n",
            "    experMonth4 : Size=1\n",
            "        Key  : Lower : Body : Upper\n",
            "        None :   0.0 : None :   0.0\n",
            "    experMonth5 : Size=1\n",
            "        Key  : Lower : Body : Upper\n",
            "        None :   0.0 : None :   0.0\n"
          ]
        }
      ]
    },
    {
      "cell_type": "markdown",
      "source": [
        "\n",
        "# Install Catches"
      ],
      "metadata": {
        "id": "BMbASAjimJUr"
      }
    },
    {
      "cell_type": "code",
      "source": [
        "from pyomo.opt import SolverStatus, TerminationCondition\n"
      ],
      "metadata": {
        "id": "F0MxlrPLmMn1"
      },
      "execution_count": null,
      "outputs": []
    },
    {
      "cell_type": "markdown",
      "source": [
        "**Delete the \"within=NonNegativeReals\" from T1 - T5 to get it to work**"
      ],
      "metadata": {
        "id": "W8MjNbX7trZX"
      }
    },
    {
      "cell_type": "code",
      "source": [
        "#create unbounded object as a concrete unbounded\n",
        "unbounded= ConcreteModel ()\n",
        "\n",
        "#declare variables\n",
        "unbounded.T1 = Var(within=NonNegativeReals) #no. of trainees to train in month 1\n",
        "unbounded.T2 = Var(within=NonNegativeReals) #no. of trainees to train in month 2\n",
        "unbounded.T3 = Var(within=NonNegativeReals) #no. of trainees to train in month 3\n",
        "unbounded.T4 = Var(within=NonNegativeReals) #no. of trainees to train in month 4\n",
        "unbounded.T5 = Var(within=NonNegativeReals) #no. of trainees to train in month 5\n",
        "\n",
        "unbounded.E1 = Var(within=NonNegativeReals) #no. of experience techs at the beginning of month 1\n",
        "unbounded.E2 = Var(within=NonNegativeReals) #no. of experience techs at the beginning of month 2\n",
        "unbounded.E3 = Var(within=NonNegativeReals) #no. of experience techs at the beginning of month 3\n",
        "unbounded.E4 = Var(within=NonNegativeReals) #no. of experience techs at the beginning of month 4\n",
        "unbounded.E5 = Var(within=NonNegativeReals) #no. of experience techs at the beginning of month 5\n",
        "\n",
        "#objective function - Minimize the total labor costs\n",
        "unbounded.MinimizeLabourCost = Objective (expr = 1000*unbounded.T1+1000*unbounded.T2+1000*unbounded.T3+1000*unbounded.T4+\n",
        "1000*unbounded.T5+2000*unbounded.E1+2000*unbounded.E2+2000*unbounded.E3+2000*unbounded.E4+2000*unbounded.E5,sense= minimize)\n",
        "\n",
        "# Constraints to make sure we meed demand each month\n",
        "unbounded.month1Demand = Constraint (expr = 160*unbounded.E1 - 50*unbounded.T1 >=6000)\n",
        "unbounded.month2Demand = Constraint (expr = 160*unbounded.E2 - 50*unbounded.T2 >=7000)\n",
        "unbounded.month3Demand = Constraint (expr = 160*unbounded.E3 - 50*unbounded.T3 >=8000)\n",
        "unbounded.month4Demand = Constraint (expr = 160*unbounded.E4 - 50*unbounded.T4 >=9500)\n",
        "unbounded.month5Demand = Constraint (expr = 160*unbounded.E5 - 50*unbounded.T5 >=11000)\n",
        "\n",
        "#Constraints to keep track of the number of experienced technicians at the beginning of each month\n",
        "unbounded.experMonth1 = Constraint (expr = unbounded.E1==50)\n",
        "unbounded.experMonth2 = Constraint (expr = unbounded.E2==0.95*unbounded.E1 + unbounded.T1)\n",
        "unbounded.experMonth3= Constraint (expr = unbounded.E3==0.95*unbounded.E2 + unbounded.T2)\n",
        "unbounded.experMonth4= Constraint (expr = unbounded.E4==0.95*unbounded.E3 + unbounded.T3)\n",
        "unbounded.experMonth5= Constraint (expr = unbounded.E5==0.95*unbounded.E4 + unbounded.T4)\n",
        "\n",
        "#Lines to run the model from within a python IDE\n",
        "optimizer = SolverFactory(\"glpk\",executable='/usr/bin/glpsol')     #creates an optimizer object that uses the glpk package installed to your usr/bin.\n"
      ],
      "metadata": {
        "id": "Rln-HDTZm538"
      },
      "execution_count": null,
      "outputs": []
    },
    {
      "cell_type": "code",
      "source": [
        "results=optimizer.solve(unbounded)                #tells your optimizer to solve the model object\n",
        "\n",
        "\n",
        "if(results.solver.status==SolverStatus.ok) and (results.solver.termination_condition.optimal):\n",
        "  #unbounded.display()                       #writes results to the console so you can see them\n",
        "  print(\"\\n\")\n",
        "  print(\"Number of trainees in month 1:\",unbounded.T1())\n",
        "  print(\"Total cost will be:\", unbounded.MinimizeLabourCost())\n",
        "  totalTrainees = unbounded.T1()+unbounded.T2()+unbounded.T3()+unbounded.T4()+unbounded.T5()\n",
        "  print(\"Total cost will be:\", totalTrainees)\n",
        "  print(\"\\t How many Trainees to hire\")\n",
        "  print(\"\\t Month 1\", unbounded.E1())\n",
        "  print(\"\\t Month 2\", unbounded.E2())\n",
        "  print(\"\\t Month 3\", unbounded.E3())\n",
        "  print(\"\\t Month 4\", unbounded.E4())\n",
        "\n",
        "elif(results.solver.termination_condition==TerminationCondition.infeasible) or results.solver.termination_condition==TerminationCondition.other:\n",
        "  print(\"MODEL INFEASIBLE. Check Constraints\")\n",
        "\n",
        "else:\n",
        "  print(\"Solver status\", results.solver.status)\n",
        "  print(\"Termination Condition\", results.solver.termination_condition)"
      ],
      "metadata": {
        "colab": {
          "base_uri": "https://localhost:8080/"
        },
        "id": "w1eOT_lrnViI",
        "outputId": "e3429c84-e411-48c2-bc8d-884ba0ae91f3"
      },
      "execution_count": null,
      "outputs": [
        {
          "output_type": "stream",
          "name": "stdout",
          "text": [
            "\n",
            "\n",
            "Number of trainees in month 1: 0.0\n",
            "Total cost will be: 593776.50965307\n",
            "Total cost will be: 29.421378284221248\n",
            "\t How many Trainees to hire\n",
            "\t Month 1 50.0\n",
            "\t Month 2 47.5\n",
            "\t Month 3 53.578168094063\n",
            "\t Month 4 62.3493975903614\n"
          ]
        }
      ]
    },
    {
      "cell_type": "markdown",
      "source": [
        "# Not in Video\n",
        "\n",
        "1.   How many trainees i'm going to be training\n",
        "2.   how many experienced technicians trained each month\n",
        "3.   Total cost will be"
      ],
      "metadata": {
        "id": "mSL25hFwr0gf"
      }
    }
  ]
}
