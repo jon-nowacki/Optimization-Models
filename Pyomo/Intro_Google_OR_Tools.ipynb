{
  "nbformat": 4,
  "nbformat_minor": 0,
  "metadata": {
    "colab": {
      "provenance": []
    },
    "kernelspec": {
      "name": "python3",
      "display_name": "Python 3"
    },
    "language_info": {
      "name": "python"
    }
  },
  "cells": [
    {
      "cell_type": "markdown",
      "source": [
        "### Google Or Tools\n",
        "Getting started with Google OR\n",
        "\n",
        "\n",
        "* [Getting Started with Google OR](https://developers.google.com/optimization/introduction/python)\n",
        "* [More Python Google OR examples](https://developers.google.com/optimization/introduction/python#more_python_examples)"
      ],
      "metadata": {
        "id": "CYETptaUhmnu"
      }
    },
    {
      "cell_type": "code",
      "source": [
        "!pip install ortools > ortools_install.log"
      ],
      "metadata": {
        "id": "290qYesFh7Zx"
      },
      "execution_count": 13,
      "outputs": []
    },
    {
      "cell_type": "code",
      "source": [
        "from ortools.linear_solver import pywraplp\n"
      ],
      "metadata": {
        "id": "5mqcyti_hmMG"
      },
      "execution_count": 2,
      "outputs": []
    },
    {
      "cell_type": "code",
      "source": [
        "def create_solver():\n",
        "    solver = pywraplp.Solver.CreateSolver(\"GLOP\")\n",
        "    if not solver:\n",
        "        return None  # Return None if solver creation fails\n",
        "    return solver  # Return the solver object if successfully created"
      ],
      "metadata": {
        "id": "nzExpxS9hoNH"
      },
      "execution_count": 6,
      "outputs": []
    },
    {
      "cell_type": "code",
      "source": [
        "# Using the function\n",
        "my_solver = create_solver()\n",
        "\n",
        "if my_solver is None:\n",
        "    print(\"Solver creation failed.\")\n",
        "else:\n",
        "    print(\"Solver created successfully.\")\n",
        "    # Use my_solver for further computations or operations\n"
      ],
      "metadata": {
        "colab": {
          "base_uri": "https://localhost:8080/"
        },
        "id": "gGaXTDbLjfWo",
        "outputId": "e31f1eaa-2347-405b-ba71-bdb382d805e8"
      },
      "execution_count": 7,
      "outputs": [
        {
          "output_type": "stream",
          "name": "stdout",
          "text": [
            "Solver created successfully.\n"
          ]
        }
      ]
    },
    {
      "cell_type": "code",
      "source": [
        "# Create the variables x and y.\n",
        "x = solver.NumVar(0, 1, \"x\")\n",
        "y = solver.NumVar(0, 2, \"y\")\n",
        "\n",
        "print(\"Number of variables =\", solver.NumVariables())"
      ],
      "metadata": {
        "colab": {
          "base_uri": "https://localhost:8080/"
        },
        "id": "x_uAzTmqibMv",
        "outputId": "3810990c-f85c-4ea6-bf76-90b6257f6cbd"
      },
      "execution_count": 8,
      "outputs": [
        {
          "output_type": "stream",
          "name": "stdout",
          "text": [
            "Number of variables = 2\n"
          ]
        }
      ]
    },
    {
      "cell_type": "code",
      "source": [
        "# Create a linear constraint, 0 <= x + y <= 2.\n",
        "ct = solver.Constraint(0, 2, \"ct\")\n",
        "ct.SetCoefficient(x, 1)\n",
        "ct.SetCoefficient(y, 1)\n",
        "\n",
        "print(\"Number of constraints =\", solver.NumConstraints())"
      ],
      "metadata": {
        "colab": {
          "base_uri": "https://localhost:8080/"
        },
        "id": "ZIhCrwPpidC_",
        "outputId": "e502a39f-2729-4c0a-d67a-56309985590f"
      },
      "execution_count": 9,
      "outputs": [
        {
          "output_type": "stream",
          "name": "stdout",
          "text": [
            "Number of constraints = 1\n"
          ]
        }
      ]
    },
    {
      "cell_type": "code",
      "source": [
        "# Create the objective function, 3 * x + y.\n",
        "objective = solver.Objective()\n",
        "objective.SetCoefficient(x, 3)\n",
        "objective.SetCoefficient(y, 1)\n",
        "objective.SetMaximization()"
      ],
      "metadata": {
        "id": "S3PP8fQ9ie0L"
      },
      "execution_count": 10,
      "outputs": []
    },
    {
      "cell_type": "code",
      "source": [
        "print(f\"Solving with {solver.SolverVersion()}\")\n",
        "solver.Solve()\n",
        "print(\"Solution:\")\n",
        "print(\"Objective value =\", objective.Value())\n",
        "print(\"x =\", x.solution_value())\n",
        "print(\"y =\", y.solution_value())"
      ],
      "metadata": {
        "colab": {
          "base_uri": "https://localhost:8080/"
        },
        "id": "9EUJm_V2iglz",
        "outputId": "7fd759c0-1fc7-4ddd-b130-b6ecfee396dc"
      },
      "execution_count": 11,
      "outputs": [
        {
          "output_type": "stream",
          "name": "stdout",
          "text": [
            "Solving with Glop solver v9.8.3296\n",
            "Solution:\n",
            "Objective value = 4.0\n",
            "x = 1.0\n",
            "y = 1.0\n"
          ]
        }
      ]
    },
    {
      "cell_type": "code",
      "source": [
        "from ortools.linear_solver import pywraplp\n",
        "\n",
        "\n",
        "def main():\n",
        "    # Create the linear solver with the GLOP backend.\n",
        "    solver = pywraplp.Solver.CreateSolver(\"GLOP\")\n",
        "    if not solver:\n",
        "        return\n",
        "\n",
        "    # Create the variables x and y.\n",
        "    x = solver.NumVar(0, 1, \"x\")\n",
        "    y = solver.NumVar(0, 2, \"y\")\n",
        "\n",
        "    print(\"Number of variables =\", solver.NumVariables())\n",
        "\n",
        "    # Create a linear constraint, 0 <= x + y <= 2.\n",
        "    ct = solver.Constraint(0, 2, \"ct\")\n",
        "    ct.SetCoefficient(x, 1)\n",
        "    ct.SetCoefficient(y, 1)\n",
        "\n",
        "    print(\"Number of constraints =\", solver.NumConstraints())\n",
        "\n",
        "    # Create the objective function, 3 * x + y.\n",
        "    objective = solver.Objective()\n",
        "    objective.SetCoefficient(x, 3)\n",
        "    objective.SetCoefficient(y, 1)\n",
        "    objective.SetMaximization()\n",
        "\n",
        "    print(f\"Solving with {solver.SolverVersion()}\")\n",
        "    solver.Solve()\n",
        "\n",
        "    print(\"Solution:\")\n",
        "    print(\"Objective value =\", objective.Value())\n",
        "    print(\"x =\", x.solution_value())\n",
        "    print(\"y =\", y.solution_value())\n",
        "\n",
        "\n",
        "if __name__ == \"__main__\":\n",
        "    main()"
      ],
      "metadata": {
        "colab": {
          "base_uri": "https://localhost:8080/"
        },
        "id": "q_MEGmc5iisC",
        "outputId": "ac64d11c-0941-412b-cda3-5f4f89cd26e7"
      },
      "execution_count": 12,
      "outputs": [
        {
          "output_type": "stream",
          "name": "stdout",
          "text": [
            "Number of variables = 2\n",
            "Number of constraints = 1\n",
            "Solving with Glop solver v9.8.3296\n",
            "Solution:\n",
            "Objective value = 4.0\n",
            "x = 1.0\n",
            "y = 1.0\n"
          ]
        }
      ]
    },
    {
      "cell_type": "markdown",
      "source": [
        "### Expected Answer\n",
        "```\n",
        "Solution:\n",
        "x =  1.0\n",
        "y =  1.0\n",
        "```\n",
        "And we got the right Answer"
      ],
      "metadata": {
        "id": "fQ9Ja-jAiuv2"
      }
    },
    {
      "cell_type": "code",
      "source": [],
      "metadata": {
        "id": "1jKBZTtWYLRR"
      },
      "execution_count": null,
      "outputs": []
    }
  ]
}